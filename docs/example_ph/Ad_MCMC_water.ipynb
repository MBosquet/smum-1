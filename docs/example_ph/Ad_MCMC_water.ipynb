{
 "cells": [
  {
   "cell_type": "markdown",
   "metadata": {
    "slideshow": {
     "slide_type": "slide"
    }
   },
   "source": [
    "## 1.d Micro-level Water demand model"
   ]
  },
  {
   "cell_type": "code",
   "execution_count": 1,
   "metadata": {
    "slideshow": {
     "slide_type": "skip"
    }
   },
   "outputs": [
    {
     "name": "stdout",
     "output_type": "stream",
     "text": [
      "2017-10-25 14:39:45.067213\n"
     ]
    }
   ],
   "source": [
    "import datetime; print(datetime.datetime.now())"
   ]
  },
  {
   "cell_type": "markdown",
   "metadata": {
    "slideshow": {
     "slide_type": "slide"
    }
   },
   "source": [
    "**Notebook abstract**\n",
    "\n",
    "A simple micro-level water demand model.\n",
    "\n",
    "A simple micro-level water demand model. Similar to the [income demand model](Ab_MCMC_income.ipynb) and the [electricity demand model](Ac_MCMC_electricity.ipynb), the water demand model uses micro level consumption demand data for the construction of a table model. The table model describes simple rules for the construction of the proxy micro level sample data.  "
   ]
  },
  {
   "cell_type": "markdown",
   "metadata": {
    "slideshow": {
     "slide_type": "slide"
    }
   },
   "source": [
    "### Prior water demand model"
   ]
  },
  {
   "cell_type": "code",
   "execution_count": 2,
   "metadata": {
    "slideshow": {
     "slide_type": "fragment"
    }
   },
   "outputs": [
    {
     "name": "stderr",
     "output_type": "stream",
     "text": [
      "/usr/lib/python3.6/site-packages/statsmodels/compat/pandas.py:56: FutureWarning: The pandas.core.datetools module is deprecated and will be removed in a future version. Please use the pandas.tseries module instead.\n",
      "  from pandas.core import datetools\n"
     ]
    }
   ],
   "source": [
    "import statsmodels.api as sm\n",
    "import pandas as pd\n",
    "import numpy as np\n",
    "from urbanmetabolism._scripts.micro import compute_categories, change_index"
   ]
  },
  {
   "cell_type": "code",
   "execution_count": 3,
   "metadata": {
    "collapsed": true,
    "slideshow": {
     "slide_type": "fragment"
    }
   },
   "outputs": [],
   "source": [
    "water_data = pd.read_csv('data/water.csv', index_col=0)\n",
    "formula = \"Water_expenditure ~ Total_Family_Income + Family_Size + C(HH_head_Sex)\\\n",
    "+ HH_head_Age + C(Education) + C(Urbanity)\""
   ]
  },
  {
   "cell_type": "code",
   "execution_count": 4,
   "metadata": {
    "slideshow": {
     "slide_type": "fragment"
    }
   },
   "outputs": [
    {
     "data": {
      "text/html": [
       "<div>\n",
       "<style>\n",
       "    .dataframe thead tr:only-child th {\n",
       "        text-align: right;\n",
       "    }\n",
       "\n",
       "    .dataframe thead th {\n",
       "        text-align: left;\n",
       "    }\n",
       "\n",
       "    .dataframe tbody tr th {\n",
       "        vertical-align: top;\n",
       "    }\n",
       "</style>\n",
       "<table border=\"1\" class=\"dataframe\">\n",
       "  <thead>\n",
       "    <tr style=\"text-align: right;\">\n",
       "      <th></th>\n",
       "      <th>Family_Size</th>\n",
       "      <th>HH_head_Sex</th>\n",
       "      <th>HH_head_Age</th>\n",
       "      <th>Education</th>\n",
       "      <th>Electricity_expenditure</th>\n",
       "      <th>Water_expenditure</th>\n",
       "      <th>Total_Family_Income</th>\n",
       "      <th>Urbanity</th>\n",
       "    </tr>\n",
       "  </thead>\n",
       "  <tbody>\n",
       "    <tr>\n",
       "      <th>3</th>\n",
       "      <td>2.0</td>\n",
       "      <td>2</td>\n",
       "      <td>51</td>\n",
       "      <td>1.0</td>\n",
       "      <td>900</td>\n",
       "      <td>2190</td>\n",
       "      <td>9932.333333</td>\n",
       "      <td>0</td>\n",
       "    </tr>\n",
       "    <tr>\n",
       "      <th>9</th>\n",
       "      <td>3.5</td>\n",
       "      <td>1</td>\n",
       "      <td>41</td>\n",
       "      <td>4.0</td>\n",
       "      <td>17202</td>\n",
       "      <td>300</td>\n",
       "      <td>47233.833333</td>\n",
       "      <td>0</td>\n",
       "    </tr>\n",
       "    <tr>\n",
       "      <th>11</th>\n",
       "      <td>3.0</td>\n",
       "      <td>2</td>\n",
       "      <td>75</td>\n",
       "      <td>1.0</td>\n",
       "      <td>4212</td>\n",
       "      <td>3024</td>\n",
       "      <td>16521.333333</td>\n",
       "      <td>0</td>\n",
       "    </tr>\n",
       "    <tr>\n",
       "      <th>12</th>\n",
       "      <td>4.5</td>\n",
       "      <td>1</td>\n",
       "      <td>74</td>\n",
       "      <td>1.0</td>\n",
       "      <td>6210</td>\n",
       "      <td>4086</td>\n",
       "      <td>20254.333333</td>\n",
       "      <td>0</td>\n",
       "    </tr>\n",
       "    <tr>\n",
       "      <th>13</th>\n",
       "      <td>6.5</td>\n",
       "      <td>2</td>\n",
       "      <td>55</td>\n",
       "      <td>2.0</td>\n",
       "      <td>3900</td>\n",
       "      <td>2940</td>\n",
       "      <td>16368.000000</td>\n",
       "      <td>0</td>\n",
       "    </tr>\n",
       "  </tbody>\n",
       "</table>\n",
       "</div>"
      ],
      "text/plain": [
       "    Family_Size  HH_head_Sex  HH_head_Age  Education  Electricity_expenditure  \\\n",
       "3           2.0            2           51        1.0                      900   \n",
       "9           3.5            1           41        4.0                    17202   \n",
       "11          3.0            2           75        1.0                     4212   \n",
       "12          4.5            1           74        1.0                     6210   \n",
       "13          6.5            2           55        2.0                     3900   \n",
       "\n",
       "    Water_expenditure  Total_Family_Income  Urbanity  \n",
       "3                2190          9932.333333         0  \n",
       "9                 300         47233.833333         0  \n",
       "11               3024         16521.333333         0  \n",
       "12               4086         20254.333333         0  \n",
       "13               2940         16368.000000         0  "
      ]
     },
     "execution_count": 4,
     "metadata": {},
     "output_type": "execute_result"
    }
   ],
   "source": [
    "water_data.head()"
   ]
  },
  {
   "cell_type": "code",
   "execution_count": 5,
   "metadata": {
    "collapsed": true,
    "slideshow": {
     "slide_type": "fragment"
    }
   },
   "outputs": [],
   "source": [
    "model_water = sm.WLS.from_formula(formula, water_data)\n",
    "model_results_water = model_water.fit()"
   ]
  },
  {
   "cell_type": "code",
   "execution_count": 6,
   "metadata": {
    "slideshow": {
     "slide_type": "slide"
    }
   },
   "outputs": [
    {
     "data": {
      "text/html": [
       "<table class=\"simpletable\">\n",
       "<caption>WLS Regression Results</caption>\n",
       "<tr>\n",
       "  <th>Dep. Variable:</th>    <td>Water_expenditure</td> <th>  R-squared:         </th>  <td>   0.344</td>  \n",
       "</tr>\n",
       "<tr>\n",
       "  <th>Model:</th>                   <td>WLS</td>        <th>  Adj. R-squared:    </th>  <td>   0.344</td>  \n",
       "</tr>\n",
       "<tr>\n",
       "  <th>Method:</th>             <td>Least Squares</td>   <th>  F-statistic:       </th>  <td>   925.6</td>  \n",
       "</tr>\n",
       "<tr>\n",
       "  <th>Date:</th>             <td>Mon, 23 Oct 2017</td>  <th>  Prob (F-statistic):</th>   <td>  0.00</td>   \n",
       "</tr>\n",
       "<tr>\n",
       "  <th>Time:</th>                 <td>18:02:49</td>      <th>  Log-Likelihood:    </th> <td>-1.3853e+05</td>\n",
       "</tr>\n",
       "<tr>\n",
       "  <th>No. Observations:</th>      <td> 15904</td>       <th>  AIC:               </th>  <td>2.771e+05</td> \n",
       "</tr>\n",
       "<tr>\n",
       "  <th>Df Residuals:</th>          <td> 15894</td>       <th>  BIC:               </th>  <td>2.771e+05</td> \n",
       "</tr>\n",
       "<tr>\n",
       "  <th>Df Model:</th>              <td>     9</td>       <th>                     </th>      <td> </td>     \n",
       "</tr>\n",
       "<tr>\n",
       "  <th>Covariance Type:</th>      <td>nonrobust</td>     <th>                     </th>      <td> </td>     \n",
       "</tr>\n",
       "</table>\n",
       "<table class=\"simpletable\">\n",
       "<tr>\n",
       "           <td></td>              <th>coef</th>     <th>std err</th>      <th>t</th>      <th>P>|t|</th>  <th>[0.025</th>    <th>0.975]</th>  \n",
       "</tr>\n",
       "<tr>\n",
       "  <th>Intercept</th>           <td> -601.5920</td> <td>   62.632</td> <td>   -9.605</td> <td> 0.000</td> <td> -724.358</td> <td> -478.826</td>\n",
       "</tr>\n",
       "<tr>\n",
       "  <th>C(HH_head_Sex)[T.2]</th> <td>   98.4950</td> <td>   29.444</td> <td>    3.345</td> <td> 0.001</td> <td>   40.782</td> <td>  156.208</td>\n",
       "</tr>\n",
       "<tr>\n",
       "  <th>C(Education)[T.2.0]</th> <td>  214.4011</td> <td>   28.816</td> <td>    7.440</td> <td> 0.000</td> <td>  157.919</td> <td>  270.883</td>\n",
       "</tr>\n",
       "<tr>\n",
       "  <th>C(Education)[T.3.0]</th> <td>  260.3273</td> <td>   40.057</td> <td>    6.499</td> <td> 0.000</td> <td>  181.810</td> <td>  338.844</td>\n",
       "</tr>\n",
       "<tr>\n",
       "  <th>C(Education)[T.4.0]</th> <td>  101.7028</td> <td>   49.996</td> <td>    2.034</td> <td> 0.042</td> <td>    3.705</td> <td>  199.700</td>\n",
       "</tr>\n",
       "<tr>\n",
       "  <th>C(Education)[T.5.0]</th> <td>   40.1879</td> <td>  119.681</td> <td>    0.336</td> <td> 0.737</td> <td> -194.400</td> <td>  274.775</td>\n",
       "</tr>\n",
       "<tr>\n",
       "  <th>C(Urbanity)[T.1]</th>    <td> 1000.9789</td> <td>   25.416</td> <td>   39.384</td> <td> 0.000</td> <td>  951.161</td> <td> 1050.797</td>\n",
       "</tr>\n",
       "<tr>\n",
       "  <th>Total_Family_Income</th> <td>    0.0532</td> <td>    0.001</td> <td>   54.145</td> <td> 0.000</td> <td>    0.051</td> <td>    0.055</td>\n",
       "</tr>\n",
       "<tr>\n",
       "  <th>Family_Size</th>         <td>   49.7394</td> <td>    5.898</td> <td>    8.434</td> <td> 0.000</td> <td>   38.179</td> <td>   61.300</td>\n",
       "</tr>\n",
       "<tr>\n",
       "  <th>HH_head_Age</th>         <td>    6.0889</td> <td>    0.913</td> <td>    6.671</td> <td> 0.000</td> <td>    4.300</td> <td>    7.878</td>\n",
       "</tr>\n",
       "</table>\n",
       "<table class=\"simpletable\">\n",
       "<tr>\n",
       "  <th>Omnibus:</th>       <td>3226.790</td> <th>  Durbin-Watson:     </th> <td>   1.399</td>\n",
       "</tr>\n",
       "<tr>\n",
       "  <th>Prob(Omnibus):</th>  <td> 0.000</td>  <th>  Jarque-Bera (JB):  </th> <td>7597.976</td>\n",
       "</tr>\n",
       "<tr>\n",
       "  <th>Skew:</th>           <td> 1.142</td>  <th>  Prob(JB):          </th> <td>    0.00</td>\n",
       "</tr>\n",
       "<tr>\n",
       "  <th>Kurtosis:</th>       <td> 5.499</td>  <th>  Cond. No.          </th> <td>3.10e+05</td>\n",
       "</tr>\n",
       "</table>"
      ],
      "text/plain": [
       "<class 'statsmodels.iolib.summary.Summary'>\n",
       "\"\"\"\n",
       "                            WLS Regression Results                            \n",
       "==============================================================================\n",
       "Dep. Variable:      Water_expenditure   R-squared:                       0.344\n",
       "Model:                            WLS   Adj. R-squared:                  0.344\n",
       "Method:                 Least Squares   F-statistic:                     925.6\n",
       "Date:                Mon, 23 Oct 2017   Prob (F-statistic):               0.00\n",
       "Time:                        18:02:49   Log-Likelihood:            -1.3853e+05\n",
       "No. Observations:               15904   AIC:                         2.771e+05\n",
       "Df Residuals:                   15894   BIC:                         2.771e+05\n",
       "Df Model:                           9                                         \n",
       "Covariance Type:            nonrobust                                         \n",
       "=======================================================================================\n",
       "                          coef    std err          t      P>|t|      [0.025      0.975]\n",
       "---------------------------------------------------------------------------------------\n",
       "Intercept            -601.5920     62.632     -9.605      0.000    -724.358    -478.826\n",
       "C(HH_head_Sex)[T.2]    98.4950     29.444      3.345      0.001      40.782     156.208\n",
       "C(Education)[T.2.0]   214.4011     28.816      7.440      0.000     157.919     270.883\n",
       "C(Education)[T.3.0]   260.3273     40.057      6.499      0.000     181.810     338.844\n",
       "C(Education)[T.4.0]   101.7028     49.996      2.034      0.042       3.705     199.700\n",
       "C(Education)[T.5.0]    40.1879    119.681      0.336      0.737    -194.400     274.775\n",
       "C(Urbanity)[T.1]     1000.9789     25.416     39.384      0.000     951.161    1050.797\n",
       "Total_Family_Income     0.0532      0.001     54.145      0.000       0.051       0.055\n",
       "Family_Size            49.7394      5.898      8.434      0.000      38.179      61.300\n",
       "HH_head_Age             6.0889      0.913      6.671      0.000       4.300       7.878\n",
       "==============================================================================\n",
       "Omnibus:                     3226.790   Durbin-Watson:                   1.399\n",
       "Prob(Omnibus):                  0.000   Jarque-Bera (JB):             7597.976\n",
       "Skew:                           1.142   Prob(JB):                         0.00\n",
       "Kurtosis:                       5.499   Cond. No.                     3.10e+05\n",
       "==============================================================================\n",
       "\n",
       "Warnings:\n",
       "[1] Standard Errors assume that the covariance matrix of the errors is correctly specified.\n",
       "[2] The condition number is large, 3.1e+05. This might indicate that there are\n",
       "strong multicollinearity or other numerical problems.\n",
       "\"\"\""
      ]
     },
     "execution_count": 6,
     "metadata": {},
     "output_type": "execute_result"
    }
   ],
   "source": [
    "model_results_water.summary()"
   ]
  },
  {
   "cell_type": "code",
   "execution_count": 7,
   "metadata": {
    "collapsed": true,
    "slideshow": {
     "slide_type": "slide"
    }
   },
   "outputs": [],
   "source": [
    "params_water = change_index(model_results_water.params)\n",
    "bse_water = change_index(model_results_water.bse)\n",
    "water = pd.concat([params_water, bse_water], axis=1)\n",
    "water.columns = ['co_mu', 'co_sd']\n",
    "water = compute_categories(water)"
   ]
  },
  {
   "cell_type": "code",
   "execution_count": 8,
   "metadata": {
    "collapsed": true,
    "slideshow": {
     "slide_type": "fragment"
    }
   },
   "outputs": [],
   "source": [
    "water.loc['Urbanity', 'p'] = (water_data.Urbanity == 1).sum() / water_data.shape[0]\n",
    "water.loc['Sex', 'p'] = (water_data.HH_head_Sex == 2).sum() / water_data.shape[0]"
   ]
  },
  {
   "cell_type": "code",
   "execution_count": 9,
   "metadata": {
    "collapsed": true,
    "slideshow": {
     "slide_type": "fragment"
    }
   },
   "outputs": [],
   "source": [
    "water.loc[:,'dis'] = 'None'\n",
    "water.loc['Education', 'dis'] = 'None;i;Categorical'\n",
    "water.loc['Intercept', 'dis'] = 'Deterministic'"
   ]
  },
  {
   "cell_type": "code",
   "execution_count": 10,
   "metadata": {
    "collapsed": true,
    "slideshow": {
     "slide_type": "fragment"
    }
   },
   "outputs": [],
   "source": [
    "water.loc[:, 'mu'] = np.nan\n",
    "water.loc[:, 'sd'] = np.nan\n",
    "water.loc['Intercept', 'p'] = water.loc['Intercept', 'co_mu']\n",
    "water.loc['Intercept', ['co_mu', 'co_sd']] = np.nan"
   ]
  },
  {
   "cell_type": "code",
   "execution_count": 11,
   "metadata": {
    "collapsed": true,
    "slideshow": {
     "slide_type": "fragment"
    }
   },
   "outputs": [],
   "source": [
    "water.loc[:,'ub'] = np.nan\n",
    "water.loc[:,'lb'] = np.nan"
   ]
  },
  {
   "cell_type": "code",
   "execution_count": 12,
   "metadata": {
    "collapsed": true,
    "slideshow": {
     "slide_type": "fragment"
    }
   },
   "outputs": [],
   "source": [
    "water.index = ['w_'+i for i in water.index]"
   ]
  },
  {
   "cell_type": "code",
   "execution_count": 13,
   "metadata": {
    "collapsed": true,
    "slideshow": {
     "slide_type": "slide"
    }
   },
   "outputs": [],
   "source": [
    "water.to_csv('data/table_water.csv')"
   ]
  },
  {
   "cell_type": "code",
   "execution_count": 14,
   "metadata": {
    "slideshow": {
     "slide_type": "fragment"
    }
   },
   "outputs": [
    {
     "data": {
      "text/html": [
       "<div>\n",
       "<style>\n",
       "    .dataframe thead tr:only-child th {\n",
       "        text-align: right;\n",
       "    }\n",
       "\n",
       "    .dataframe thead th {\n",
       "        text-align: left;\n",
       "    }\n",
       "\n",
       "    .dataframe tbody tr th {\n",
       "        vertical-align: top;\n",
       "    }\n",
       "</style>\n",
       "<table border=\"1\" class=\"dataframe\">\n",
       "  <thead>\n",
       "    <tr style=\"text-align: right;\">\n",
       "      <th></th>\n",
       "      <th>co_mu</th>\n",
       "      <th>co_sd</th>\n",
       "      <th>p</th>\n",
       "      <th>dis</th>\n",
       "      <th>mu</th>\n",
       "      <th>sd</th>\n",
       "      <th>ub</th>\n",
       "      <th>lb</th>\n",
       "    </tr>\n",
       "  </thead>\n",
       "  <tbody>\n",
       "    <tr>\n",
       "      <th>w_Intercept</th>\n",
       "      <td>NaN</td>\n",
       "      <td>NaN</td>\n",
       "      <td>-601.591950</td>\n",
       "      <td>Deterministic</td>\n",
       "      <td>NaN</td>\n",
       "      <td>NaN</td>\n",
       "      <td>NaN</td>\n",
       "      <td>NaN</td>\n",
       "    </tr>\n",
       "    <tr>\n",
       "      <th>w_Sex</th>\n",
       "      <td>98.495</td>\n",
       "      <td>29.4438</td>\n",
       "      <td>0.224786</td>\n",
       "      <td>None</td>\n",
       "      <td>NaN</td>\n",
       "      <td>NaN</td>\n",
       "      <td>NaN</td>\n",
       "      <td>NaN</td>\n",
       "    </tr>\n",
       "    <tr>\n",
       "      <th>w_Urbanity</th>\n",
       "      <td>1000.98</td>\n",
       "      <td>25.4159</td>\n",
       "      <td>0.593939</td>\n",
       "      <td>None</td>\n",
       "      <td>NaN</td>\n",
       "      <td>NaN</td>\n",
       "      <td>NaN</td>\n",
       "      <td>NaN</td>\n",
       "    </tr>\n",
       "    <tr>\n",
       "      <th>w_Total_Family_Income</th>\n",
       "      <td>0.053187</td>\n",
       "      <td>0.000982306</td>\n",
       "      <td>NaN</td>\n",
       "      <td>None</td>\n",
       "      <td>NaN</td>\n",
       "      <td>NaN</td>\n",
       "      <td>NaN</td>\n",
       "      <td>NaN</td>\n",
       "    </tr>\n",
       "    <tr>\n",
       "      <th>w_FamilySize</th>\n",
       "      <td>49.7394</td>\n",
       "      <td>5.89779</td>\n",
       "      <td>NaN</td>\n",
       "      <td>None</td>\n",
       "      <td>NaN</td>\n",
       "      <td>NaN</td>\n",
       "      <td>NaN</td>\n",
       "      <td>NaN</td>\n",
       "    </tr>\n",
       "    <tr>\n",
       "      <th>w_Age</th>\n",
       "      <td>6.08894</td>\n",
       "      <td>0.912741</td>\n",
       "      <td>NaN</td>\n",
       "      <td>None</td>\n",
       "      <td>NaN</td>\n",
       "      <td>NaN</td>\n",
       "      <td>NaN</td>\n",
       "      <td>NaN</td>\n",
       "    </tr>\n",
       "    <tr>\n",
       "      <th>w_Education</th>\n",
       "      <td>1.0,214.401145313,260.327274277,101.70283943,4...</td>\n",
       "      <td>1e-10,28.8158024405,40.0574490885,49.995759305...</td>\n",
       "      <td>NaN</td>\n",
       "      <td>None;i;Categorical</td>\n",
       "      <td>NaN</td>\n",
       "      <td>NaN</td>\n",
       "      <td>NaN</td>\n",
       "      <td>NaN</td>\n",
       "    </tr>\n",
       "  </tbody>\n",
       "</table>\n",
       "</div>"
      ],
      "text/plain": [
       "                                                                   co_mu  \\\n",
       "w_Intercept                                                          NaN   \n",
       "w_Sex                                                             98.495   \n",
       "w_Urbanity                                                       1000.98   \n",
       "w_Total_Family_Income                                           0.053187   \n",
       "w_FamilySize                                                     49.7394   \n",
       "w_Age                                                            6.08894   \n",
       "w_Education            1.0,214.401145313,260.327274277,101.70283943,4...   \n",
       "\n",
       "                                                                   co_sd  \\\n",
       "w_Intercept                                                          NaN   \n",
       "w_Sex                                                            29.4438   \n",
       "w_Urbanity                                                       25.4159   \n",
       "w_Total_Family_Income                                        0.000982306   \n",
       "w_FamilySize                                                     5.89779   \n",
       "w_Age                                                           0.912741   \n",
       "w_Education            1e-10,28.8158024405,40.0574490885,49.995759305...   \n",
       "\n",
       "                                p                 dis  mu  sd  ub  lb  \n",
       "w_Intercept           -601.591950       Deterministic NaN NaN NaN NaN  \n",
       "w_Sex                    0.224786                None NaN NaN NaN NaN  \n",
       "w_Urbanity               0.593939                None NaN NaN NaN NaN  \n",
       "w_Total_Family_Income         NaN                None NaN NaN NaN NaN  \n",
       "w_FamilySize                  NaN                None NaN NaN NaN NaN  \n",
       "w_Age                         NaN                None NaN NaN NaN NaN  \n",
       "w_Education                   NaN  None;i;Categorical NaN NaN NaN NaN  "
      ]
     },
     "execution_count": 14,
     "metadata": {},
     "output_type": "execute_result"
    }
   ],
   "source": [
    "water"
   ]
  },
  {
   "cell_type": "markdown",
   "metadata": {
    "slideshow": {
     "slide_type": "slide"
    }
   },
   "source": [
    "-----\n",
    "\n",
    "[UN Environment](http://www.unep.org/)\n",
    "\n",
    "[Home](Welcome.ipynb)\n",
    "\n",
    "[Next](Ae_MCMC_nonres.ipynb) (1.e) Micro-level Non-Residential model"
   ]
  }
 ],
 "metadata": {
  "kernelspec": {
   "display_name": "Python 3",
   "language": "python",
   "name": "python3"
  },
  "language_info": {
   "codemirror_mode": {
    "name": "ipython",
    "version": 3
   },
   "file_extension": ".py",
   "mimetype": "text/x-python",
   "name": "python",
   "nbconvert_exporter": "python",
   "pygments_lexer": "ipython3",
   "version": "3.6.4"
  }
 },
 "nbformat": 4,
 "nbformat_minor": 2
}
