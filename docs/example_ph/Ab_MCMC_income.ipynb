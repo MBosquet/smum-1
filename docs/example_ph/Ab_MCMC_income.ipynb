{
 "cells": [
  {
   "cell_type": "markdown",
   "metadata": {
    "slideshow": {
     "slide_type": "slide"
    }
   },
   "source": [
    "## Step 1.b Micro-level Income model"
   ]
  },
  {
   "cell_type": "code",
   "execution_count": 1,
   "metadata": {
    "slideshow": {
     "slide_type": "skip"
    }
   },
   "outputs": [
    {
     "name": "stdout",
     "output_type": "stream",
     "text": [
      "2017-10-25 14:37:54.542583\n"
     ]
    }
   ],
   "source": [
    "import datetime; print(datetime.datetime.now())"
   ]
  },
  {
   "cell_type": "markdown",
   "metadata": {
    "slideshow": {
     "slide_type": "slide"
    }
   },
   "source": [
    "**Notebook Abstract:**\n",
    "\n",
    "A simple micro-level income model. The following notebook presents the defined income model for the simulation.\n",
    "\n",
    "The model computes income levels for each household on the proxy sample data.\n",
    "The data used for the estimation of income drivers and their corresponding coefficients is the **Philippines Family Income and Expenditure Survey 2009**."
   ]
  },
  {
   "cell_type": "markdown",
   "metadata": {
    "slideshow": {
     "slide_type": "slide"
    }
   },
   "source": [
    "### Prior income model"
   ]
  },
  {
   "cell_type": "code",
   "execution_count": 19,
   "metadata": {
    "collapsed": true,
    "slideshow": {
     "slide_type": "fragment"
    }
   },
   "outputs": [],
   "source": [
    "import statsmodels.api as sm\n",
    "import pandas as pd\n",
    "import numpy as np\n",
    "from urbanmetabolism._scripts.micro import compute_categories, change_index"
   ]
  },
  {
   "cell_type": "code",
   "execution_count": 20,
   "metadata": {
    "collapsed": true,
    "slideshow": {
     "slide_type": "fragment"
    }
   },
   "outputs": [],
   "source": [
    "income_data = pd.read_csv('data/income.csv', index_col=0)\n",
    "formula = \"Total_Family_Income ~\\\n",
    "Family_Size + C(HH_head_Sex) + HH_head_Age + C(Education) + C(Urbanity)\""
   ]
  },
  {
   "cell_type": "code",
   "execution_count": 21,
   "metadata": {
    "slideshow": {
     "slide_type": "fragment"
    }
   },
   "outputs": [
    {
     "data": {
      "text/html": [
       "<div>\n",
       "<style>\n",
       "    .dataframe thead tr:only-child th {\n",
       "        text-align: right;\n",
       "    }\n",
       "\n",
       "    .dataframe thead th {\n",
       "        text-align: left;\n",
       "    }\n",
       "\n",
       "    .dataframe tbody tr th {\n",
       "        vertical-align: top;\n",
       "    }\n",
       "</style>\n",
       "<table border=\"1\" class=\"dataframe\">\n",
       "  <thead>\n",
       "    <tr style=\"text-align: right;\">\n",
       "      <th></th>\n",
       "      <th>Family_Size</th>\n",
       "      <th>HH_head_Sex</th>\n",
       "      <th>HH_head_Age</th>\n",
       "      <th>Education</th>\n",
       "      <th>Electricity_expenditure</th>\n",
       "      <th>Water_expenditure</th>\n",
       "      <th>Total_Family_Income</th>\n",
       "      <th>Urbanity</th>\n",
       "    </tr>\n",
       "  </thead>\n",
       "  <tbody>\n",
       "    <tr>\n",
       "      <th>0</th>\n",
       "      <td>5.5</td>\n",
       "      <td>1</td>\n",
       "      <td>52</td>\n",
       "      <td>2.0</td>\n",
       "      <td>1500</td>\n",
       "      <td>0</td>\n",
       "      <td>23939.666667</td>\n",
       "      <td>0</td>\n",
       "    </tr>\n",
       "    <tr>\n",
       "      <th>1</th>\n",
       "      <td>7.5</td>\n",
       "      <td>1</td>\n",
       "      <td>70</td>\n",
       "      <td>1.0</td>\n",
       "      <td>1608</td>\n",
       "      <td>0</td>\n",
       "      <td>16078.166667</td>\n",
       "      <td>0</td>\n",
       "    </tr>\n",
       "    <tr>\n",
       "      <th>2</th>\n",
       "      <td>3.0</td>\n",
       "      <td>1</td>\n",
       "      <td>49</td>\n",
       "      <td>2.0</td>\n",
       "      <td>8880</td>\n",
       "      <td>0</td>\n",
       "      <td>20925.000000</td>\n",
       "      <td>0</td>\n",
       "    </tr>\n",
       "    <tr>\n",
       "      <th>3</th>\n",
       "      <td>2.0</td>\n",
       "      <td>2</td>\n",
       "      <td>51</td>\n",
       "      <td>1.0</td>\n",
       "      <td>900</td>\n",
       "      <td>2190</td>\n",
       "      <td>9932.333333</td>\n",
       "      <td>0</td>\n",
       "    </tr>\n",
       "    <tr>\n",
       "      <th>4</th>\n",
       "      <td>6.0</td>\n",
       "      <td>1</td>\n",
       "      <td>36</td>\n",
       "      <td>1.0</td>\n",
       "      <td>3360</td>\n",
       "      <td>0</td>\n",
       "      <td>13589.500000</td>\n",
       "      <td>0</td>\n",
       "    </tr>\n",
       "  </tbody>\n",
       "</table>\n",
       "</div>"
      ],
      "text/plain": [
       "   Family_Size  HH_head_Sex  HH_head_Age  Education  Electricity_expenditure  \\\n",
       "0          5.5            1           52        2.0                     1500   \n",
       "1          7.5            1           70        1.0                     1608   \n",
       "2          3.0            1           49        2.0                     8880   \n",
       "3          2.0            2           51        1.0                      900   \n",
       "4          6.0            1           36        1.0                     3360   \n",
       "\n",
       "   Water_expenditure  Total_Family_Income  Urbanity  \n",
       "0                  0         23939.666667         0  \n",
       "1                  0         16078.166667         0  \n",
       "2                  0         20925.000000         0  \n",
       "3               2190          9932.333333         0  \n",
       "4                  0         13589.500000         0  "
      ]
     },
     "execution_count": 21,
     "metadata": {},
     "output_type": "execute_result"
    }
   ],
   "source": [
    "income_data.head()"
   ]
  },
  {
   "cell_type": "code",
   "execution_count": 22,
   "metadata": {
    "collapsed": true,
    "slideshow": {
     "slide_type": "fragment"
    }
   },
   "outputs": [],
   "source": [
    "model_inc = sm.WLS.from_formula(formula, income_data)\n",
    "model_results_inc = model_inc.fit()"
   ]
  },
  {
   "cell_type": "code",
   "execution_count": 23,
   "metadata": {
    "slideshow": {
     "slide_type": "slide"
    }
   },
   "outputs": [
    {
     "data": {
      "text/html": [
       "<table class=\"simpletable\">\n",
       "<caption>WLS Regression Results</caption>\n",
       "<tr>\n",
       "  <th>Dep. Variable:</th>    <td>Total_Family_Income</td> <th>  R-squared:         </th>  <td>   0.315</td>  \n",
       "</tr>\n",
       "<tr>\n",
       "  <th>Model:</th>                    <td>WLS</td>         <th>  Adj. R-squared:    </th>  <td>   0.315</td>  \n",
       "</tr>\n",
       "<tr>\n",
       "  <th>Method:</th>              <td>Least Squares</td>    <th>  F-statistic:       </th>  <td>   1908.</td>  \n",
       "</tr>\n",
       "<tr>\n",
       "  <th>Date:</th>              <td>Mon, 23 Oct 2017</td>   <th>  Prob (F-statistic):</th>   <td>  0.00</td>   \n",
       "</tr>\n",
       "<tr>\n",
       "  <th>Time:</th>                  <td>16:37:05</td>       <th>  Log-Likelihood:    </th> <td>-3.5601e+05</td>\n",
       "</tr>\n",
       "<tr>\n",
       "  <th>No. Observations:</th>       <td> 33208</td>        <th>  AIC:               </th>  <td>7.120e+05</td> \n",
       "</tr>\n",
       "<tr>\n",
       "  <th>Df Residuals:</th>           <td> 33199</td>        <th>  BIC:               </th>  <td>7.121e+05</td> \n",
       "</tr>\n",
       "<tr>\n",
       "  <th>Df Model:</th>               <td>     8</td>        <th>                     </th>      <td> </td>     \n",
       "</tr>\n",
       "<tr>\n",
       "  <th>Covariance Type:</th>       <td>nonrobust</td>      <th>                     </th>      <td> </td>     \n",
       "</tr>\n",
       "</table>\n",
       "<table class=\"simpletable\">\n",
       "<tr>\n",
       "           <td></td>              <th>coef</th>     <th>std err</th>      <th>t</th>      <th>P>|t|</th>  <th>[0.025</th>    <th>0.975]</th>  \n",
       "</tr>\n",
       "<tr>\n",
       "  <th>Intercept</th>           <td> 1147.6640</td> <td>  313.997</td> <td>    3.655</td> <td> 0.000</td> <td>  532.218</td> <td> 1763.110</td>\n",
       "</tr>\n",
       "<tr>\n",
       "  <th>C(HH_head_Sex)[T.2]</th> <td>  919.0121</td> <td>  161.503</td> <td>    5.690</td> <td> 0.000</td> <td>  602.460</td> <td> 1235.565</td>\n",
       "</tr>\n",
       "<tr>\n",
       "  <th>C(Education)[T.2.0]</th> <td> 6023.8625</td> <td>  140.904</td> <td>   42.751</td> <td> 0.000</td> <td> 5747.685</td> <td> 6300.040</td>\n",
       "</tr>\n",
       "<tr>\n",
       "  <th>C(Education)[T.3.0]</th> <td> 1.196e+04</td> <td>  217.209</td> <td>   55.058</td> <td> 0.000</td> <td> 1.15e+04</td> <td> 1.24e+04</td>\n",
       "</tr>\n",
       "<tr>\n",
       "  <th>C(Education)[T.4.0]</th> <td> 1.873e+04</td> <td>  282.176</td> <td>   66.368</td> <td> 0.000</td> <td> 1.82e+04</td> <td> 1.93e+04</td>\n",
       "</tr>\n",
       "<tr>\n",
       "  <th>C(Education)[T.5.0]</th> <td> 1.679e+04</td> <td>  742.048</td> <td>   22.624</td> <td> 0.000</td> <td> 1.53e+04</td> <td> 1.82e+04</td>\n",
       "</tr>\n",
       "<tr>\n",
       "  <th>C(Urbanity)[T.1]</th>    <td> 7105.2245</td> <td>  127.941</td> <td>   55.535</td> <td> 0.000</td> <td> 6854.455</td> <td> 7355.994</td>\n",
       "</tr>\n",
       "<tr>\n",
       "  <th>Family_Size</th>         <td> 1666.8464</td> <td>   29.035</td> <td>   57.409</td> <td> 0.000</td> <td> 1609.937</td> <td> 1723.756</td>\n",
       "</tr>\n",
       "<tr>\n",
       "  <th>HH_head_Age</th>         <td>  116.5759</td> <td>    4.681</td> <td>   24.902</td> <td> 0.000</td> <td>  107.400</td> <td>  125.752</td>\n",
       "</tr>\n",
       "</table>\n",
       "<table class=\"simpletable\">\n",
       "<tr>\n",
       "  <th>Omnibus:</th>       <td>3597.783</td> <th>  Durbin-Watson:     </th> <td>   1.606</td>\n",
       "</tr>\n",
       "<tr>\n",
       "  <th>Prob(Omnibus):</th>  <td> 0.000</td>  <th>  Jarque-Bera (JB):  </th> <td>4994.573</td>\n",
       "</tr>\n",
       "<tr>\n",
       "  <th>Skew:</th>           <td> 0.865</td>  <th>  Prob(JB):          </th> <td>    0.00</td>\n",
       "</tr>\n",
       "<tr>\n",
       "  <th>Kurtosis:</th>       <td> 3.786</td>  <th>  Cond. No.          </th> <td>    642.</td>\n",
       "</tr>\n",
       "</table>"
      ],
      "text/plain": [
       "<class 'statsmodels.iolib.summary.Summary'>\n",
       "\"\"\"\n",
       "                             WLS Regression Results                            \n",
       "===============================================================================\n",
       "Dep. Variable:     Total_Family_Income   R-squared:                       0.315\n",
       "Model:                             WLS   Adj. R-squared:                  0.315\n",
       "Method:                  Least Squares   F-statistic:                     1908.\n",
       "Date:                 Mon, 23 Oct 2017   Prob (F-statistic):               0.00\n",
       "Time:                         16:37:05   Log-Likelihood:            -3.5601e+05\n",
       "No. Observations:                33208   AIC:                         7.120e+05\n",
       "Df Residuals:                    33199   BIC:                         7.121e+05\n",
       "Df Model:                            8                                         \n",
       "Covariance Type:             nonrobust                                         \n",
       "=======================================================================================\n",
       "                          coef    std err          t      P>|t|      [0.025      0.975]\n",
       "---------------------------------------------------------------------------------------\n",
       "Intercept            1147.6640    313.997      3.655      0.000     532.218    1763.110\n",
       "C(HH_head_Sex)[T.2]   919.0121    161.503      5.690      0.000     602.460    1235.565\n",
       "C(Education)[T.2.0]  6023.8625    140.904     42.751      0.000    5747.685    6300.040\n",
       "C(Education)[T.3.0]  1.196e+04    217.209     55.058      0.000    1.15e+04    1.24e+04\n",
       "C(Education)[T.4.0]  1.873e+04    282.176     66.368      0.000    1.82e+04    1.93e+04\n",
       "C(Education)[T.5.0]  1.679e+04    742.048     22.624      0.000    1.53e+04    1.82e+04\n",
       "C(Urbanity)[T.1]     7105.2245    127.941     55.535      0.000    6854.455    7355.994\n",
       "Family_Size          1666.8464     29.035     57.409      0.000    1609.937    1723.756\n",
       "HH_head_Age           116.5759      4.681     24.902      0.000     107.400     125.752\n",
       "==============================================================================\n",
       "Omnibus:                     3597.783   Durbin-Watson:                   1.606\n",
       "Prob(Omnibus):                  0.000   Jarque-Bera (JB):             4994.573\n",
       "Skew:                           0.865   Prob(JB):                         0.00\n",
       "Kurtosis:                       3.786   Cond. No.                         642.\n",
       "==============================================================================\n",
       "\n",
       "Warnings:\n",
       "[1] Standard Errors assume that the covariance matrix of the errors is correctly specified.\n",
       "\"\"\""
      ]
     },
     "execution_count": 23,
     "metadata": {},
     "output_type": "execute_result"
    }
   ],
   "source": [
    "model_results_inc.summary()"
   ]
  },
  {
   "cell_type": "code",
   "execution_count": 24,
   "metadata": {
    "collapsed": true,
    "slideshow": {
     "slide_type": "slide"
    }
   },
   "outputs": [],
   "source": [
    "params_inc = change_index(model_results_inc.params)\n",
    "bse_inc = change_index(model_results_inc.bse)\n",
    "inc = pd.concat([params_inc, bse_inc], axis=1)\n",
    "inc.columns = ['co_mu', 'co_sd']\n",
    "inc = compute_categories(inc)"
   ]
  },
  {
   "cell_type": "code",
   "execution_count": 25,
   "metadata": {
    "collapsed": true,
    "slideshow": {
     "slide_type": "fragment"
    }
   },
   "outputs": [],
   "source": [
    "inc.loc['Urbanity', 'p'] = (income_data.Urbanity == 1).sum() / income_data.shape[0]\n",
    "inc.loc['Sex', 'p'] = (income_data.HH_head_Sex == 2).sum() / income_data.shape[0]"
   ]
  },
  {
   "cell_type": "code",
   "execution_count": 26,
   "metadata": {
    "collapsed": true,
    "slideshow": {
     "slide_type": "fragment"
    }
   },
   "outputs": [],
   "source": [
    "inc.loc[:, 'mu'] = np.nan\n",
    "inc.loc[:, 'sd'] = np.nan\n",
    "inc.loc['Intercept', 'p'] = inc.loc['Intercept', 'co_mu']\n",
    "inc.loc['Intercept', ['co_mu', 'co_sd']] = np.nan"
   ]
  },
  {
   "cell_type": "code",
   "execution_count": 27,
   "metadata": {
    "collapsed": true,
    "slideshow": {
     "slide_type": "fragment"
    }
   },
   "outputs": [],
   "source": [
    "inc.loc['Education','dis'] = 'Categorical'\n",
    "inc.loc['Urbanity', 'dis'] = 'Bernoulli'\n",
    "inc.loc['Sex', 'dis'] = 'Bernoulli'\n",
    "inc.loc['FamilySize', 'dis'] = 'Poisson'\n",
    "inc.loc['Intercept', 'dis'] = 'Deterministic'\n",
    "inc.loc['Age', 'dis'] = 'Normal'"
   ]
  },
  {
   "cell_type": "code",
   "execution_count": 28,
   "metadata": {
    "collapsed": true,
    "slideshow": {
     "slide_type": "fragment"
    }
   },
   "outputs": [],
   "source": [
    "inc.loc[:,'ub'] = np.nan\n",
    "inc.loc[:,'lb'] = np.nan\n",
    "inc.loc['FamilySize', 'lb'] = 1\n",
    "inc.loc['FamilySize', 'ub'] = 10\n",
    "inc.loc['Age', 'ub'] = 100\n",
    "inc.loc['Age', 'lb'] = 18"
   ]
  },
  {
   "cell_type": "code",
   "execution_count": 29,
   "metadata": {
    "collapsed": true,
    "slideshow": {
     "slide_type": "fragment"
    }
   },
   "outputs": [],
   "source": [
    "inc.index = ['i_'+i for i in inc.index]"
   ]
  },
  {
   "cell_type": "code",
   "execution_count": 30,
   "metadata": {
    "collapsed": true,
    "slideshow": {
     "slide_type": "slide"
    }
   },
   "outputs": [],
   "source": [
    "inc.to_csv('data/table_inc.csv')"
   ]
  },
  {
   "cell_type": "code",
   "execution_count": 31,
   "metadata": {
    "slideshow": {
     "slide_type": "fragment"
    }
   },
   "outputs": [
    {
     "data": {
      "text/html": [
       "<div>\n",
       "<style>\n",
       "    .dataframe thead tr:only-child th {\n",
       "        text-align: right;\n",
       "    }\n",
       "\n",
       "    .dataframe thead th {\n",
       "        text-align: left;\n",
       "    }\n",
       "\n",
       "    .dataframe tbody tr th {\n",
       "        vertical-align: top;\n",
       "    }\n",
       "</style>\n",
       "<table border=\"1\" class=\"dataframe\">\n",
       "  <thead>\n",
       "    <tr style=\"text-align: right;\">\n",
       "      <th></th>\n",
       "      <th>co_mu</th>\n",
       "      <th>co_sd</th>\n",
       "      <th>p</th>\n",
       "      <th>mu</th>\n",
       "      <th>sd</th>\n",
       "      <th>dis</th>\n",
       "      <th>ub</th>\n",
       "      <th>lb</th>\n",
       "    </tr>\n",
       "  </thead>\n",
       "  <tbody>\n",
       "    <tr>\n",
       "      <th>i_Intercept</th>\n",
       "      <td>NaN</td>\n",
       "      <td>NaN</td>\n",
       "      <td>1147.663992</td>\n",
       "      <td>NaN</td>\n",
       "      <td>NaN</td>\n",
       "      <td>Deterministic</td>\n",
       "      <td>NaN</td>\n",
       "      <td>NaN</td>\n",
       "    </tr>\n",
       "    <tr>\n",
       "      <th>i_Sex</th>\n",
       "      <td>919.012</td>\n",
       "      <td>161.503</td>\n",
       "      <td>0.193718</td>\n",
       "      <td>NaN</td>\n",
       "      <td>NaN</td>\n",
       "      <td>Bernoulli</td>\n",
       "      <td>NaN</td>\n",
       "      <td>NaN</td>\n",
       "    </tr>\n",
       "    <tr>\n",
       "      <th>i_Urbanity</th>\n",
       "      <td>7105.22</td>\n",
       "      <td>127.941</td>\n",
       "      <td>0.403005</td>\n",
       "      <td>NaN</td>\n",
       "      <td>NaN</td>\n",
       "      <td>Bernoulli</td>\n",
       "      <td>NaN</td>\n",
       "      <td>NaN</td>\n",
       "    </tr>\n",
       "    <tr>\n",
       "      <th>i_FamilySize</th>\n",
       "      <td>1666.85</td>\n",
       "      <td>29.0348</td>\n",
       "      <td>NaN</td>\n",
       "      <td>NaN</td>\n",
       "      <td>NaN</td>\n",
       "      <td>Poisson</td>\n",
       "      <td>10.0</td>\n",
       "      <td>1.0</td>\n",
       "    </tr>\n",
       "    <tr>\n",
       "      <th>i_Age</th>\n",
       "      <td>116.576</td>\n",
       "      <td>4.68139</td>\n",
       "      <td>NaN</td>\n",
       "      <td>NaN</td>\n",
       "      <td>NaN</td>\n",
       "      <td>Normal</td>\n",
       "      <td>100.0</td>\n",
       "      <td>18.0</td>\n",
       "    </tr>\n",
       "    <tr>\n",
       "      <th>i_Education</th>\n",
       "      <td>1.0,6023.86254599,11959.091528,18727.4606703,1...</td>\n",
       "      <td>1e-10,140.904404522,217.208790314,282.17614554...</td>\n",
       "      <td>NaN</td>\n",
       "      <td>NaN</td>\n",
       "      <td>NaN</td>\n",
       "      <td>Categorical</td>\n",
       "      <td>NaN</td>\n",
       "      <td>NaN</td>\n",
       "    </tr>\n",
       "  </tbody>\n",
       "</table>\n",
       "</div>"
      ],
      "text/plain": [
       "                                                          co_mu  \\\n",
       "i_Intercept                                                 NaN   \n",
       "i_Sex                                                   919.012   \n",
       "i_Urbanity                                              7105.22   \n",
       "i_FamilySize                                            1666.85   \n",
       "i_Age                                                   116.576   \n",
       "i_Education   1.0,6023.86254599,11959.091528,18727.4606703,1...   \n",
       "\n",
       "                                                          co_sd            p  \\\n",
       "i_Intercept                                                 NaN  1147.663992   \n",
       "i_Sex                                                   161.503     0.193718   \n",
       "i_Urbanity                                              127.941     0.403005   \n",
       "i_FamilySize                                            29.0348          NaN   \n",
       "i_Age                                                   4.68139          NaN   \n",
       "i_Education   1e-10,140.904404522,217.208790314,282.17614554...          NaN   \n",
       "\n",
       "              mu  sd            dis     ub    lb  \n",
       "i_Intercept  NaN NaN  Deterministic    NaN   NaN  \n",
       "i_Sex        NaN NaN      Bernoulli    NaN   NaN  \n",
       "i_Urbanity   NaN NaN      Bernoulli    NaN   NaN  \n",
       "i_FamilySize NaN NaN        Poisson   10.0   1.0  \n",
       "i_Age        NaN NaN         Normal  100.0  18.0  \n",
       "i_Education  NaN NaN    Categorical    NaN   NaN  "
      ]
     },
     "execution_count": 31,
     "metadata": {},
     "output_type": "execute_result"
    }
   ],
   "source": [
    "inc"
   ]
  },
  {
   "cell_type": "markdown",
   "metadata": {
    "slideshow": {
     "slide_type": "fragment"
    }
   },
   "source": [
    "The income model is defined as a **table model**. This table contains all the required information for the simulation model to construct a proxy sample.\n",
    "\n",
    "The table model defines the coefficient used for the estimation of income `co_mu`, with a corresponding standard deviation `co_sd`. A value to model the distribution (`p`, `mu`, `sd`), the distribution type is defined on column `dis`. The values `ub` and `lb` are used to give the distribution an upper and lower bound."
   ]
  }
 ],
 "metadata": {
  "kernelspec": {
   "display_name": "Python 3",
   "language": "python",
   "name": "python3"
  },
  "language_info": {
   "codemirror_mode": {
    "name": "ipython",
    "version": 3
   },
   "file_extension": ".py",
   "mimetype": "text/x-python",
   "name": "python",
   "nbconvert_exporter": "python",
   "pygments_lexer": "ipython3",
   "version": "3.6.4"
  }
 },
 "nbformat": 4,
 "nbformat_minor": 2
}
