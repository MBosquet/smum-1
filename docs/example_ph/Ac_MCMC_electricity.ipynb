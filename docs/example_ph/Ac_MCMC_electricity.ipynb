{
 "cells": [
  {
   "cell_type": "markdown",
   "metadata": {
    "slideshow": {
     "slide_type": "slide"
    }
   },
   "source": [
    "## Sorsogon. Step 1.c Micro-level Electricity demand model"
   ]
  },
  {
   "cell_type": "code",
   "execution_count": 1,
   "metadata": {
    "slideshow": {
     "slide_type": "skip"
    }
   },
   "outputs": [
    {
     "name": "stdout",
     "output_type": "stream",
     "text": [
      "2018-03-15 13:51:59.686128\n"
     ]
    }
   ],
   "source": [
    "import datetime; print(datetime.datetime.now())"
   ]
  },
  {
   "cell_type": "markdown",
   "metadata": {
    "slideshow": {
     "slide_type": "slide"
    }
   },
   "source": [
    "**Notebook Abstract:**\n",
    "\n",
    "A simple micro-level electricity demand model. Similar to the [income demand model](Ab_MCMC_income.ipynb), the electricity demand model used available micro level data for the estimation of regression coefficients. This regression coefficients are used to define a table model. The electricity table model is used for the construction of a proxy micro level sample data set.  "
   ]
  },
  {
   "cell_type": "markdown",
   "metadata": {
    "slideshow": {
     "slide_type": "slide"
    }
   },
   "source": [
    "### Prior electricity demand model"
   ]
  },
  {
   "cell_type": "code",
   "execution_count": 2,
   "metadata": {
    "collapsed": true,
    "slideshow": {
     "slide_type": "fragment"
    }
   },
   "outputs": [
    {
     "name": "stderr",
     "output_type": "stream",
     "text": [
      "/usr/lib/python3.6/site-packages/statsmodels-0.8.0-py3.6-linux-x86_64.egg/statsmodels/compat/pandas.py:56: FutureWarning: The pandas.core.datetools module is deprecated and will be removed in a future version. Please use the pandas.tseries module instead.\n",
      "  from pandas.core import datetools\n"
     ]
    }
   ],
   "source": [
    "import statsmodels.api as sm\n",
    "import pandas as pd\n",
    "import numpy as np\n",
    "from smum._scripts.micro import compute_categories, change_index"
   ]
  },
  {
   "cell_type": "code",
   "execution_count": 3,
   "metadata": {
    "collapsed": true,
    "slideshow": {
     "slide_type": "fragment"
    }
   },
   "outputs": [],
   "source": [
    "electricity_data = pd.read_csv('data/electricity.csv', index_col=0)\n",
    "formula = \"Electricity ~ C(Lighting) + C(TV) + C(Cooking) + C(Refrigeration) + C(AC) + C(Urban) + Income\""
   ]
  },
  {
   "cell_type": "code",
   "execution_count": 4,
   "metadata": {
    "slideshow": {
     "slide_type": "fragment"
    }
   },
   "outputs": [
    {
     "data": {
      "text/html": [
       "<div>\n",
       "<style scoped>\n",
       "    .dataframe tbody tr th:only-of-type {\n",
       "        vertical-align: middle;\n",
       "    }\n",
       "\n",
       "    .dataframe tbody tr th {\n",
       "        vertical-align: top;\n",
       "    }\n",
       "\n",
       "    .dataframe thead th {\n",
       "        text-align: right;\n",
       "    }\n",
       "</style>\n",
       "<table border=\"1\" class=\"dataframe\">\n",
       "  <thead>\n",
       "    <tr style=\"text-align: right;\">\n",
       "      <th></th>\n",
       "      <th>Lighting</th>\n",
       "      <th>TV</th>\n",
       "      <th>Cooking</th>\n",
       "      <th>Refrigeration</th>\n",
       "      <th>AC</th>\n",
       "      <th>Urban</th>\n",
       "      <th>Income</th>\n",
       "      <th>Electricity</th>\n",
       "    </tr>\n",
       "  </thead>\n",
       "  <tbody>\n",
       "    <tr>\n",
       "      <th>0</th>\n",
       "      <td>1</td>\n",
       "      <td>1</td>\n",
       "      <td>1</td>\n",
       "      <td>1</td>\n",
       "      <td>0</td>\n",
       "      <td>0</td>\n",
       "      <td>16000.0</td>\n",
       "      <td>110.0</td>\n",
       "    </tr>\n",
       "    <tr>\n",
       "      <th>1</th>\n",
       "      <td>1</td>\n",
       "      <td>1</td>\n",
       "      <td>0</td>\n",
       "      <td>1</td>\n",
       "      <td>0</td>\n",
       "      <td>0</td>\n",
       "      <td>4000.0</td>\n",
       "      <td>80.0</td>\n",
       "    </tr>\n",
       "    <tr>\n",
       "      <th>2</th>\n",
       "      <td>1</td>\n",
       "      <td>1</td>\n",
       "      <td>0</td>\n",
       "      <td>1</td>\n",
       "      <td>0</td>\n",
       "      <td>0</td>\n",
       "      <td>6000.0</td>\n",
       "      <td>47.0</td>\n",
       "    </tr>\n",
       "    <tr>\n",
       "      <th>3</th>\n",
       "      <td>1</td>\n",
       "      <td>1</td>\n",
       "      <td>0</td>\n",
       "      <td>0</td>\n",
       "      <td>0</td>\n",
       "      <td>0</td>\n",
       "      <td>6300.0</td>\n",
       "      <td>17.0</td>\n",
       "    </tr>\n",
       "    <tr>\n",
       "      <th>4</th>\n",
       "      <td>1</td>\n",
       "      <td>1</td>\n",
       "      <td>0</td>\n",
       "      <td>0</td>\n",
       "      <td>0</td>\n",
       "      <td>0</td>\n",
       "      <td>5000.0</td>\n",
       "      <td>17.0</td>\n",
       "    </tr>\n",
       "  </tbody>\n",
       "</table>\n",
       "</div>"
      ],
      "text/plain": [
       "   Lighting  TV  Cooking  Refrigeration  AC  Urban   Income  Electricity\n",
       "0         1   1        1              1   0      0  16000.0        110.0\n",
       "1         1   1        0              1   0      0   4000.0         80.0\n",
       "2         1   1        0              1   0      0   6000.0         47.0\n",
       "3         1   1        0              0   0      0   6300.0         17.0\n",
       "4         1   1        0              0   0      0   5000.0         17.0"
      ]
     },
     "execution_count": 4,
     "metadata": {},
     "output_type": "execute_result"
    }
   ],
   "source": [
    "electricity_data.head()"
   ]
  },
  {
   "cell_type": "code",
   "execution_count": 5,
   "metadata": {
    "collapsed": true,
    "slideshow": {
     "slide_type": "fragment"
    }
   },
   "outputs": [],
   "source": [
    "model_elec = sm.WLS.from_formula(formula, electricity_data)\n",
    "model_results_elec = model_elec.fit()"
   ]
  },
  {
   "cell_type": "code",
   "execution_count": 6,
   "metadata": {
    "slideshow": {
     "slide_type": "slide"
    }
   },
   "outputs": [
    {
     "data": {
      "text/html": [
       "<table class=\"simpletable\">\n",
       "<caption>WLS Regression Results</caption>\n",
       "<tr>\n",
       "  <th>Dep. Variable:</th>       <td>Electricity</td>   <th>  R-squared:         </th> <td>   0.516</td> \n",
       "</tr>\n",
       "<tr>\n",
       "  <th>Model:</th>                   <td>WLS</td>       <th>  Adj. R-squared:    </th> <td>   0.516</td> \n",
       "</tr>\n",
       "<tr>\n",
       "  <th>Method:</th>             <td>Least Squares</td>  <th>  F-statistic:       </th> <td>   2519.</td> \n",
       "</tr>\n",
       "<tr>\n",
       "  <th>Date:</th>             <td>Thu, 15 Mar 2018</td> <th>  Prob (F-statistic):</th>  <td>  0.00</td>  \n",
       "</tr>\n",
       "<tr>\n",
       "  <th>Time:</th>                 <td>13:52:02</td>     <th>  Log-Likelihood:    </th> <td> -96932.</td> \n",
       "</tr>\n",
       "<tr>\n",
       "  <th>No. Observations:</th>      <td> 16522</td>      <th>  AIC:               </th> <td>1.939e+05</td>\n",
       "</tr>\n",
       "<tr>\n",
       "  <th>Df Residuals:</th>          <td> 16514</td>      <th>  BIC:               </th> <td>1.939e+05</td>\n",
       "</tr>\n",
       "<tr>\n",
       "  <th>Df Model:</th>              <td>     7</td>      <th>                     </th>     <td> </td>    \n",
       "</tr>\n",
       "<tr>\n",
       "  <th>Covariance Type:</th>      <td>nonrobust</td>    <th>                     </th>     <td> </td>    \n",
       "</tr>\n",
       "</table>\n",
       "<table class=\"simpletable\">\n",
       "<tr>\n",
       "            <td></td>               <th>coef</th>     <th>std err</th>      <th>t</th>      <th>P>|t|</th>  <th>[0.025</th>    <th>0.975]</th>  \n",
       "</tr>\n",
       "<tr>\n",
       "  <th>Intercept</th>             <td>    3.3000</td> <td>   18.699</td> <td>    0.176</td> <td> 0.860</td> <td>  -33.351</td> <td>   39.951</td>\n",
       "</tr>\n",
       "<tr>\n",
       "  <th>C(Lighting)[T.1]</th>      <td>    0.8257</td> <td>   18.668</td> <td>    0.044</td> <td> 0.965</td> <td>  -35.765</td> <td>   37.416</td>\n",
       "</tr>\n",
       "<tr>\n",
       "  <th>C(TV)[T.1]</th>            <td>   18.7899</td> <td>    1.760</td> <td>   10.678</td> <td> 0.000</td> <td>   15.341</td> <td>   22.239</td>\n",
       "</tr>\n",
       "<tr>\n",
       "  <th>C(Cooking)[T.1]</th>       <td>   28.8862</td> <td>    1.969</td> <td>   14.671</td> <td> 0.000</td> <td>   25.027</td> <td>   32.746</td>\n",
       "</tr>\n",
       "<tr>\n",
       "  <th>C(Refrigeration)[T.1]</th> <td>   59.2432</td> <td>    1.556</td> <td>   38.073</td> <td> 0.000</td> <td>   56.193</td> <td>   62.293</td>\n",
       "</tr>\n",
       "<tr>\n",
       "  <th>C(AC)[T.1]</th>            <td>  203.3226</td> <td>    3.130</td> <td>   64.956</td> <td> 0.000</td> <td>  197.187</td> <td>  209.458</td>\n",
       "</tr>\n",
       "<tr>\n",
       "  <th>C(Urban)[T.1]</th>         <td>   24.5935</td> <td>    1.391</td> <td>   17.680</td> <td> 0.000</td> <td>   21.867</td> <td>   27.320</td>\n",
       "</tr>\n",
       "<tr>\n",
       "  <th>Income</th>                <td>    0.0014</td> <td>  4.1e-05</td> <td>   34.765</td> <td> 0.000</td> <td>    0.001</td> <td>    0.002</td>\n",
       "</tr>\n",
       "</table>\n",
       "<table class=\"simpletable\">\n",
       "<tr>\n",
       "  <th>Omnibus:</th>       <td>20742.858</td> <th>  Durbin-Watson:     </th>  <td>   1.789</td>  \n",
       "</tr>\n",
       "<tr>\n",
       "  <th>Prob(Omnibus):</th>  <td> 0.000</td>   <th>  Jarque-Bera (JB):  </th> <td>9719176.595</td>\n",
       "</tr>\n",
       "<tr>\n",
       "  <th>Skew:</th>           <td> 6.463</td>   <th>  Prob(JB):          </th>  <td>    0.00</td>  \n",
       "</tr>\n",
       "<tr>\n",
       "  <th>Kurtosis:</th>       <td>121.115</td>  <th>  Cond. No.          </th>  <td>8.75e+05</td>  \n",
       "</tr>\n",
       "</table>"
      ],
      "text/plain": [
       "<class 'statsmodels.iolib.summary.Summary'>\n",
       "\"\"\"\n",
       "                            WLS Regression Results                            \n",
       "==============================================================================\n",
       "Dep. Variable:            Electricity   R-squared:                       0.516\n",
       "Model:                            WLS   Adj. R-squared:                  0.516\n",
       "Method:                 Least Squares   F-statistic:                     2519.\n",
       "Date:                Thu, 15 Mar 2018   Prob (F-statistic):               0.00\n",
       "Time:                        13:52:02   Log-Likelihood:                -96932.\n",
       "No. Observations:               16522   AIC:                         1.939e+05\n",
       "Df Residuals:                   16514   BIC:                         1.939e+05\n",
       "Df Model:                           7                                         \n",
       "Covariance Type:            nonrobust                                         \n",
       "=========================================================================================\n",
       "                            coef    std err          t      P>|t|      [0.025      0.975]\n",
       "-----------------------------------------------------------------------------------------\n",
       "Intercept                 3.3000     18.699      0.176      0.860     -33.351      39.951\n",
       "C(Lighting)[T.1]          0.8257     18.668      0.044      0.965     -35.765      37.416\n",
       "C(TV)[T.1]               18.7899      1.760     10.678      0.000      15.341      22.239\n",
       "C(Cooking)[T.1]          28.8862      1.969     14.671      0.000      25.027      32.746\n",
       "C(Refrigeration)[T.1]    59.2432      1.556     38.073      0.000      56.193      62.293\n",
       "C(AC)[T.1]              203.3226      3.130     64.956      0.000     197.187     209.458\n",
       "C(Urban)[T.1]            24.5935      1.391     17.680      0.000      21.867      27.320\n",
       "Income                    0.0014    4.1e-05     34.765      0.000       0.001       0.002\n",
       "==============================================================================\n",
       "Omnibus:                    20742.858   Durbin-Watson:                   1.789\n",
       "Prob(Omnibus):                  0.000   Jarque-Bera (JB):          9719176.595\n",
       "Skew:                           6.463   Prob(JB):                         0.00\n",
       "Kurtosis:                     121.115   Cond. No.                     8.75e+05\n",
       "==============================================================================\n",
       "\n",
       "Warnings:\n",
       "[1] Standard Errors assume that the covariance matrix of the errors is correctly specified.\n",
       "[2] The condition number is large, 8.75e+05. This might indicate that there are\n",
       "strong multicollinearity or other numerical problems.\n",
       "\"\"\""
      ]
     },
     "execution_count": 6,
     "metadata": {},
     "output_type": "execute_result"
    }
   ],
   "source": [
    "model_results_elec.summary()"
   ]
  },
  {
   "cell_type": "code",
   "execution_count": 7,
   "metadata": {
    "collapsed": true,
    "slideshow": {
     "slide_type": "slide"
    }
   },
   "outputs": [],
   "source": [
    "params_elec = change_index(model_results_elec.params)\n",
    "bse_elec = change_index(model_results_elec.bse)\n",
    "elec = pd.concat([params_elec, bse_elec], axis=1)\n",
    "elec.columns = ['co_mu', 'co_sd']"
   ]
  },
  {
   "cell_type": "code",
   "execution_count": 8,
   "metadata": {
    "collapsed": true,
    "slideshow": {
     "slide_type": "fragment"
    }
   },
   "outputs": [],
   "source": [
    "elec.loc['Lighting', 'p'] = (electricity_data.Lighting == 1).sum() / electricity_data.shape[0]\n",
    "elec.loc['TV', 'p'] = (electricity_data.TV == 1).sum() / electricity_data.shape[0]\n",
    "elec.loc['Cooking', 'p'] = (electricity_data.Cooking == 1).sum() / electricity_data.shape[0]\n",
    "elec.loc['Refrigeration', 'p'] = (electricity_data.Refrigeration == 1).sum() / electricity_data.shape[0]\n",
    "elec.loc['AC', 'p'] = (electricity_data.AC == 1).sum() / electricity_data.shape[0]\n",
    "elec.loc['Urban', 'p'] = (electricity_data.Urban == 1).sum() / electricity_data.shape[0]"
   ]
  },
  {
   "cell_type": "code",
   "execution_count": 9,
   "metadata": {
    "collapsed": true,
    "slideshow": {
     "slide_type": "fragment"
    }
   },
   "outputs": [],
   "source": [
    "elec.loc[:, 'mu'] = np.nan\n",
    "elec.loc[:, 'sd'] = np.nan\n",
    "elec.loc['Intercept', 'p'] = elec.loc['Intercept', 'co_mu']\n",
    "elec.loc['Intercept', ['co_mu', 'co_sd']] = np.nan"
   ]
  },
  {
   "cell_type": "code",
   "execution_count": 10,
   "metadata": {
    "collapsed": true,
    "slideshow": {
     "slide_type": "fragment"
    }
   },
   "outputs": [],
   "source": [
    "elec.loc[:, 'dis'] = 'Bernoulli'\n",
    "elec.loc['Income', 'dis'] = 'None'\n",
    "elec.loc['Intercept', 'dis'] = 'Deterministic'"
   ]
  },
  {
   "cell_type": "code",
   "execution_count": 11,
   "metadata": {
    "collapsed": true,
    "slideshow": {
     "slide_type": "fragment"
    }
   },
   "outputs": [],
   "source": [
    "elec.loc[:, 'ub'] = np.nan\n",
    "elec.loc[:, 'lb'] = np.nan\n",
    "elec.loc['Income', 'ub'] = np.inf\n",
    "elec.loc['Income', 'lb'] = 0"
   ]
  },
  {
   "cell_type": "code",
   "execution_count": 12,
   "metadata": {
    "collapsed": true,
    "slideshow": {
     "slide_type": "fragment"
    }
   },
   "outputs": [],
   "source": [
    "elec.index = ['e_'+i for i in elec.index]"
   ]
  },
  {
   "cell_type": "code",
   "execution_count": 13,
   "metadata": {
    "collapsed": true,
    "slideshow": {
     "slide_type": "slide"
    }
   },
   "outputs": [],
   "source": [
    "elec.to_csv('data/table_elec.csv')"
   ]
  },
  {
   "cell_type": "code",
   "execution_count": 14,
   "metadata": {
    "slideshow": {
     "slide_type": "fragment"
    }
   },
   "outputs": [
    {
     "data": {
      "text/html": [
       "<div>\n",
       "<style scoped>\n",
       "    .dataframe tbody tr th:only-of-type {\n",
       "        vertical-align: middle;\n",
       "    }\n",
       "\n",
       "    .dataframe tbody tr th {\n",
       "        vertical-align: top;\n",
       "    }\n",
       "\n",
       "    .dataframe thead th {\n",
       "        text-align: right;\n",
       "    }\n",
       "</style>\n",
       "<table border=\"1\" class=\"dataframe\">\n",
       "  <thead>\n",
       "    <tr style=\"text-align: right;\">\n",
       "      <th></th>\n",
       "      <th>co_mu</th>\n",
       "      <th>co_sd</th>\n",
       "      <th>p</th>\n",
       "      <th>mu</th>\n",
       "      <th>sd</th>\n",
       "      <th>dis</th>\n",
       "      <th>ub</th>\n",
       "      <th>lb</th>\n",
       "    </tr>\n",
       "  </thead>\n",
       "  <tbody>\n",
       "    <tr>\n",
       "      <th>e_Intercept</th>\n",
       "      <td>NaN</td>\n",
       "      <td>NaN</td>\n",
       "      <td>3.299984</td>\n",
       "      <td>NaN</td>\n",
       "      <td>NaN</td>\n",
       "      <td>Deterministic</td>\n",
       "      <td>NaN</td>\n",
       "      <td>NaN</td>\n",
       "    </tr>\n",
       "    <tr>\n",
       "      <th>e_Lighting</th>\n",
       "      <td>0.825662</td>\n",
       "      <td>18.667601</td>\n",
       "      <td>0.998729</td>\n",
       "      <td>NaN</td>\n",
       "      <td>NaN</td>\n",
       "      <td>Bernoulli</td>\n",
       "      <td>NaN</td>\n",
       "      <td>NaN</td>\n",
       "    </tr>\n",
       "    <tr>\n",
       "      <th>e_TV</th>\n",
       "      <td>18.789909</td>\n",
       "      <td>1.759621</td>\n",
       "      <td>0.782774</td>\n",
       "      <td>NaN</td>\n",
       "      <td>NaN</td>\n",
       "      <td>Bernoulli</td>\n",
       "      <td>NaN</td>\n",
       "      <td>NaN</td>\n",
       "    </tr>\n",
       "    <tr>\n",
       "      <th>e_Cooking</th>\n",
       "      <td>28.886242</td>\n",
       "      <td>1.968938</td>\n",
       "      <td>0.167474</td>\n",
       "      <td>NaN</td>\n",
       "      <td>NaN</td>\n",
       "      <td>Bernoulli</td>\n",
       "      <td>NaN</td>\n",
       "      <td>NaN</td>\n",
       "    </tr>\n",
       "    <tr>\n",
       "      <th>e_Refrigeration</th>\n",
       "      <td>59.243236</td>\n",
       "      <td>1.556048</td>\n",
       "      <td>0.436812</td>\n",
       "      <td>NaN</td>\n",
       "      <td>NaN</td>\n",
       "      <td>Bernoulli</td>\n",
       "      <td>NaN</td>\n",
       "      <td>NaN</td>\n",
       "    </tr>\n",
       "    <tr>\n",
       "      <th>e_AC</th>\n",
       "      <td>203.322615</td>\n",
       "      <td>3.130158</td>\n",
       "      <td>0.059375</td>\n",
       "      <td>NaN</td>\n",
       "      <td>NaN</td>\n",
       "      <td>Bernoulli</td>\n",
       "      <td>NaN</td>\n",
       "      <td>NaN</td>\n",
       "    </tr>\n",
       "    <tr>\n",
       "      <th>e_Urban</th>\n",
       "      <td>24.593500</td>\n",
       "      <td>1.391044</td>\n",
       "      <td>0.550236</td>\n",
       "      <td>NaN</td>\n",
       "      <td>NaN</td>\n",
       "      <td>Bernoulli</td>\n",
       "      <td>NaN</td>\n",
       "      <td>NaN</td>\n",
       "    </tr>\n",
       "    <tr>\n",
       "      <th>e_Income</th>\n",
       "      <td>0.001426</td>\n",
       "      <td>0.000041</td>\n",
       "      <td>NaN</td>\n",
       "      <td>NaN</td>\n",
       "      <td>NaN</td>\n",
       "      <td>None</td>\n",
       "      <td>inf</td>\n",
       "      <td>0.0</td>\n",
       "    </tr>\n",
       "  </tbody>\n",
       "</table>\n",
       "</div>"
      ],
      "text/plain": [
       "                      co_mu      co_sd         p  mu  sd            dis   ub  \\\n",
       "e_Intercept             NaN        NaN  3.299984 NaN NaN  Deterministic  NaN   \n",
       "e_Lighting         0.825662  18.667601  0.998729 NaN NaN      Bernoulli  NaN   \n",
       "e_TV              18.789909   1.759621  0.782774 NaN NaN      Bernoulli  NaN   \n",
       "e_Cooking         28.886242   1.968938  0.167474 NaN NaN      Bernoulli  NaN   \n",
       "e_Refrigeration   59.243236   1.556048  0.436812 NaN NaN      Bernoulli  NaN   \n",
       "e_AC             203.322615   3.130158  0.059375 NaN NaN      Bernoulli  NaN   \n",
       "e_Urban           24.593500   1.391044  0.550236 NaN NaN      Bernoulli  NaN   \n",
       "e_Income           0.001426   0.000041       NaN NaN NaN           None  inf   \n",
       "\n",
       "                  lb  \n",
       "e_Intercept      NaN  \n",
       "e_Lighting       NaN  \n",
       "e_TV             NaN  \n",
       "e_Cooking        NaN  \n",
       "e_Refrigeration  NaN  \n",
       "e_AC             NaN  \n",
       "e_Urban          NaN  \n",
       "e_Income         0.0  "
      ]
     },
     "execution_count": 14,
     "metadata": {},
     "output_type": "execute_result"
    }
   ],
   "source": [
    "elec"
   ]
  }
 ],
 "metadata": {
  "kernelspec": {
   "display_name": "Python 3",
   "language": "python",
   "name": "python3"
  },
  "language_info": {
   "codemirror_mode": {
    "name": "ipython",
    "version": 3
   },
   "file_extension": ".py",
   "mimetype": "text/x-python",
   "name": "python",
   "nbconvert_exporter": "python",
   "pygments_lexer": "ipython3",
   "version": "3.6.4"
  }
 },
 "nbformat": 4,
 "nbformat_minor": 2
}
