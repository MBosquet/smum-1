{
 "cells": [
  {
   "cell_type": "markdown",
   "metadata": {
    "slideshow": {
     "slide_type": "slide"
    }
   },
   "source": [
    "## Step 3.a Defining simple transition scenarios"
   ]
  },
  {
   "cell_type": "code",
   "execution_count": 1,
   "metadata": {
    "slideshow": {
     "slide_type": "skip"
    }
   },
   "outputs": [
    {
     "name": "stdout",
     "output_type": "stream",
     "text": [
      "2017-11-24 15:41:53.115504\n"
     ]
    }
   ],
   "source": [
    "import datetime; print(datetime.datetime.now())"
   ]
  },
  {
   "cell_type": "markdown",
   "metadata": {
    "slideshow": {
     "slide_type": "slide"
    }
   },
   "source": [
    "**Notebook Abstract:**\n",
    "\n",
    "The following notebook describes the process to construct simple **transition scenarios**.\n",
    "\n",
    "The transition scenarios are define as **efficiency** rates induced by **technology development** or **behavioral** changes. These rates can be used as proxies for all types of efficiency improvements.\n",
    "\n",
    "In order to define transition scenarios the model need the following information:\n",
    "\n",
    "1. A technology **penetration rate**. This defines the share of the population *adopting* the technology. The model uses `sampling rules` for the selection of the population adopting this technology.\n",
    "\n",
    "2. Development of **efficiency rates**. This define the actual technology development rate. "
   ]
  },
  {
   "cell_type": "markdown",
   "metadata": {
    "slideshow": {
     "slide_type": "slide"
    }
   },
   "source": [
    "### Import libraries"
   ]
  },
  {
   "cell_type": "code",
   "execution_count": 2,
   "metadata": {
    "collapsed": true,
    "slideshow": {
     "slide_type": "fragment"
    }
   },
   "outputs": [],
   "source": [
    "from urbanmetabolism.population.model import transition_rate\n",
    "from urbanmetabolism.population.model import plot_transition_rate\n",
    "from urbanmetabolism.population.model import reduce_consumption"
   ]
  },
  {
   "cell_type": "markdown",
   "metadata": {
    "slideshow": {
     "slide_type": "fragment"
    }
   },
   "source": [
    "In order to compute the transition scenarios we make use of three modules of the `urbanmetabolism` library:\n",
    "\n",
    "1. `growth_rate`. This module will return a vector with linear **growth rates** given a starting and end rate.\n",
    "\n",
    "2. `plot_growth_rate`. This a simple function to **visualize** the defined growth rates.\n",
    "\n",
    "3. `reduce_consumption`. This function creates **new samples** with reduced consumption levels for the selected selection of the population."
   ]
  },
  {
   "cell_type": "markdown",
   "metadata": {
    "slideshow": {
     "slide_type": "slide"
    }
   },
   "source": [
    "### Define simple population selection rules"
   ]
  },
  {
   "cell_type": "code",
   "execution_count": 3,
   "metadata": {
    "collapsed": true,
    "slideshow": {
     "slide_type": "fragment"
    }
   },
   "outputs": [],
   "source": [
    "sampling_rules = {\n",
    "    \"i_Education == 'Education_Elementary_School'\": 100,\n",
    "    #\"i_Education == 'Education_Post_Secondary'\": 20,\n",
    "    #\"i_Education == 'Education_College'\":        20,\n",
    "    #\"i_Education == 'Education_Post_Graduate'\":  20,\n",
    "    #\"i_Urbanity == 'Urbanity_Urban'\":            30,\n",
    "    #\"Income >= 180000\":                          30\n",
    "}"
   ]
  },
  {
   "cell_type": "code",
   "execution_count": 4,
   "metadata": {},
   "outputs": [
    {
     "data": {
      "text/html": [
       "<div>\n",
       "<style>\n",
       "    .dataframe thead tr:only-child th {\n",
       "        text-align: right;\n",
       "    }\n",
       "\n",
       "    .dataframe thead th {\n",
       "        text-align: left;\n",
       "    }\n",
       "\n",
       "    .dataframe tbody tr th {\n",
       "        vertical-align: top;\n",
       "    }\n",
       "</style>\n",
       "<table border=\"1\" class=\"dataframe\">\n",
       "  <thead>\n",
       "    <tr style=\"text-align: right;\">\n",
       "      <th></th>\n",
       "      <th>index</th>\n",
       "      <th>i_Sex</th>\n",
       "      <th>i_Urbanity</th>\n",
       "      <th>i_FamilySize</th>\n",
       "      <th>i_Age</th>\n",
       "      <th>i_Education</th>\n",
       "      <th>e_Lighting</th>\n",
       "      <th>e_TV</th>\n",
       "      <th>e_Cooking</th>\n",
       "      <th>e_Refrigeration</th>\n",
       "      <th>e_AC</th>\n",
       "      <th>Income</th>\n",
       "      <th>Electricity</th>\n",
       "      <th>Water</th>\n",
       "      <th>w</th>\n",
       "      <th>wf</th>\n",
       "    </tr>\n",
       "  </thead>\n",
       "  <tbody>\n",
       "    <tr>\n",
       "      <th>0</th>\n",
       "      <td>0</td>\n",
       "      <td>sex_female</td>\n",
       "      <td>Urbanity_Rural</td>\n",
       "      <td>Size_7</td>\n",
       "      <td>age_36_45</td>\n",
       "      <td>Education_College</td>\n",
       "      <td>Lighting_yes</td>\n",
       "      <td>TV_no</td>\n",
       "      <td>Cooking_no</td>\n",
       "      <td>Refrigeration_no</td>\n",
       "      <td>AC_no</td>\n",
       "      <td>268187.065618</td>\n",
       "      <td>73.724272</td>\n",
       "      <td>176.917317</td>\n",
       "      <td>33.914938</td>\n",
       "      <td>63.360260</td>\n",
       "    </tr>\n",
       "    <tr>\n",
       "      <th>1</th>\n",
       "      <td>1</td>\n",
       "      <td>sex_female</td>\n",
       "      <td>Urbanity_Urban</td>\n",
       "      <td>Size_5</td>\n",
       "      <td>age_26_35</td>\n",
       "      <td>Education_High_School</td>\n",
       "      <td>Lighting_yes</td>\n",
       "      <td>TV_yes</td>\n",
       "      <td>Cooking_no</td>\n",
       "      <td>Refrigeration_no</td>\n",
       "      <td>AC_no</td>\n",
       "      <td>188460.351488</td>\n",
       "      <td>61.682521</td>\n",
       "      <td>137.872051</td>\n",
       "      <td>33.914938</td>\n",
       "      <td>61.516392</td>\n",
       "    </tr>\n",
       "    <tr>\n",
       "      <th>2</th>\n",
       "      <td>2</td>\n",
       "      <td>sex_male</td>\n",
       "      <td>Urbanity_Urban</td>\n",
       "      <td>Size_4</td>\n",
       "      <td>age_76_85</td>\n",
       "      <td>Education_High_School</td>\n",
       "      <td>Lighting_yes</td>\n",
       "      <td>TV_yes</td>\n",
       "      <td>Cooking_no</td>\n",
       "      <td>Refrigeration_no</td>\n",
       "      <td>AC_no</td>\n",
       "      <td>210561.848027</td>\n",
       "      <td>70.225357</td>\n",
       "      <td>157.295495</td>\n",
       "      <td>33.914938</td>\n",
       "      <td>25.686429</td>\n",
       "    </tr>\n",
       "    <tr>\n",
       "      <th>3</th>\n",
       "      <td>3</td>\n",
       "      <td>sex_female</td>\n",
       "      <td>Urbanity_Urban</td>\n",
       "      <td>Size_4</td>\n",
       "      <td>age_56_65</td>\n",
       "      <td>Education_High_School</td>\n",
       "      <td>Lighting_yes</td>\n",
       "      <td>TV_yes</td>\n",
       "      <td>Cooking_no</td>\n",
       "      <td>Refrigeration_yes</td>\n",
       "      <td>AC_no</td>\n",
       "      <td>203062.522729</td>\n",
       "      <td>77.266206</td>\n",
       "      <td>150.001631</td>\n",
       "      <td>33.914938</td>\n",
       "      <td>31.996852</td>\n",
       "    </tr>\n",
       "    <tr>\n",
       "      <th>4</th>\n",
       "      <td>4</td>\n",
       "      <td>sex_male</td>\n",
       "      <td>Urbanity_Urban</td>\n",
       "      <td>Size_4</td>\n",
       "      <td>age_46_55</td>\n",
       "      <td>Education_Elementary_School</td>\n",
       "      <td>Lighting_yes</td>\n",
       "      <td>TV_yes</td>\n",
       "      <td>Cooking_no</td>\n",
       "      <td>Refrigeration_yes</td>\n",
       "      <td>AC_no</td>\n",
       "      <td>150016.233618</td>\n",
       "      <td>58.963442</td>\n",
       "      <td>107.158722</td>\n",
       "      <td>33.914938</td>\n",
       "      <td>38.383759</td>\n",
       "    </tr>\n",
       "  </tbody>\n",
       "</table>\n",
       "</div>"
      ],
      "text/plain": [
       "   index       i_Sex      i_Urbanity i_FamilySize      i_Age  \\\n",
       "0      0  sex_female  Urbanity_Rural       Size_7  age_36_45   \n",
       "1      1  sex_female  Urbanity_Urban       Size_5  age_26_35   \n",
       "2      2    sex_male  Urbanity_Urban       Size_4  age_76_85   \n",
       "3      3  sex_female  Urbanity_Urban       Size_4  age_56_65   \n",
       "4      4    sex_male  Urbanity_Urban       Size_4  age_46_55   \n",
       "\n",
       "                   i_Education    e_Lighting    e_TV   e_Cooking  \\\n",
       "0            Education_College  Lighting_yes   TV_no  Cooking_no   \n",
       "1        Education_High_School  Lighting_yes  TV_yes  Cooking_no   \n",
       "2        Education_High_School  Lighting_yes  TV_yes  Cooking_no   \n",
       "3        Education_High_School  Lighting_yes  TV_yes  Cooking_no   \n",
       "4  Education_Elementary_School  Lighting_yes  TV_yes  Cooking_no   \n",
       "\n",
       "     e_Refrigeration   e_AC         Income  Electricity       Water  \\\n",
       "0   Refrigeration_no  AC_no  268187.065618    73.724272  176.917317   \n",
       "1   Refrigeration_no  AC_no  188460.351488    61.682521  137.872051   \n",
       "2   Refrigeration_no  AC_no  210561.848027    70.225357  157.295495   \n",
       "3  Refrigeration_yes  AC_no  203062.522729    77.266206  150.001631   \n",
       "4  Refrigeration_yes  AC_no  150016.233618    58.963442  107.158722   \n",
       "\n",
       "           w         wf  \n",
       "0  33.914938  63.360260  \n",
       "1  33.914938  61.516392  \n",
       "2  33.914938  25.686429  \n",
       "3  33.914938  31.996852  \n",
       "4  33.914938  38.383759  "
      ]
     },
     "execution_count": 4,
     "metadata": {},
     "output_type": "execute_result"
    }
   ],
   "source": [
    "import pandas as pd\n",
    "file_name = \"data/survey_Sorsogon_Electricity_Water_wbias_projected_dynamic_resampled_1000_{}.csv\"\n",
    "sample_survey = pd.read_csv(file_name.format(2010), index_col=0)\n",
    "sample_survey.head()"
   ]
  },
  {
   "cell_type": "markdown",
   "metadata": {
    "slideshow": {
     "slide_type": "fragment"
    }
   },
   "source": [
    "Part of the scenario development is to identified which section of the population will adopt the new technology. The model defined this by a **sampling probability**. This probability is initially define as a uniform distribution (i.e. each individual on the sample has equal probability of being selected). A scenario is defined by allocating new sampling probabilities to a section of the population, by defining sampling rules. The sampling rules are passes to the [query](http://pandas.pydata.org/pandas-docs/stable/generated/pandas.DataFrame.query.html) function of a pandas `DataFrame`.\n",
    "\n",
    "On the example above, all individuals with a `Income` larger of equal to 180 000 Philippine Pesos are 30 times more likely to adopt the technology that the rest of the population. The sampling probabilities will sum up. This means that an individual with `Income >= 180000` and living on an urban area `e_Urban == 'Urbanity_Urban'` is 60 times more likely to be selected (i.e. adopt a new technology) that other individuals."
   ]
  },
  {
   "cell_type": "markdown",
   "metadata": {
    "slideshow": {
     "slide_type": "slide"
    }
   },
   "source": [
    "#### Initial sample data"
   ]
  },
  {
   "cell_type": "code",
   "execution_count": 5,
   "metadata": {
    "slideshow": {
     "slide_type": "fragment"
    }
   },
   "outputs": [
    {
     "data": {
      "text/html": [
       "<div>\n",
       "<style>\n",
       "    .dataframe thead tr:only-child th {\n",
       "        text-align: right;\n",
       "    }\n",
       "\n",
       "    .dataframe thead th {\n",
       "        text-align: left;\n",
       "    }\n",
       "\n",
       "    .dataframe tbody tr th {\n",
       "        vertical-align: top;\n",
       "    }\n",
       "</style>\n",
       "<table border=\"1\" class=\"dataframe\">\n",
       "  <thead>\n",
       "    <tr style=\"text-align: right;\">\n",
       "      <th></th>\n",
       "      <th>index</th>\n",
       "      <th>i_Sex</th>\n",
       "      <th>i_Urbanity</th>\n",
       "      <th>i_FamilySize</th>\n",
       "      <th>i_Age</th>\n",
       "      <th>i_Education</th>\n",
       "      <th>e_Lighting</th>\n",
       "      <th>e_TV</th>\n",
       "      <th>e_Cooking</th>\n",
       "      <th>e_Refrigeration</th>\n",
       "      <th>e_AC</th>\n",
       "      <th>Income</th>\n",
       "      <th>Electricity</th>\n",
       "      <th>Water</th>\n",
       "      <th>w</th>\n",
       "      <th>wf</th>\n",
       "    </tr>\n",
       "  </thead>\n",
       "  <tbody>\n",
       "    <tr>\n",
       "      <th>0</th>\n",
       "      <td>0</td>\n",
       "      <td>sex_female</td>\n",
       "      <td>Urbanity_Rural</td>\n",
       "      <td>Size_7</td>\n",
       "      <td>age_36_45</td>\n",
       "      <td>Education_College</td>\n",
       "      <td>Lighting_yes</td>\n",
       "      <td>TV_no</td>\n",
       "      <td>Cooking_no</td>\n",
       "      <td>Refrigeration_no</td>\n",
       "      <td>AC_no</td>\n",
       "      <td>268187.065618</td>\n",
       "      <td>73.724272</td>\n",
       "      <td>176.917317</td>\n",
       "      <td>33.914938</td>\n",
       "      <td>63.360260</td>\n",
       "    </tr>\n",
       "    <tr>\n",
       "      <th>1</th>\n",
       "      <td>1</td>\n",
       "      <td>sex_female</td>\n",
       "      <td>Urbanity_Urban</td>\n",
       "      <td>Size_5</td>\n",
       "      <td>age_26_35</td>\n",
       "      <td>Education_High_School</td>\n",
       "      <td>Lighting_yes</td>\n",
       "      <td>TV_yes</td>\n",
       "      <td>Cooking_no</td>\n",
       "      <td>Refrigeration_no</td>\n",
       "      <td>AC_no</td>\n",
       "      <td>188460.351488</td>\n",
       "      <td>61.682521</td>\n",
       "      <td>137.872051</td>\n",
       "      <td>33.914938</td>\n",
       "      <td>61.516392</td>\n",
       "    </tr>\n",
       "    <tr>\n",
       "      <th>2</th>\n",
       "      <td>2</td>\n",
       "      <td>sex_male</td>\n",
       "      <td>Urbanity_Urban</td>\n",
       "      <td>Size_4</td>\n",
       "      <td>age_76_85</td>\n",
       "      <td>Education_High_School</td>\n",
       "      <td>Lighting_yes</td>\n",
       "      <td>TV_yes</td>\n",
       "      <td>Cooking_no</td>\n",
       "      <td>Refrigeration_no</td>\n",
       "      <td>AC_no</td>\n",
       "      <td>210561.848027</td>\n",
       "      <td>70.225357</td>\n",
       "      <td>157.295495</td>\n",
       "      <td>33.914938</td>\n",
       "      <td>25.686429</td>\n",
       "    </tr>\n",
       "    <tr>\n",
       "      <th>3</th>\n",
       "      <td>3</td>\n",
       "      <td>sex_female</td>\n",
       "      <td>Urbanity_Urban</td>\n",
       "      <td>Size_4</td>\n",
       "      <td>age_56_65</td>\n",
       "      <td>Education_High_School</td>\n",
       "      <td>Lighting_yes</td>\n",
       "      <td>TV_yes</td>\n",
       "      <td>Cooking_no</td>\n",
       "      <td>Refrigeration_yes</td>\n",
       "      <td>AC_no</td>\n",
       "      <td>203062.522729</td>\n",
       "      <td>77.266206</td>\n",
       "      <td>150.001631</td>\n",
       "      <td>33.914938</td>\n",
       "      <td>31.996852</td>\n",
       "    </tr>\n",
       "    <tr>\n",
       "      <th>4</th>\n",
       "      <td>4</td>\n",
       "      <td>sex_male</td>\n",
       "      <td>Urbanity_Urban</td>\n",
       "      <td>Size_4</td>\n",
       "      <td>age_46_55</td>\n",
       "      <td>Education_Elementary_School</td>\n",
       "      <td>Lighting_yes</td>\n",
       "      <td>TV_yes</td>\n",
       "      <td>Cooking_no</td>\n",
       "      <td>Refrigeration_yes</td>\n",
       "      <td>AC_no</td>\n",
       "      <td>150016.233618</td>\n",
       "      <td>58.963442</td>\n",
       "      <td>107.158722</td>\n",
       "      <td>33.914938</td>\n",
       "      <td>38.383759</td>\n",
       "    </tr>\n",
       "  </tbody>\n",
       "</table>\n",
       "</div>"
      ],
      "text/plain": [
       "   index       i_Sex      i_Urbanity i_FamilySize      i_Age  \\\n",
       "0      0  sex_female  Urbanity_Rural       Size_7  age_36_45   \n",
       "1      1  sex_female  Urbanity_Urban       Size_5  age_26_35   \n",
       "2      2    sex_male  Urbanity_Urban       Size_4  age_76_85   \n",
       "3      3  sex_female  Urbanity_Urban       Size_4  age_56_65   \n",
       "4      4    sex_male  Urbanity_Urban       Size_4  age_46_55   \n",
       "\n",
       "                   i_Education    e_Lighting    e_TV   e_Cooking  \\\n",
       "0            Education_College  Lighting_yes   TV_no  Cooking_no   \n",
       "1        Education_High_School  Lighting_yes  TV_yes  Cooking_no   \n",
       "2        Education_High_School  Lighting_yes  TV_yes  Cooking_no   \n",
       "3        Education_High_School  Lighting_yes  TV_yes  Cooking_no   \n",
       "4  Education_Elementary_School  Lighting_yes  TV_yes  Cooking_no   \n",
       "\n",
       "     e_Refrigeration   e_AC         Income  Electricity       Water  \\\n",
       "0   Refrigeration_no  AC_no  268187.065618    73.724272  176.917317   \n",
       "1   Refrigeration_no  AC_no  188460.351488    61.682521  137.872051   \n",
       "2   Refrigeration_no  AC_no  210561.848027    70.225357  157.295495   \n",
       "3  Refrigeration_yes  AC_no  203062.522729    77.266206  150.001631   \n",
       "4  Refrigeration_yes  AC_no  150016.233618    58.963442  107.158722   \n",
       "\n",
       "           w         wf  \n",
       "0  33.914938  63.360260  \n",
       "1  33.914938  61.516392  \n",
       "2  33.914938  25.686429  \n",
       "3  33.914938  31.996852  \n",
       "4  33.914938  38.383759  "
      ]
     },
     "execution_count": 5,
     "metadata": {},
     "output_type": "execute_result"
    }
   ],
   "source": [
    "import pandas as pd\n",
    "file_name = \"data/survey_Sorsogon_Electricity_Water_wbias_projected_dynamic_resampled_1000_{}.csv\"\n",
    "sample_survey = pd.read_csv(file_name.format(2010), index_col=0)\n",
    "sample_survey.head()"
   ]
  },
  {
   "cell_type": "markdown",
   "metadata": {
    "slideshow": {
     "slide_type": "fragment"
    }
   },
   "source": [
    "The `reduce_consumption` module will use as input the samples created by the MCMC algorithm and select specific sections of the population to reduce their consumption levels.\n",
    "\n",
    "The input data is the constructed proxy sample data. Depending on the simulation type (reweight/resample) the input data is a single file containing the weights for each simulation year (reweight) or individual samples for each simulation year (resample)."
   ]
  },
  {
   "cell_type": "markdown",
   "metadata": {
    "slideshow": {
     "slide_type": "subslide"
    }
   },
   "source": [
    "Most of the variables of the sample data is formatted as categorical data. The sample data shown above presents individual records with the predefine simulation variables as well as the computed **Income**, **Electricity** and **Water** consumption levels. The sample also contains two sets of weights: **w** and **wf**. The `w` weights correspond to the weights assign by the MCMC algorithm (uniform distributed) while the `wf` (final weights) are the weights computed by the GREGWT algorithm. The `reduce_consumption` function will use the `wf` weights for the selection of individuals."
   ]
  },
  {
   "cell_type": "code",
   "execution_count": 6,
   "metadata": {
    "slideshow": {
     "slide_type": "fragment"
    }
   },
   "outputs": [
    {
     "data": {
      "text/plain": [
       "array(['Education_College', 'Education_High_School',\n",
       "       'Education_Elementary_School', 'Education_Post_Secondary',\n",
       "       'Education_Post_Graduate'], dtype=object)"
      ]
     },
     "execution_count": 6,
     "metadata": {},
     "output_type": "execute_result"
    }
   ],
   "source": [
    "sample_survey.loc[:, 'i_Education'].unique()"
   ]
  },
  {
   "cell_type": "code",
   "execution_count": 7,
   "metadata": {
    "slideshow": {
     "slide_type": "fragment"
    }
   },
   "outputs": [
    {
     "data": {
      "image/png": "[encoded data removed]",
      "text/plain": [
       "<matplotlib.figure.Figure at 0x7f6a88da9ba8>"
      ]
     },
     "metadata": {},
     "output_type": "display_data"
    }
   ],
   "source": [
    "sample_survey.loc[:, ['i_Education', 'wf']].groupby('i_Education').sum().plot.bar();"
   ]
  },
  {
   "cell_type": "markdown",
   "metadata": {
    "slideshow": {
     "slide_type": "slide"
    }
   },
   "source": [
    "#### Define growth rates"
   ]
  },
  {
   "cell_type": "code",
   "execution_count": 8,
   "metadata": {
    "collapsed": true,
    "slideshow": {
     "slide_type": "fragment"
    }
   },
   "outputs": [],
   "source": [
    "Elec  = transition_rate(0, 0.4, start=2016)\n",
    "Water = transition_rate(0, 0.2, start=2016)\n",
    "pr    = transition_rate(0, 0.3, start=2016)"
   ]
  },
  {
   "cell_type": "markdown",
   "metadata": {
    "slideshow": {
     "slide_type": "fragment"
    }
   },
   "source": [
    "With help of the `growth_rate()` function we define the **efficiency growth rate** and the technology penetration rate. For the technology penetration rate we define the start year to be equal to the benchmark year (2016). The function will automatically include the necessary zeros at the beginning of the growth rate vector.\n",
    "The function `plot_growth_rate()` allow us to **visualize** the predefined efficiency growth rates and the technology growth rates."
   ]
  },
  {
   "cell_type": "code",
   "execution_count": 9,
   "metadata": {
    "scrolled": false,
    "slideshow": {
     "slide_type": "fragment"
    }
   },
   "outputs": [
    {
     "data": {
      "image/png": "[encoded data removed]",
      "text/plain": [
       "<matplotlib.figure.Figure at 0x7f6a88d297b8>"
      ]
     },
     "metadata": {},
     "output_type": "display_data"
    }
   ],
   "source": [
    "plot_transition_rate(\n",
    "    {\"Technology penetration rate\": pr,\n",
    "     \"Electricity efficiency increase rate\": Elec,\n",
    "     \"Water efficiency increase rate\": Water},\n",
    "     \"scenario 1\")"
   ]
  },
  {
   "cell_type": "markdown",
   "metadata": {
    "slideshow": {
     "slide_type": "slide"
    }
   },
   "source": [
    "#### Reduce consumption"
   ]
  },
  {
   "cell_type": "markdown",
   "metadata": {
    "slideshow": {
     "slide_type": "fragment"
    }
   },
   "source": [
    "The actual modifications on the sample is performed by the `reduce_consumption()` function. The function requires as input the following parameters:\n",
    "\n",
    "1. A base file name for the samples (in case of implementing the resample method).\n",
    "2. The sample year (in this case generated within the loop via `range(2010, 2031)`.\n",
    "3. The penetration rate for the sample year (iterated from vector `pr`).\n",
    "4. The predefined `sampling_rules`.\n",
    "5. A dictionary containing the efficiency rates for specific variables. (in this case for Electricity and Water).\n",
    "6. A name for the scenario. "
   ]
  },
  {
   "cell_type": "code",
   "execution_count": 10,
   "metadata": {
    "scrolled": false,
    "slideshow": {
     "slide_type": "fragment"
    }
   },
   "outputs": [
    {
     "name": "stdout",
     "output_type": "stream",
     "text": [
      "00.00%      both       reduction; efficiency rate 00.00%; year 2010 and penetration rate 00.00\n",
      "00.00%      both       reduction; efficiency rate 00.00%; year 2011 and penetration rate 00.00\n",
      "00.00%      both       reduction; efficiency rate 00.00%; year 2012 and penetration rate 00.00\n",
      "00.00%      both       reduction; efficiency rate 00.00%; year 2013 and penetration rate 00.00\n",
      "00.00%      both       reduction; efficiency rate 00.00%; year 2014 and penetration rate 00.00\n",
      "00.00%      both       reduction; efficiency rate 00.00%; year 2015 and penetration rate 00.00\n",
      "00.00%      both       reduction; efficiency rate 00.00%; year 2016 and penetration rate 00.00\n",
      "00.05%   Electricity   reduction; efficiency rate 02.86%; year 2017 and penetration rate 00.02\n",
      "00.02%      Water      reduction; efficiency rate 01.43%; year 2017 and penetration rate 00.02\n",
      "00.19%   Electricity   reduction; efficiency rate 05.71%; year 2018 and penetration rate 00.04\n",
      "00.08%      Water      reduction; efficiency rate 02.86%; year 2018 and penetration rate 00.04\n",
      "00.43%   Electricity   reduction; efficiency rate 08.57%; year 2019 and penetration rate 00.06\n",
      "00.18%      Water      reduction; efficiency rate 04.29%; year 2019 and penetration rate 00.06\n",
      "00.78%   Electricity   reduction; efficiency rate 11.43%; year 2020 and penetration rate 00.09\n",
      "00.32%      Water      reduction; efficiency rate 05.71%; year 2020 and penetration rate 00.09\n",
      "01.26%   Electricity   reduction; efficiency rate 14.29%; year 2021 and penetration rate 00.11\n",
      "00.51%      Water      reduction; efficiency rate 07.14%; year 2021 and penetration rate 00.11\n",
      "01.89%   Electricity   reduction; efficiency rate 17.14%; year 2022 and penetration rate 00.13\n",
      "00.72%      Water      reduction; efficiency rate 08.57%; year 2022 and penetration rate 00.13\n",
      "02.49%   Electricity   reduction; efficiency rate 20.00%; year 2023 and penetration rate 00.15\n",
      "01.00%      Water      reduction; efficiency rate 10.00%; year 2023 and penetration rate 00.15\n",
      "03.31%   Electricity   reduction; efficiency rate 22.86%; year 2024 and penetration rate 00.17\n",
      "01.34%      Water      reduction; efficiency rate 11.43%; year 2024 and penetration rate 00.17\n",
      "04.16%   Electricity   reduction; efficiency rate 25.71%; year 2025 and penetration rate 00.19\n",
      "01.69%      Water      reduction; efficiency rate 12.86%; year 2025 and penetration rate 00.19\n",
      "05.19%   Electricity   reduction; efficiency rate 28.57%; year 2026 and penetration rate 00.21\n",
      "02.10%      Water      reduction; efficiency rate 14.29%; year 2026 and penetration rate 00.21\n",
      "06.34%   Electricity   reduction; efficiency rate 31.43%; year 2027 and penetration rate 00.24\n",
      "02.62%      Water      reduction; efficiency rate 15.71%; year 2027 and penetration rate 00.24\n",
      "07.85%   Electricity   reduction; efficiency rate 34.29%; year 2028 and penetration rate 00.26\n",
      "03.43%      Water      reduction; efficiency rate 17.14%; year 2028 and penetration rate 00.26\n",
      "09.37%   Electricity   reduction; efficiency rate 37.14%; year 2029 and penetration rate 00.28\n",
      "04.21%      Water      reduction; efficiency rate 18.57%; year 2029 and penetration rate 00.28\n",
      "11.14%   Electricity   reduction; efficiency rate 40.00%; year 2030 and penetration rate 00.30\n",
      "05.11%      Water      reduction; efficiency rate 20.00%; year 2030 and penetration rate 00.30\n"
     ]
    }
   ],
   "source": [
    "for y, p, elec, water in zip(range(2010, 2031), pr, Elec, Water):\n",
    "    _ = reduce_consumption(\n",
    "        file_name,\n",
    "        y, p, sampling_rules,\n",
    "        {'Electricity':elec, 'Water':water},\n",
    "        scenario_name = \"scenario 1\")"
   ]
  },
  {
   "cell_type": "code",
   "execution_count": 11,
   "metadata": {
    "collapsed": true,
    "slideshow": {
     "slide_type": "slide"
    }
   },
   "outputs": [],
   "source": [
    "Elec  = transition_rate(0.0, 0.5, start=2016)\n",
    "Water = transition_rate(0.0, 0.3, start=2016)\n",
    "pr    = transition_rate(0.0, 0.6, start=2016)"
   ]
  },
  {
   "cell_type": "markdown",
   "metadata": {
    "slideshow": {
     "slide_type": "fragment"
    }
   },
   "source": [
    "By modifying the growht rates we can create different scenarios."
   ]
  },
  {
   "cell_type": "code",
   "execution_count": 12,
   "metadata": {
    "slideshow": {
     "slide_type": "fragment"
    }
   },
   "outputs": [
    {
     "data": {
      "image/png": "[encoded data removed]",
      "text/plain": [
       "<matplotlib.figure.Figure at 0x7f6a88cb3198>"
      ]
     },
     "metadata": {},
     "output_type": "display_data"
    }
   ],
   "source": [
    "plot_transition_rate(\n",
    "    {\"Technology penetration rate\": pr,\n",
    "     \"Electricity efficiency increase rate\": Elec,\n",
    "     \"Water efficiency increase rate\": Water},\n",
    "     \"scenario 2\")"
   ]
  },
  {
   "cell_type": "code",
   "execution_count": 13,
   "metadata": {
    "slideshow": {
     "slide_type": "slide"
    }
   },
   "outputs": [
    {
     "name": "stdout",
     "output_type": "stream",
     "text": [
      "00.00%      both       reduction; efficiency rate 00.00%; year 2010 and penetration rate 00.00\n",
      "00.00%      both       reduction; efficiency rate 00.00%; year 2011 and penetration rate 00.00\n",
      "00.00%      both       reduction; efficiency rate 00.00%; year 2012 and penetration rate 00.00\n",
      "00.00%      both       reduction; efficiency rate 00.00%; year 2013 and penetration rate 00.00\n",
      "00.00%      both       reduction; efficiency rate 00.00%; year 2014 and penetration rate 00.00\n",
      "00.00%      both       reduction; efficiency rate 00.00%; year 2015 and penetration rate 00.00\n",
      "00.00%      both       reduction; efficiency rate 00.00%; year 2016 and penetration rate 00.00\n",
      "00.12%   Electricity   reduction; efficiency rate 03.57%; year 2017 and penetration rate 00.04\n",
      "00.06%      Water      reduction; efficiency rate 02.14%; year 2017 and penetration rate 00.04\n",
      "00.49%   Electricity   reduction; efficiency rate 07.14%; year 2018 and penetration rate 00.09\n",
      "00.25%      Water      reduction; efficiency rate 04.29%; year 2018 and penetration rate 00.09\n",
      "01.08%   Electricity   reduction; efficiency rate 10.71%; year 2019 and penetration rate 00.13\n",
      "00.54%      Water      reduction; efficiency rate 06.43%; year 2019 and penetration rate 00.13\n",
      "01.95%   Electricity   reduction; efficiency rate 14.29%; year 2020 and penetration rate 00.17\n",
      "00.98%      Water      reduction; efficiency rate 08.57%; year 2020 and penetration rate 00.17\n",
      "03.16%   Electricity   reduction; efficiency rate 17.86%; year 2021 and penetration rate 00.21\n",
      "01.55%      Water      reduction; efficiency rate 10.71%; year 2021 and penetration rate 00.21\n",
      "04.77%   Electricity   reduction; efficiency rate 21.43%; year 2022 and penetration rate 00.26\n",
      "02.26%      Water      reduction; efficiency rate 12.86%; year 2022 and penetration rate 00.26\n",
      "06.59%   Electricity   reduction; efficiency rate 25.00%; year 2023 and penetration rate 00.30\n",
      "03.43%      Water      reduction; efficiency rate 15.00%; year 2023 and penetration rate 00.30\n",
      "08.93%   Electricity   reduction; efficiency rate 28.57%; year 2024 and penetration rate 00.34\n",
      "04.83%      Water      reduction; efficiency rate 17.14%; year 2024 and penetration rate 00.34\n",
      "11.49%   Electricity   reduction; efficiency rate 32.14%; year 2025 and penetration rate 00.39\n",
      "06.38%      Water      reduction; efficiency rate 19.29%; year 2025 and penetration rate 00.39\n",
      "14.42%   Electricity   reduction; efficiency rate 35.71%; year 2026 and penetration rate 00.43\n",
      "08.09%      Water      reduction; efficiency rate 21.43%; year 2026 and penetration rate 00.43\n",
      "17.58%   Electricity   reduction; efficiency rate 39.29%; year 2027 and penetration rate 00.47\n",
      "09.98%      Water      reduction; efficiency rate 23.57%; year 2027 and penetration rate 00.47\n",
      "21.24%   Electricity   reduction; efficiency rate 42.86%; year 2028 and penetration rate 00.51\n",
      "12.25%      Water      reduction; efficiency rate 25.71%; year 2028 and penetration rate 00.51\n",
      "25.10%   Electricity   reduction; efficiency rate 46.43%; year 2029 and penetration rate 00.56\n",
      "14.62%      Water      reduction; efficiency rate 27.86%; year 2029 and penetration rate 00.56\n",
      "29.38%   Electricity   reduction; efficiency rate 50.00%; year 2030 and penetration rate 00.60\n",
      "17.24%      Water      reduction; efficiency rate 30.00%; year 2030 and penetration rate 00.60\n"
     ]
    }
   ],
   "source": [
    "for y, p, elec, water in zip(range(2010, 2031), pr, Elec, Water):\n",
    "    _ = reduce_consumption(\n",
    "        file_name,\n",
    "        y, p, sampling_rules,\n",
    "        {'Electricity':elec, 'Water':water},\n",
    "        scenario_name = \"scenario 2\")"
   ]
  }
 ],
 "metadata": {
  "kernelspec": {
   "display_name": "Python 3",
   "language": "python",
   "name": "python3"
  },
  "language_info": {
   "codemirror_mode": {
    "name": "ipython",
    "version": 3
   },
   "file_extension": ".py",
   "mimetype": "text/x-python",
   "name": "python",
   "nbconvert_exporter": "python",
   "pygments_lexer": "ipython3",
   "version": "3.6.4"
  }
 },
 "nbformat": 4,
 "nbformat_minor": 2
}
