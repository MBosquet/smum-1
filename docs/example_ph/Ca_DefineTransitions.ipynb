{
 "cells": [
  {
   "cell_type": "markdown",
   "metadata": {
    "slideshow": {
     "slide_type": "slide"
    }
   },
   "source": [
    "## Sorsogon. Step 3.a Defining simple transition scenarios"
   ]
  },
  {
   "cell_type": "code",
   "execution_count": 1,
   "metadata": {
    "slideshow": {
     "slide_type": "skip"
    }
   },
   "outputs": [
    {
     "name": "stdout",
     "output_type": "stream",
     "text": [
      "2018-03-26 01:59:08.226709\n"
     ]
    }
   ],
   "source": [
    "import datetime; print(datetime.datetime.now())"
   ]
  },
  {
   "cell_type": "markdown",
   "metadata": {
    "slideshow": {
     "slide_type": "slide"
    }
   },
   "source": [
    "**Notebook Abstract:**\n",
    "\n",
    "The following notebook describes the process to construct simple **transition scenarios**.\n",
    "\n",
    "The transition scenarios are define as **efficiency** rates induced by **technology development** or **behavioral** changes. These rates can be used as proxies for all types of efficiency improvements.\n",
    "\n",
    "In order to define transition scenarios the model need the following information:\n",
    "\n",
    "1. A technology **penetration rate**. This defines the share of the population *adopting* the technology. The model uses `sampling rules` for the selection of the population adopting this technology.\n",
    "\n",
    "2. Development of **efficiency rates**. This define the actual technology development rate. "
   ]
  },
  {
   "cell_type": "markdown",
   "metadata": {
    "slideshow": {
     "slide_type": "slide"
    }
   },
   "source": [
    "### Import libraries"
   ]
  },
  {
   "cell_type": "code",
   "execution_count": 2,
   "metadata": {
    "collapsed": true,
    "slideshow": {
     "slide_type": "fragment"
    }
   },
   "outputs": [
    {
     "name": "stderr",
     "output_type": "stream",
     "text": [
      "/usr/lib/python3.6/site-packages/h5py-2.7.1-py3.6-linux-x86_64.egg/h5py/__init__.py:36: FutureWarning: Conversion of the second argument of issubdtype from `float` to `np.floating` is deprecated. In future, it will be treated as `np.float64 == np.dtype(float).type`.\n",
      "  from ._conv import register_converters as _register_converters\n"
     ]
    }
   ],
   "source": [
    "from smum.microsim.run import transition_rate\n",
    "from smum.microsim.util_plot import plot_transition_rate\n",
    "from smum.microsim.run import reduce_consumption"
   ]
  },
  {
   "cell_type": "markdown",
   "metadata": {
    "slideshow": {
     "slide_type": "fragment"
    }
   },
   "source": [
    "In order to compute the transition scenarios we make use of three modules of the `urbanmetabolism` library:\n",
    "\n",
    "1. `growth_rate`. This module will return a vector with linear **growth rates** given a starting and end rate.\n",
    "\n",
    "2. `plot_growth_rate`. This a simple function to **visualize** the defined growth rates.\n",
    "\n",
    "3. `reduce_consumption`. This function creates **new samples** with reduced consumption levels for the selected selection of the population."
   ]
  },
  {
   "cell_type": "markdown",
   "metadata": {
    "slideshow": {
     "slide_type": "slide"
    }
   },
   "source": [
    "### Define simple population selection rules"
   ]
  },
  {
   "cell_type": "code",
   "execution_count": 3,
   "metadata": {
    "collapsed": true,
    "slideshow": {
     "slide_type": "fragment"
    }
   },
   "outputs": [],
   "source": [
    "sampling_rules = {\n",
    "    #\"i_Education == 'Education_Elementary_School'\": 100,\n",
    "    \"i_Education == 'Education_Post_Secondary'\": 20,\n",
    "    \"i_Education == 'Education_College'\":        20,\n",
    "    \"i_Education == 'Education_Post_Graduate'\":  20,\n",
    "    \"i_Urbanity == 'Urbanity_Urban'\":            30,\n",
    "    \"Income >= 180000\":                          30\n",
    "}"
   ]
  },
  {
   "cell_type": "markdown",
   "metadata": {
    "slideshow": {
     "slide_type": "fragment"
    }
   },
   "source": [
    "Part of the scenario development is to identified which section of the population will adopt the new technology. The model defined this by a **sampling probability**. This probability is initially define as a uniform distribution (i.e. each individual on the sample has equal probability of being selected). A scenario is defined by allocating new sampling probabilities to a section of the population, by defining sampling rules. The sampling rules are passes to the [query](http://pandas.pydata.org/pandas-docs/stable/generated/pandas.DataFrame.query.html) function of a pandas `DataFrame`.\n",
    "\n",
    "On the example above, all individuals with a `Income` larger of equal to 180 000 Philippine Pesos are 30 times more likely to adopt the technology that the rest of the population. The sampling probabilities will sum up. This means that an individual with `Income >= 180000` and living on an urban area `e_Urban == 'Urbanity_Urban'` is 60 times more likely to be selected (i.e. adopt a new technology) that other individuals."
   ]
  },
  {
   "cell_type": "markdown",
   "metadata": {
    "slideshow": {
     "slide_type": "slide"
    }
   },
   "source": [
    "#### Initial sample data"
   ]
  },
  {
   "cell_type": "code",
   "execution_count": 4,
   "metadata": {
    "slideshow": {
     "slide_type": "fragment"
    }
   },
   "outputs": [
    {
     "data": {
      "text/html": [
       "<div>\n",
       "<style scoped>\n",
       "    .dataframe tbody tr th:only-of-type {\n",
       "        vertical-align: middle;\n",
       "    }\n",
       "\n",
       "    .dataframe tbody tr th {\n",
       "        vertical-align: top;\n",
       "    }\n",
       "\n",
       "    .dataframe thead th {\n",
       "        text-align: right;\n",
       "    }\n",
       "</style>\n",
       "<table border=\"1\" class=\"dataframe\">\n",
       "  <thead>\n",
       "    <tr style=\"text-align: right;\">\n",
       "      <th></th>\n",
       "      <th>index</th>\n",
       "      <th>i_Sex</th>\n",
       "      <th>i_Urbanity</th>\n",
       "      <th>i_FamilySize</th>\n",
       "      <th>i_Age</th>\n",
       "      <th>i_Education</th>\n",
       "      <th>e_Lighting</th>\n",
       "      <th>e_TV</th>\n",
       "      <th>e_Cooking</th>\n",
       "      <th>e_Refrigeration</th>\n",
       "      <th>e_AC</th>\n",
       "      <th>Income</th>\n",
       "      <th>Electricity</th>\n",
       "      <th>Water</th>\n",
       "      <th>w</th>\n",
       "      <th>wf</th>\n",
       "    </tr>\n",
       "  </thead>\n",
       "  <tbody>\n",
       "    <tr>\n",
       "      <th>0</th>\n",
       "      <td>0</td>\n",
       "      <td>sex_male</td>\n",
       "      <td>Urbanity_Rural</td>\n",
       "      <td>Size_5</td>\n",
       "      <td>age_19_25</td>\n",
       "      <td>Education_Elementary_School</td>\n",
       "      <td>Lighting_yes</td>\n",
       "      <td>TV_yes</td>\n",
       "      <td>Cooking_no</td>\n",
       "      <td>Refrigeration_no</td>\n",
       "      <td>AC_no</td>\n",
       "      <td>60354.807334</td>\n",
       "      <td>17.356259</td>\n",
       "      <td>36.414496</td>\n",
       "      <td>33.739938</td>\n",
       "      <td>37.150195</td>\n",
       "    </tr>\n",
       "    <tr>\n",
       "      <th>1</th>\n",
       "      <td>1</td>\n",
       "      <td>sex_male</td>\n",
       "      <td>Urbanity_Rural</td>\n",
       "      <td>Size_2</td>\n",
       "      <td>age_56_65</td>\n",
       "      <td>Education_College</td>\n",
       "      <td>Lighting_yes</td>\n",
       "      <td>TV_no</td>\n",
       "      <td>Cooking_no</td>\n",
       "      <td>Refrigeration_no</td>\n",
       "      <td>AC_no</td>\n",
       "      <td>324476.009011</td>\n",
       "      <td>88.241617</td>\n",
       "      <td>217.607975</td>\n",
       "      <td>33.739938</td>\n",
       "      <td>36.127915</td>\n",
       "    </tr>\n",
       "    <tr>\n",
       "      <th>2</th>\n",
       "      <td>2</td>\n",
       "      <td>sex_male</td>\n",
       "      <td>Urbanity_Rural</td>\n",
       "      <td>Size_7</td>\n",
       "      <td>age_26_35</td>\n",
       "      <td>Education_Elementary_School</td>\n",
       "      <td>Lighting_yes</td>\n",
       "      <td>TV_yes</td>\n",
       "      <td>Cooking_no</td>\n",
       "      <td>Refrigeration_no</td>\n",
       "      <td>AC_no</td>\n",
       "      <td>80395.582383</td>\n",
       "      <td>24.303869</td>\n",
       "      <td>52.374996</td>\n",
       "      <td>33.739938</td>\n",
       "      <td>51.494575</td>\n",
       "    </tr>\n",
       "    <tr>\n",
       "      <th>3</th>\n",
       "      <td>3</td>\n",
       "      <td>sex_male</td>\n",
       "      <td>Urbanity_Urban</td>\n",
       "      <td>Size_4</td>\n",
       "      <td>age_26_35</td>\n",
       "      <td>Education_College</td>\n",
       "      <td>Lighting_yes</td>\n",
       "      <td>TV_no</td>\n",
       "      <td>Cooking_no</td>\n",
       "      <td>Refrigeration_no</td>\n",
       "      <td>AC_no</td>\n",
       "      <td>359650.342076</td>\n",
       "      <td>112.707133</td>\n",
       "      <td>247.005030</td>\n",
       "      <td>33.739938</td>\n",
       "      <td>46.852140</td>\n",
       "    </tr>\n",
       "    <tr>\n",
       "      <th>4</th>\n",
       "      <td>4</td>\n",
       "      <td>sex_male</td>\n",
       "      <td>Urbanity_Rural</td>\n",
       "      <td>Size_2</td>\n",
       "      <td>age_66_75</td>\n",
       "      <td>Education_Post_Secondary</td>\n",
       "      <td>Lighting_yes</td>\n",
       "      <td>TV_no</td>\n",
       "      <td>Cooking_no</td>\n",
       "      <td>Refrigeration_yes</td>\n",
       "      <td>AC_no</td>\n",
       "      <td>178130.514100</td>\n",
       "      <td>58.126489</td>\n",
       "      <td>126.879872</td>\n",
       "      <td>33.739938</td>\n",
       "      <td>27.914082</td>\n",
       "    </tr>\n",
       "  </tbody>\n",
       "</table>\n",
       "</div>"
      ],
      "text/plain": [
       "   index     i_Sex      i_Urbanity i_FamilySize      i_Age  \\\n",
       "0      0  sex_male  Urbanity_Rural       Size_5  age_19_25   \n",
       "1      1  sex_male  Urbanity_Rural       Size_2  age_56_65   \n",
       "2      2  sex_male  Urbanity_Rural       Size_7  age_26_35   \n",
       "3      3  sex_male  Urbanity_Urban       Size_4  age_26_35   \n",
       "4      4  sex_male  Urbanity_Rural       Size_2  age_66_75   \n",
       "\n",
       "                   i_Education    e_Lighting    e_TV   e_Cooking  \\\n",
       "0  Education_Elementary_School  Lighting_yes  TV_yes  Cooking_no   \n",
       "1            Education_College  Lighting_yes   TV_no  Cooking_no   \n",
       "2  Education_Elementary_School  Lighting_yes  TV_yes  Cooking_no   \n",
       "3            Education_College  Lighting_yes   TV_no  Cooking_no   \n",
       "4     Education_Post_Secondary  Lighting_yes   TV_no  Cooking_no   \n",
       "\n",
       "     e_Refrigeration   e_AC         Income  Electricity       Water  \\\n",
       "0   Refrigeration_no  AC_no   60354.807334    17.356259   36.414496   \n",
       "1   Refrigeration_no  AC_no  324476.009011    88.241617  217.607975   \n",
       "2   Refrigeration_no  AC_no   80395.582383    24.303869   52.374996   \n",
       "3   Refrigeration_no  AC_no  359650.342076   112.707133  247.005030   \n",
       "4  Refrigeration_yes  AC_no  178130.514100    58.126489  126.879872   \n",
       "\n",
       "           w         wf  \n",
       "0  33.739938  37.150195  \n",
       "1  33.739938  36.127915  \n",
       "2  33.739938  51.494575  \n",
       "3  33.739938  46.852140  \n",
       "4  33.739938  27.914082  "
      ]
     },
     "execution_count": 4,
     "metadata": {},
     "output_type": "execute_result"
    }
   ],
   "source": [
    "import pandas as pd\n",
    "file_name = \"data/survey_Sorsogon_Electricity_Water_wbias_projected_dynamic_resampled_1000_{}.csv\"\n",
    "sample_survey = pd.read_csv(file_name.format(2010), index_col=0)\n",
    "sample_survey.head()"
   ]
  },
  {
   "cell_type": "markdown",
   "metadata": {
    "slideshow": {
     "slide_type": "fragment"
    }
   },
   "source": [
    "The `reduce_consumption` module will use as input the samples created by the MCMC algorithm and select specific sections of the population to reduce their consumption levels.\n",
    "\n",
    "The input data is the constructed proxy sample data. Depending on the simulation type (reweight/resample) the input data is a single file containing the weights for each simulation year (reweight) or individual samples for each simulation year (resample)."
   ]
  },
  {
   "cell_type": "markdown",
   "metadata": {
    "slideshow": {
     "slide_type": "subslide"
    }
   },
   "source": [
    "Most of the variables of the sample data is formatted as categorical data. The sample data shown above presents individual records with the predefine simulation variables as well as the computed **Income**, **Electricity** and **Water** consumption levels. The sample also contains two sets of weights: **w** and **wf**. The `w` weights correspond to the weights assign by the MCMC algorithm (uniform distributed) while the `wf` (final weights) are the weights computed by the GREGWT algorithm. The `reduce_consumption` function will use the `wf` weights for the selection of individuals."
   ]
  },
  {
   "cell_type": "code",
   "execution_count": 5,
   "metadata": {
    "slideshow": {
     "slide_type": "fragment"
    }
   },
   "outputs": [
    {
     "data": {
      "text/plain": [
       "array(['Education_Elementary_School', 'Education_College',\n",
       "       'Education_Post_Secondary', 'Education_High_School',\n",
       "       'Education_Post_Graduate'], dtype=object)"
      ]
     },
     "execution_count": 5,
     "metadata": {},
     "output_type": "execute_result"
    }
   ],
   "source": [
    "sample_survey.loc[:, 'i_Education'].unique()"
   ]
  },
  {
   "cell_type": "code",
   "execution_count": 6,
   "metadata": {
    "slideshow": {
     "slide_type": "fragment"
    }
   },
   "outputs": [
    {
     "data": {
      "image/png": "[encoded data removed]",
      "text/plain": [
       "<matplotlib.figure.Figure at 0x7fbf57b54e10>"
      ]
     },
     "metadata": {},
     "output_type": "display_data"
    }
   ],
   "source": [
    "sample_survey.loc[:, ['i_Education', 'wf']].groupby('i_Education').sum().plot.bar();"
   ]
  },
  {
   "cell_type": "markdown",
   "metadata": {
    "slideshow": {
     "slide_type": "slide"
    }
   },
   "source": [
    "#### Define growth rates"
   ]
  },
  {
   "cell_type": "code",
   "execution_count": 7,
   "metadata": {
    "collapsed": true,
    "slideshow": {
     "slide_type": "fragment"
    }
   },
   "outputs": [],
   "source": [
    "Elec  = transition_rate(0, 0.4, start=2016)\n",
    "Water = transition_rate(0, 0.2, start=2016)\n",
    "pr    = transition_rate(0, 0.3, start=2016)"
   ]
  },
  {
   "cell_type": "markdown",
   "metadata": {
    "slideshow": {
     "slide_type": "fragment"
    }
   },
   "source": [
    "With help of the `growth_rate()` function we define the **efficiency growth rate** and the technology penetration rate. For the technology penetration rate we define the start year to be equal to the benchmark year (2016). The function will automatically include the necessary zeros at the beginning of the growth rate vector.\n",
    "The function `plot_growth_rate()` allow us to **visualize** the predefined efficiency growth rates and the technology growth rates."
   ]
  },
  {
   "cell_type": "code",
   "execution_count": 8,
   "metadata": {
    "scrolled": false,
    "slideshow": {
     "slide_type": "fragment"
    }
   },
   "outputs": [
    {
     "data": {
      "image/png": "[encoded data removed]",
      "text/plain": [
       "<matplotlib.figure.Figure at 0x7fbf639aed30>"
      ]
     },
     "metadata": {},
     "output_type": "display_data"
    }
   ],
   "source": [
    "plot_transition_rate(\n",
    "    {\"Technology penetration rate\": pr,\n",
    "     \"Electricity efficiency increase rate\": Elec,\n",
    "     \"Water efficiency increase rate\": Water},\n",
    "     \"scenario 1\")"
   ]
  },
  {
   "cell_type": "markdown",
   "metadata": {
    "slideshow": {
     "slide_type": "slide"
    }
   },
   "source": [
    "#### Reduce consumption"
   ]
  },
  {
   "cell_type": "markdown",
   "metadata": {
    "slideshow": {
     "slide_type": "fragment"
    }
   },
   "source": [
    "The actual modifications on the sample is performed by the `reduce_consumption()` function. The function requires as input the following parameters:\n",
    "\n",
    "1. A base file name for the samples (in case of implementing the resample method).\n",
    "2. The sample year (in this case generated within the loop via `range(2010, 2031)`.\n",
    "3. The penetration rate for the sample year (iterated from vector `pr`).\n",
    "4. The predefined `sampling_rules`.\n",
    "5. A dictionary containing the efficiency rates for specific variables. (in this case for Electricity and Water).\n",
    "6. A name for the scenario. "
   ]
  },
  {
   "cell_type": "code",
   "execution_count": 9,
   "metadata": {
    "scrolled": false,
    "slideshow": {
     "slide_type": "fragment"
    }
   },
   "outputs": [
    {
     "name": "stdout",
     "output_type": "stream",
     "text": [
      "00.00%      both       reduction; efficiency rate 00.00%;              year 2010 and penetration rate 00.00\n",
      "00.00%      both       reduction; efficiency rate 00.00%;              year 2011 and penetration rate 00.00\n",
      "00.00%      both       reduction; efficiency rate 00.00%;              year 2012 and penetration rate 00.00\n",
      "00.00%      both       reduction; efficiency rate 00.00%;              year 2013 and penetration rate 00.00\n",
      "00.00%      both       reduction; efficiency rate 00.00%;              year 2014 and penetration rate 00.00\n",
      "00.00%      both       reduction; efficiency rate 00.00%;              year 2015 and penetration rate 00.00\n",
      "00.00%      both       reduction; efficiency rate 00.00%;              year 2016 and penetration rate 00.00\n",
      "00.08%   Electricity   reduction; efficiency rate 02.86%;              year 2017 and penetration rate 00.02\n",
      "00.04%      Water      reduction; efficiency rate 01.43%;              year 2017 and penetration rate 00.02\n",
      "00.30%   Electricity   reduction; efficiency rate 05.71%;              year 2018 and penetration rate 00.04\n",
      "00.16%      Water      reduction; efficiency rate 02.86%;              year 2018 and penetration rate 00.04\n",
      "00.66%   Electricity   reduction; efficiency rate 08.57%;              year 2019 and penetration rate 00.06\n",
      "00.36%      Water      reduction; efficiency rate 04.29%;              year 2019 and penetration rate 00.06\n",
      "01.15%   Electricity   reduction; efficiency rate 11.43%;              year 2020 and penetration rate 00.09\n",
      "00.63%      Water      reduction; efficiency rate 05.71%;              year 2020 and penetration rate 00.09\n",
      "01.80%   Electricity   reduction; efficiency rate 14.29%;              year 2021 and penetration rate 00.11\n",
      "00.97%      Water      reduction; efficiency rate 07.14%;              year 2021 and penetration rate 00.11\n",
      "02.51%   Electricity   reduction; efficiency rate 17.14%;              year 2022 and penetration rate 00.13\n",
      "01.38%      Water      reduction; efficiency rate 08.57%;              year 2022 and penetration rate 00.13\n",
      "03.38%   Electricity   reduction; efficiency rate 20.00%;              year 2023 and penetration rate 00.15\n",
      "01.87%      Water      reduction; efficiency rate 10.00%;              year 2023 and penetration rate 00.15\n",
      "04.37%   Electricity   reduction; efficiency rate 22.86%;              year 2024 and penetration rate 00.17\n",
      "02.37%      Water      reduction; efficiency rate 11.43%;              year 2024 and penetration rate 00.17\n",
      "05.50%   Electricity   reduction; efficiency rate 25.71%;              year 2025 and penetration rate 00.19\n",
      "03.00%      Water      reduction; efficiency rate 12.86%;              year 2025 and penetration rate 00.19\n",
      "06.74%   Electricity   reduction; efficiency rate 28.57%;              year 2026 and penetration rate 00.21\n",
      "03.64%      Water      reduction; efficiency rate 14.29%;              year 2026 and penetration rate 00.21\n",
      "08.10%   Electricity   reduction; efficiency rate 31.43%;              year 2027 and penetration rate 00.24\n",
      "04.36%      Water      reduction; efficiency rate 15.71%;              year 2027 and penetration rate 00.24\n",
      "09.55%   Electricity   reduction; efficiency rate 34.29%;              year 2028 and penetration rate 00.26\n",
      "05.09%      Water      reduction; efficiency rate 17.14%;              year 2028 and penetration rate 00.26\n",
      "11.14%   Electricity   reduction; efficiency rate 37.14%;              year 2029 and penetration rate 00.28\n",
      "05.92%      Water      reduction; efficiency rate 18.57%;              year 2029 and penetration rate 00.28\n",
      "12.81%   Electricity   reduction; efficiency rate 40.00%;              year 2030 and penetration rate 00.30\n",
      "06.76%      Water      reduction; efficiency rate 20.00%;              year 2030 and penetration rate 00.30\n"
     ]
    }
   ],
   "source": [
    "for y, p, elec, water in zip(range(2010, 2031), pr, Elec, Water):\n",
    "    _ = reduce_consumption(\n",
    "        file_name,\n",
    "        y, p, sampling_rules,\n",
    "        {'Electricity':elec, 'Water':water},\n",
    "        scenario_name = \"scenario 1\")"
   ]
  },
  {
   "cell_type": "code",
   "execution_count": 10,
   "metadata": {
    "collapsed": true,
    "slideshow": {
     "slide_type": "slide"
    }
   },
   "outputs": [],
   "source": [
    "Elec  = transition_rate(0.0, 0.5, start=2016)\n",
    "Water = transition_rate(0.0, 0.3, start=2016)\n",
    "pr    = transition_rate(0.0, 0.6, start=2016)"
   ]
  },
  {
   "cell_type": "markdown",
   "metadata": {
    "slideshow": {
     "slide_type": "fragment"
    }
   },
   "source": [
    "By modifying the growht rates we can create different scenarios."
   ]
  },
  {
   "cell_type": "code",
   "execution_count": 11,
   "metadata": {
    "slideshow": {
     "slide_type": "fragment"
    }
   },
   "outputs": [
    {
     "data": {
      "image/png": "[encoded data removed]",
      "text/plain": [
       "<matplotlib.figure.Figure at 0x7fbf57a33240>"
      ]
     },
     "metadata": {},
     "output_type": "display_data"
    }
   ],
   "source": [
    "plot_transition_rate(\n",
    "    {\"Technology penetration rate\": pr,\n",
    "     \"Electricity efficiency increase rate\": Elec,\n",
    "     \"Water efficiency increase rate\": Water},\n",
    "     \"scenario 2\")"
   ]
  },
  {
   "cell_type": "code",
   "execution_count": 12,
   "metadata": {
    "slideshow": {
     "slide_type": "slide"
    }
   },
   "outputs": [
    {
     "name": "stdout",
     "output_type": "stream",
     "text": [
      "00.00%      both       reduction; efficiency rate 00.00%;              year 2010 and penetration rate 00.00\n",
      "00.00%      both       reduction; efficiency rate 00.00%;              year 2011 and penetration rate 00.00\n",
      "00.00%      both       reduction; efficiency rate 00.00%;              year 2012 and penetration rate 00.00\n",
      "00.00%      both       reduction; efficiency rate 00.00%;              year 2013 and penetration rate 00.00\n",
      "00.00%      both       reduction; efficiency rate 00.00%;              year 2014 and penetration rate 00.00\n",
      "00.00%      both       reduction; efficiency rate 00.00%;              year 2015 and penetration rate 00.00\n",
      "00.00%      both       reduction; efficiency rate 00.00%;              year 2016 and penetration rate 00.00\n",
      "00.19%   Electricity   reduction; efficiency rate 03.57%;              year 2017 and penetration rate 00.04\n",
      "00.13%      Water      reduction; efficiency rate 02.14%;              year 2017 and penetration rate 00.04\n",
      "00.74%   Electricity   reduction; efficiency rate 07.14%;              year 2018 and penetration rate 00.09\n",
      "00.48%      Water      reduction; efficiency rate 04.29%;              year 2018 and penetration rate 00.09\n",
      "01.63%   Electricity   reduction; efficiency rate 10.71%;              year 2019 and penetration rate 00.13\n",
      "01.07%      Water      reduction; efficiency rate 06.43%;              year 2019 and penetration rate 00.13\n",
      "02.87%   Electricity   reduction; efficiency rate 14.29%;              year 2020 and penetration rate 00.17\n",
      "01.87%      Water      reduction; efficiency rate 08.57%;              year 2020 and penetration rate 00.17\n",
      "04.44%   Electricity   reduction; efficiency rate 17.86%;              year 2021 and penetration rate 00.21\n",
      "02.88%      Water      reduction; efficiency rate 10.71%;              year 2021 and penetration rate 00.21\n",
      "06.22%   Electricity   reduction; efficiency rate 21.43%;              year 2022 and penetration rate 00.26\n",
      "04.06%      Water      reduction; efficiency rate 12.86%;              year 2022 and penetration rate 00.26\n",
      "08.43%   Electricity   reduction; efficiency rate 25.00%;              year 2023 and penetration rate 00.30\n",
      "05.55%      Water      reduction; efficiency rate 15.00%;              year 2023 and penetration rate 00.30\n",
      "10.90%   Electricity   reduction; efficiency rate 28.57%;              year 2024 and penetration rate 00.34\n",
      "07.08%      Water      reduction; efficiency rate 17.14%;              year 2024 and penetration rate 00.34\n",
      "13.65%   Electricity   reduction; efficiency rate 32.14%;              year 2025 and penetration rate 00.39\n",
      "08.88%      Water      reduction; efficiency rate 19.29%;              year 2025 and penetration rate 00.39\n",
      "16.66%   Electricity   reduction; efficiency rate 35.71%;              year 2026 and penetration rate 00.43\n",
      "10.71%      Water      reduction; efficiency rate 21.43%;              year 2026 and penetration rate 00.43\n",
      "20.00%   Electricity   reduction; efficiency rate 39.29%;              year 2027 and penetration rate 00.47\n",
      "12.80%      Water      reduction; efficiency rate 23.57%;              year 2027 and penetration rate 00.47\n",
      "23.72%   Electricity   reduction; efficiency rate 42.86%;              year 2028 and penetration rate 00.51\n",
      "15.10%      Water      reduction; efficiency rate 25.71%;              year 2028 and penetration rate 00.51\n",
      "27.54%   Electricity   reduction; efficiency rate 46.43%;              year 2029 and penetration rate 00.56\n",
      "17.42%      Water      reduction; efficiency rate 27.86%;              year 2029 and penetration rate 00.56\n",
      "31.73%   Electricity   reduction; efficiency rate 50.00%;              year 2030 and penetration rate 00.60\n",
      "19.95%      Water      reduction; efficiency rate 30.00%;              year 2030 and penetration rate 00.60\n"
     ]
    }
   ],
   "source": [
    "for y, p, elec, water in zip(range(2010, 2031), pr, Elec, Water):\n",
    "    _ = reduce_consumption(\n",
    "        file_name,\n",
    "        y, p, sampling_rules,\n",
    "        {'Electricity':elec, 'Water':water},\n",
    "        scenario_name = \"scenario 2\")"
   ]
  }
 ],
 "metadata": {
  "kernelspec": {
   "display_name": "Python 3",
   "language": "python",
   "name": "python3"
  },
  "language_info": {
   "codemirror_mode": {
    "name": "ipython",
    "version": 3
   },
   "file_extension": ".py",
   "mimetype": "text/x-python",
   "name": "python",
   "nbconvert_exporter": "python",
   "pygments_lexer": "ipython3",
   "version": "3.6.4"
  }
 },
 "nbformat": 4,
 "nbformat_minor": 2
}
