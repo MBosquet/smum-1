{
 "cells": [
  {
   "cell_type": "markdown",
   "metadata": {
    "slideshow": {
     "slide_type": "slide"
    }
   },
   "source": [
    "## Sorsogon. Step 2.a Dynamic Sampling Model  and GREGWT"
   ]
  },
  {
   "cell_type": "code",
   "execution_count": 1,
   "metadata": {
    "slideshow": {
     "slide_type": "skip"
    }
   },
   "outputs": [
    {
     "name": "stdout",
     "output_type": "stream",
     "text": [
      "2018-03-26 01:28:43.554147\n"
     ]
    }
   ],
   "source": [
    "import datetime; print(datetime.datetime.now())"
   ]
  },
  {
   "cell_type": "markdown",
   "metadata": {
    "slideshow": {
     "slide_type": "slide"
    }
   },
   "source": [
    "**Notebook abstract**\n",
    "\n",
    "This notebook shows the main sampling and reweighting algorithm."
   ]
  },
  {
   "cell_type": "markdown",
   "metadata": {
    "slideshow": {
     "slide_type": "slide"
    }
   },
   "source": [
    "### Import libraries"
   ]
  },
  {
   "cell_type": "code",
   "execution_count": 2,
   "metadata": {
    "collapsed": true,
    "slideshow": {
     "slide_type": "fragment"
    }
   },
   "outputs": [
    {
     "name": "stderr",
     "output_type": "stream",
     "text": [
      "/usr/lib/python3.6/site-packages/h5py-2.7.1-py3.6-linux-x86_64.egg/h5py/__init__.py:36: FutureWarning: Conversion of the second argument of issubdtype from `float` to `np.floating` is deprecated. In future, it will be treated as `np.float64 == np.dtype(float).type`.\n",
      "  from ._conv import register_converters as _register_converters\n"
     ]
    }
   ],
   "source": [
    "from smum.microsim.run import run_calibrated_model\n",
    "from smum.microsim.table import TableModel"
   ]
  },
  {
   "cell_type": "markdown",
   "metadata": {
    "slideshow": {
     "slide_type": "slide"
    }
   },
   "source": [
    "### Global variables"
   ]
  },
  {
   "cell_type": "code",
   "execution_count": 3,
   "metadata": {
    "collapsed": true,
    "slideshow": {
     "slide_type": "fragment"
    }
   },
   "outputs": [],
   "source": [
    "iterations = 1000\n",
    "benchmark_year = 2016\n",
    "census_file = 'data/benchmarks_year_bias.csv'\n",
    "typ = 'resampled'\n",
    "model_name = 'Sorsogon_Electricity_Water_wbias_projected_dynamic_{}'.format(typ)\n",
    "verbose = False\n",
    "#The number of chains to run in parallel. \n",
    "njobs = 4"
   ]
  },
  {
   "cell_type": "markdown",
   "metadata": {
    "slideshow": {
     "slide_type": "slide"
    }
   },
   "source": [
    "### Define Table model"
   ]
  },
  {
   "cell_type": "code",
   "execution_count": 4,
   "metadata": {
    "collapsed": true,
    "slideshow": {
     "slide_type": "fragment"
    }
   },
   "outputs": [],
   "source": [
    "tm = TableModel(census_file = census_file, verbose=verbose)"
   ]
  },
  {
   "cell_type": "markdown",
   "metadata": {
    "slideshow": {
     "slide_type": "slide"
    }
   },
   "source": [
    "#### Income model"
   ]
  },
  {
   "cell_type": "code",
   "execution_count": 5,
   "metadata": {
    "collapsed": true,
    "scrolled": true,
    "slideshow": {
     "slide_type": "fragment"
    }
   },
   "outputs": [],
   "source": [
    "tm.add_model('data/table_inc.csv',   'Income')\n",
    "tm.update_dynamic_model('Income', specific_col = 'Education')\n",
    "tm.update_dynamic_model('Income',\n",
    "                        specific_col = 'FamilySize',\n",
    "                        specific_col_as = 'Size',\n",
    "                        val = 'mu', compute_average =  0)\n",
    "tm.update_dynamic_model('Income',\n",
    "                        specific_col = 'Age',\n",
    "                        val = 'mu', compute_average =  0)"
   ]
  },
  {
   "cell_type": "code",
   "execution_count": 6,
   "metadata": {
    "slideshow": {
     "slide_type": "fragment"
    }
   },
   "outputs": [
    {
     "data": {
      "text/html": [
       "<div>\n",
       "<style scoped>\n",
       "    .dataframe tbody tr th:only-of-type {\n",
       "        vertical-align: middle;\n",
       "    }\n",
       "\n",
       "    .dataframe tbody tr th {\n",
       "        vertical-align: top;\n",
       "    }\n",
       "\n",
       "    .dataframe thead th {\n",
       "        text-align: right;\n",
       "    }\n",
       "</style>\n",
       "<table border=\"1\" class=\"dataframe\">\n",
       "  <thead>\n",
       "    <tr style=\"text-align: right;\">\n",
       "      <th></th>\n",
       "      <th>co_mu</th>\n",
       "      <th>co_sd</th>\n",
       "      <th>p</th>\n",
       "      <th>mu</th>\n",
       "      <th>sd</th>\n",
       "      <th>dis</th>\n",
       "      <th>ub</th>\n",
       "      <th>lb</th>\n",
       "    </tr>\n",
       "  </thead>\n",
       "  <tbody>\n",
       "    <tr>\n",
       "      <th>i_Intercept</th>\n",
       "      <td>NaN</td>\n",
       "      <td>NaN</td>\n",
       "      <td>1147.66</td>\n",
       "      <td>NaN</td>\n",
       "      <td>NaN</td>\n",
       "      <td>Deterministic</td>\n",
       "      <td>NaN</td>\n",
       "      <td>NaN</td>\n",
       "    </tr>\n",
       "    <tr>\n",
       "      <th>i_Sex</th>\n",
       "      <td>919.012059036333</td>\n",
       "      <td>161.50344091572538</td>\n",
       "      <td>0.243795</td>\n",
       "      <td>NaN</td>\n",
       "      <td>NaN</td>\n",
       "      <td>Bernoulli</td>\n",
       "      <td>NaN</td>\n",
       "      <td>NaN</td>\n",
       "    </tr>\n",
       "    <tr>\n",
       "      <th>i_Urbanity</th>\n",
       "      <td>7105.2244566329355</td>\n",
       "      <td>127.94148635675795</td>\n",
       "      <td>0.6356</td>\n",
       "      <td>NaN</td>\n",
       "      <td>NaN</td>\n",
       "      <td>Bernoulli</td>\n",
       "      <td>NaN</td>\n",
       "      <td>NaN</td>\n",
       "    </tr>\n",
       "    <tr>\n",
       "      <th>i_FamilySize</th>\n",
       "      <td>1666.846395220964</td>\n",
       "      <td>29.03482607534048</td>\n",
       "      <td>NaN</td>\n",
       "      <td>3.70878</td>\n",
       "      <td>1.83794</td>\n",
       "      <td>Poisson</td>\n",
       "      <td>10</td>\n",
       "      <td>1</td>\n",
       "    </tr>\n",
       "    <tr>\n",
       "      <th>i_Age</th>\n",
       "      <td>116.57589770606201</td>\n",
       "      <td>4.681393204635</td>\n",
       "      <td>NaN</td>\n",
       "      <td>52.5153</td>\n",
       "      <td>12.2451</td>\n",
       "      <td>Normal</td>\n",
       "      <td>100</td>\n",
       "      <td>18</td>\n",
       "    </tr>\n",
       "    <tr>\n",
       "      <th>i_Education</th>\n",
       "      <td>1.0,6023.86254599,11959.091528,18727.4606703,1...</td>\n",
       "      <td>1e-10,140.904404522,217.208790314,282.17614554...</td>\n",
       "      <td>0.2430379746835443,0.21581625995041107,0.25540...</td>\n",
       "      <td>NaN</td>\n",
       "      <td>NaN</td>\n",
       "      <td>Categorical</td>\n",
       "      <td>NaN</td>\n",
       "      <td>NaN</td>\n",
       "    </tr>\n",
       "  </tbody>\n",
       "</table>\n",
       "</div>"
      ],
      "text/plain": [
       "                                                          co_mu  \\\n",
       "i_Intercept                                                 NaN   \n",
       "i_Sex                                          919.012059036333   \n",
       "i_Urbanity                                   7105.2244566329355   \n",
       "i_FamilySize                                  1666.846395220964   \n",
       "i_Age                                        116.57589770606201   \n",
       "i_Education   1.0,6023.86254599,11959.091528,18727.4606703,1...   \n",
       "\n",
       "                                                          co_sd  \\\n",
       "i_Intercept                                                 NaN   \n",
       "i_Sex                                        161.50344091572538   \n",
       "i_Urbanity                                   127.94148635675795   \n",
       "i_FamilySize                                  29.03482607534048   \n",
       "i_Age                                            4.681393204635   \n",
       "i_Education   1e-10,140.904404522,217.208790314,282.17614554...   \n",
       "\n",
       "                                                              p       mu  \\\n",
       "i_Intercept                                             1147.66      NaN   \n",
       "i_Sex                                                  0.243795      NaN   \n",
       "i_Urbanity                                               0.6356      NaN   \n",
       "i_FamilySize                                                NaN  3.70878   \n",
       "i_Age                                                       NaN  52.5153   \n",
       "i_Education   0.2430379746835443,0.21581625995041107,0.25540...      NaN   \n",
       "\n",
       "                   sd            dis   ub   lb  \n",
       "i_Intercept       NaN  Deterministic  NaN  NaN  \n",
       "i_Sex             NaN      Bernoulli  NaN  NaN  \n",
       "i_Urbanity        NaN      Bernoulli  NaN  NaN  \n",
       "i_FamilySize  1.83794        Poisson   10    1  \n",
       "i_Age         12.2451         Normal  100   18  \n",
       "i_Education       NaN    Categorical  NaN  NaN  "
      ]
     },
     "execution_count": 6,
     "metadata": {},
     "output_type": "execute_result"
    }
   ],
   "source": [
    "tm.models['Income'].loc[2020]"
   ]
  },
  {
   "cell_type": "code",
   "execution_count": 7,
   "metadata": {},
   "outputs": [],
   "source": [
    "formula_inc = \"i_Intercept+\"+\"+\".join(\n",
    "    [\"c_{0} * {0}\".format(e) for e in tm.models['Income'][benchmark_year].index if\\\n",
    "        (e != 'i_Intercept')])\n",
    "tm.add_formula(formula_inc, 'Income')"
   ]
  },
  {
   "cell_type": "code",
   "execution_count": 8,
   "metadata": {},
   "outputs": [
    {
     "name": "stdout",
     "output_type": "stream",
     "text": [
      "Income =\n",
      "\t i_Intercept +\n",
      "\t c_i_Sex * i_Sex +\n",
      "\t c_i_Urbanity * i_Urbanity +\n",
      "\t c_i_FamilySize * i_FamilySize +\n",
      "\t c_i_Age * i_Age +\n",
      "\t c_i_Education * i_Education +\n"
     ]
    }
   ],
   "source": [
    "tm.print_formula('Income')"
   ]
  },
  {
   "cell_type": "markdown",
   "metadata": {
    "slideshow": {
     "slide_type": "slide"
    }
   },
   "source": [
    "#### Electricity model"
   ]
  },
  {
   "cell_type": "code",
   "execution_count": 9,
   "metadata": {
    "collapsed": true,
    "scrolled": true,
    "slideshow": {
     "slide_type": "fragment"
    }
   },
   "outputs": [],
   "source": [
    "tm.add_model('data/table_elec.csv',  'Electricity', reference_cat = ['yes'])\n",
    "tm.update_dynamic_model('Electricity', specific_col = 'Income', val = 'mu', compute_average = False)"
   ]
  },
  {
   "cell_type": "code",
   "execution_count": 10,
   "metadata": {
    "slideshow": {
     "slide_type": "fragment"
    }
   },
   "outputs": [
    {
     "data": {
      "text/html": [
       "<div>\n",
       "<style scoped>\n",
       "    .dataframe tbody tr th:only-of-type {\n",
       "        vertical-align: middle;\n",
       "    }\n",
       "\n",
       "    .dataframe tbody tr th {\n",
       "        vertical-align: top;\n",
       "    }\n",
       "\n",
       "    .dataframe thead th {\n",
       "        text-align: right;\n",
       "    }\n",
       "</style>\n",
       "<table border=\"1\" class=\"dataframe\">\n",
       "  <thead>\n",
       "    <tr style=\"text-align: right;\">\n",
       "      <th></th>\n",
       "      <th>co_mu</th>\n",
       "      <th>co_sd</th>\n",
       "      <th>p</th>\n",
       "      <th>mu</th>\n",
       "      <th>sd</th>\n",
       "      <th>dis</th>\n",
       "      <th>ub</th>\n",
       "      <th>lb</th>\n",
       "    </tr>\n",
       "  </thead>\n",
       "  <tbody>\n",
       "    <tr>\n",
       "      <th>e_Intercept</th>\n",
       "      <td>NaN</td>\n",
       "      <td>NaN</td>\n",
       "      <td>3.29998</td>\n",
       "      <td>NaN</td>\n",
       "      <td>NaN</td>\n",
       "      <td>Deterministic</td>\n",
       "      <td>NaN</td>\n",
       "      <td>NaN</td>\n",
       "    </tr>\n",
       "    <tr>\n",
       "      <th>e_Lighting</th>\n",
       "      <td>0.825662</td>\n",
       "      <td>18.6676</td>\n",
       "      <td>0.946022</td>\n",
       "      <td>NaN</td>\n",
       "      <td>NaN</td>\n",
       "      <td>Bernoulli</td>\n",
       "      <td>NaN</td>\n",
       "      <td>NaN</td>\n",
       "    </tr>\n",
       "    <tr>\n",
       "      <th>e_TV</th>\n",
       "      <td>18.7899</td>\n",
       "      <td>1.75962</td>\n",
       "      <td>0.964932</td>\n",
       "      <td>NaN</td>\n",
       "      <td>NaN</td>\n",
       "      <td>Bernoulli</td>\n",
       "      <td>NaN</td>\n",
       "      <td>NaN</td>\n",
       "    </tr>\n",
       "    <tr>\n",
       "      <th>e_Cooking</th>\n",
       "      <td>28.8862</td>\n",
       "      <td>1.96894</td>\n",
       "      <td>0.0142662</td>\n",
       "      <td>NaN</td>\n",
       "      <td>NaN</td>\n",
       "      <td>Bernoulli</td>\n",
       "      <td>NaN</td>\n",
       "      <td>NaN</td>\n",
       "    </tr>\n",
       "    <tr>\n",
       "      <th>e_Refrigeration</th>\n",
       "      <td>59.2432</td>\n",
       "      <td>1.55605</td>\n",
       "      <td>0.602102</td>\n",
       "      <td>NaN</td>\n",
       "      <td>NaN</td>\n",
       "      <td>Bernoulli</td>\n",
       "      <td>NaN</td>\n",
       "      <td>NaN</td>\n",
       "    </tr>\n",
       "    <tr>\n",
       "      <th>e_AC</th>\n",
       "      <td>203.323</td>\n",
       "      <td>3.13016</td>\n",
       "      <td>0.256521</td>\n",
       "      <td>NaN</td>\n",
       "      <td>NaN</td>\n",
       "      <td>Bernoulli</td>\n",
       "      <td>NaN</td>\n",
       "      <td>NaN</td>\n",
       "    </tr>\n",
       "    <tr>\n",
       "      <th>e_Urban</th>\n",
       "      <td>24.5935</td>\n",
       "      <td>1.39104</td>\n",
       "      <td>1</td>\n",
       "      <td>NaN</td>\n",
       "      <td>NaN</td>\n",
       "      <td>Bernoulli</td>\n",
       "      <td>NaN</td>\n",
       "      <td>NaN</td>\n",
       "    </tr>\n",
       "    <tr>\n",
       "      <th>e_Income</th>\n",
       "      <td>0.00142607</td>\n",
       "      <td>4.10201e-05</td>\n",
       "      <td>NaN</td>\n",
       "      <td>190472</td>\n",
       "      <td>1904.72</td>\n",
       "      <td>None</td>\n",
       "      <td>inf</td>\n",
       "      <td>0</td>\n",
       "    </tr>\n",
       "  </tbody>\n",
       "</table>\n",
       "</div>"
      ],
      "text/plain": [
       "                      co_mu        co_sd          p      mu       sd  \\\n",
       "e_Intercept             NaN          NaN    3.29998     NaN      NaN   \n",
       "e_Lighting         0.825662      18.6676   0.946022     NaN      NaN   \n",
       "e_TV                18.7899      1.75962   0.964932     NaN      NaN   \n",
       "e_Cooking           28.8862      1.96894  0.0142662     NaN      NaN   \n",
       "e_Refrigeration     59.2432      1.55605   0.602102     NaN      NaN   \n",
       "e_AC                203.323      3.13016   0.256521     NaN      NaN   \n",
       "e_Urban             24.5935      1.39104          1     NaN      NaN   \n",
       "e_Income         0.00142607  4.10201e-05        NaN  190472  1904.72   \n",
       "\n",
       "                           dis   ub   lb  \n",
       "e_Intercept      Deterministic  NaN  NaN  \n",
       "e_Lighting           Bernoulli  NaN  NaN  \n",
       "e_TV                 Bernoulli  NaN  NaN  \n",
       "e_Cooking            Bernoulli  NaN  NaN  \n",
       "e_Refrigeration      Bernoulli  NaN  NaN  \n",
       "e_AC                 Bernoulli  NaN  NaN  \n",
       "e_Urban              Bernoulli  NaN  NaN  \n",
       "e_Income                  None  inf    0  "
      ]
     },
     "execution_count": 10,
     "metadata": {},
     "output_type": "execute_result"
    }
   ],
   "source": [
    "tm.models['Electricity'].loc[2016]"
   ]
  },
  {
   "cell_type": "code",
   "execution_count": 11,
   "metadata": {
    "collapsed": true,
    "slideshow": {
     "slide_type": "slide"
    }
   },
   "outputs": [],
   "source": [
    "formula_elec = \"e_Intercept+\"+\"+\".join(\n",
    "    [\"c_{0} * {0}\".format(e) for e in tm.models['Electricity'][benchmark_year].index if\\\n",
    "        (e != 'e_Intercept') &\\\n",
    "        (e != 'e_Income') &\\\n",
    "        (e != 'e_Urban')\n",
    "    ])\n",
    "formula_elec += '+c_e_Urban * i_Urbanity'\n",
    "formula_elec += '+c_e_{0} * {0}'.format('Income')"
   ]
  },
  {
   "cell_type": "code",
   "execution_count": 12,
   "metadata": {
    "collapsed": true,
    "slideshow": {
     "slide_type": "fragment"
    }
   },
   "outputs": [],
   "source": [
    "tm.add_formula(formula_elec, 'Electricity')"
   ]
  },
  {
   "cell_type": "code",
   "execution_count": 13,
   "metadata": {
    "slideshow": {
     "slide_type": "fragment"
    }
   },
   "outputs": [
    {
     "name": "stdout",
     "output_type": "stream",
     "text": [
      "Electricity =\n",
      "\t e_Intercept +\n",
      "\t c_e_Lighting * e_Lighting +\n",
      "\t c_e_TV * e_TV +\n",
      "\t c_e_Cooking * e_Cooking +\n",
      "\t c_e_Refrigeration * e_Refrigeration +\n",
      "\t c_e_AC * e_AC +\n",
      "\t c_e_Urban * i_Urbanity +\n",
      "\t c_e_Income * Income +\n"
     ]
    }
   ],
   "source": [
    "tm.print_formula('Electricity')"
   ]
  },
  {
   "cell_type": "markdown",
   "metadata": {
    "slideshow": {
     "slide_type": "slide"
    }
   },
   "source": [
    "#### Water model"
   ]
  },
  {
   "cell_type": "code",
   "execution_count": 14,
   "metadata": {
    "collapsed": true,
    "slideshow": {
     "slide_type": "fragment"
    }
   },
   "outputs": [],
   "source": [
    "tm.add_model('data/table_water.csv', 'Water')\n",
    "tm.update_dynamic_model('Water', specific_col = 'Education')\n",
    "tm.update_dynamic_model('Water',\n",
    "                        specific_col = 'FamilySize',\n",
    "                        specific_col_as = 'Size',\n",
    "                        val = 'mu', compute_average =  0)\n",
    "tm.update_dynamic_model('Water',\n",
    "                        specific_col = 'Age',\n",
    "                        val = 'mu', compute_average =  0)"
   ]
  },
  {
   "cell_type": "code",
   "execution_count": 15,
   "metadata": {
    "slideshow": {
     "slide_type": "fragment"
    }
   },
   "outputs": [
    {
     "data": {
      "text/html": [
       "<div>\n",
       "<style scoped>\n",
       "    .dataframe tbody tr th:only-of-type {\n",
       "        vertical-align: middle;\n",
       "    }\n",
       "\n",
       "    .dataframe tbody tr th {\n",
       "        vertical-align: top;\n",
       "    }\n",
       "\n",
       "    .dataframe thead th {\n",
       "        text-align: right;\n",
       "    }\n",
       "</style>\n",
       "<table border=\"1\" class=\"dataframe\">\n",
       "  <thead>\n",
       "    <tr style=\"text-align: right;\">\n",
       "      <th></th>\n",
       "      <th>co_mu</th>\n",
       "      <th>co_sd</th>\n",
       "      <th>p</th>\n",
       "      <th>dis</th>\n",
       "      <th>mu</th>\n",
       "      <th>sd</th>\n",
       "      <th>ub</th>\n",
       "      <th>lb</th>\n",
       "    </tr>\n",
       "  </thead>\n",
       "  <tbody>\n",
       "    <tr>\n",
       "      <th>w_Intercept</th>\n",
       "      <td>NaN</td>\n",
       "      <td>NaN</td>\n",
       "      <td>-601.592</td>\n",
       "      <td>Deterministic</td>\n",
       "      <td>NaN</td>\n",
       "      <td>NaN</td>\n",
       "      <td>NaN</td>\n",
       "      <td>NaN</td>\n",
       "    </tr>\n",
       "    <tr>\n",
       "      <th>w_Sex</th>\n",
       "      <td>98.49504620801835</td>\n",
       "      <td>29.44380722589748</td>\n",
       "      <td>0.243795</td>\n",
       "      <td>None</td>\n",
       "      <td>NaN</td>\n",
       "      <td>NaN</td>\n",
       "      <td>NaN</td>\n",
       "      <td>NaN</td>\n",
       "    </tr>\n",
       "    <tr>\n",
       "      <th>w_Urbanity</th>\n",
       "      <td>1000.9789077676428</td>\n",
       "      <td>25.415910606032206</td>\n",
       "      <td>0.6356</td>\n",
       "      <td>None</td>\n",
       "      <td>NaN</td>\n",
       "      <td>NaN</td>\n",
       "      <td>NaN</td>\n",
       "      <td>NaN</td>\n",
       "    </tr>\n",
       "    <tr>\n",
       "      <th>w_Total_Family_Income</th>\n",
       "      <td>0.05318701200857999</td>\n",
       "      <td>0.0009823058551951082</td>\n",
       "      <td>NaN</td>\n",
       "      <td>None</td>\n",
       "      <td>NaN</td>\n",
       "      <td>NaN</td>\n",
       "      <td>NaN</td>\n",
       "      <td>NaN</td>\n",
       "    </tr>\n",
       "    <tr>\n",
       "      <th>w_FamilySize</th>\n",
       "      <td>49.73935151831777</td>\n",
       "      <td>5.897790558149098</td>\n",
       "      <td>NaN</td>\n",
       "      <td>None</td>\n",
       "      <td>3.70878</td>\n",
       "      <td>1.83794</td>\n",
       "      <td>NaN</td>\n",
       "      <td>NaN</td>\n",
       "    </tr>\n",
       "    <tr>\n",
       "      <th>w_Age</th>\n",
       "      <td>6.088941881654669</td>\n",
       "      <td>0.9127405886772298</td>\n",
       "      <td>NaN</td>\n",
       "      <td>None</td>\n",
       "      <td>52.5153</td>\n",
       "      <td>12.2451</td>\n",
       "      <td>NaN</td>\n",
       "      <td>NaN</td>\n",
       "    </tr>\n",
       "    <tr>\n",
       "      <th>w_Education</th>\n",
       "      <td>1.0,214.4011453125436,260.32727427717964,101.7...</td>\n",
       "      <td>1e-10,28.815802440470176,40.0574490885231,49.9...</td>\n",
       "      <td>0.2430379746835443,0.21581625995041107,0.25540...</td>\n",
       "      <td>None;i;Categorical</td>\n",
       "      <td>NaN</td>\n",
       "      <td>NaN</td>\n",
       "      <td>NaN</td>\n",
       "      <td>NaN</td>\n",
       "    </tr>\n",
       "  </tbody>\n",
       "</table>\n",
       "</div>"
      ],
      "text/plain": [
       "                                                                   co_mu  \\\n",
       "w_Intercept                                                          NaN   \n",
       "w_Sex                                                  98.49504620801835   \n",
       "w_Urbanity                                            1000.9789077676428   \n",
       "w_Total_Family_Income                                0.05318701200857999   \n",
       "w_FamilySize                                           49.73935151831777   \n",
       "w_Age                                                  6.088941881654669   \n",
       "w_Education            1.0,214.4011453125436,260.32727427717964,101.7...   \n",
       "\n",
       "                                                                   co_sd  \\\n",
       "w_Intercept                                                          NaN   \n",
       "w_Sex                                                  29.44380722589748   \n",
       "w_Urbanity                                            25.415910606032206   \n",
       "w_Total_Family_Income                              0.0009823058551951082   \n",
       "w_FamilySize                                           5.897790558149098   \n",
       "w_Age                                                 0.9127405886772298   \n",
       "w_Education            1e-10,28.815802440470176,40.0574490885231,49.9...   \n",
       "\n",
       "                                                                       p  \\\n",
       "w_Intercept                                                     -601.592   \n",
       "w_Sex                                                           0.243795   \n",
       "w_Urbanity                                                        0.6356   \n",
       "w_Total_Family_Income                                                NaN   \n",
       "w_FamilySize                                                         NaN   \n",
       "w_Age                                                                NaN   \n",
       "w_Education            0.2430379746835443,0.21581625995041107,0.25540...   \n",
       "\n",
       "                                      dis       mu       sd   ub   lb  \n",
       "w_Intercept                 Deterministic      NaN      NaN  NaN  NaN  \n",
       "w_Sex                                None      NaN      NaN  NaN  NaN  \n",
       "w_Urbanity                           None      NaN      NaN  NaN  NaN  \n",
       "w_Total_Family_Income                None      NaN      NaN  NaN  NaN  \n",
       "w_FamilySize                         None  3.70878  1.83794  NaN  NaN  \n",
       "w_Age                                None  52.5153  12.2451  NaN  NaN  \n",
       "w_Education            None;i;Categorical      NaN      NaN  NaN  NaN  "
      ]
     },
     "execution_count": 15,
     "metadata": {},
     "output_type": "execute_result"
    }
   ],
   "source": [
    "tm.models['Water'].loc[2020]"
   ]
  },
  {
   "cell_type": "code",
   "execution_count": 16,
   "metadata": {
    "collapsed": true,
    "slideshow": {
     "slide_type": "fragment"
    }
   },
   "outputs": [],
   "source": [
    "formula_water = \"w_Intercept+\"+\"+\".join(\n",
    "    [\"c_{0} * {1}\".format(e, \"i_\"+\"_\".join(e.split('_')[1:]))\\\n",
    "         for e in tm.models['Water'][benchmark_year].index if \\\n",
    "                                 (e != 'w_Intercept') &\\\n",
    "                                 (e != 'w_Total_Family_Income')   &\\\n",
    "                                 (e != 'w_Education')\n",
    "    ])\n",
    "formula_water += '+c_w_Total_Family_Income*Income'\n",
    "formula_water += '+c_w_Education*i_Education'"
   ]
  },
  {
   "cell_type": "code",
   "execution_count": 17,
   "metadata": {
    "collapsed": true,
    "slideshow": {
     "slide_type": "fragment"
    }
   },
   "outputs": [],
   "source": [
    "tm.add_formula(formula_water, 'Water')"
   ]
  },
  {
   "cell_type": "code",
   "execution_count": 18,
   "metadata": {
    "slideshow": {
     "slide_type": "fragment"
    }
   },
   "outputs": [
    {
     "name": "stdout",
     "output_type": "stream",
     "text": [
      "Water =\n",
      "\t w_Intercept +\n",
      "\t c_w_Sex * i_Sex +\n",
      "\t c_w_Urbanity * i_Urbanity +\n",
      "\t c_w_FamilySize * i_FamilySize +\n",
      "\t c_w_Age * i_Age +\n",
      "\t c_w_Total_Family_Income*Income +\n",
      "\t c_w_Education*i_Education +\n"
     ]
    }
   ],
   "source": [
    "tm.print_formula('Water')"
   ]
  },
  {
   "cell_type": "markdown",
   "metadata": {
    "slideshow": {
     "slide_type": "slide"
    }
   },
   "source": [
    "#### Make model and save it to excel"
   ]
  },
  {
   "cell_type": "code",
   "execution_count": 19,
   "metadata": {
    "collapsed": true,
    "slideshow": {
     "slide_type": "fragment"
    }
   },
   "outputs": [],
   "source": [
    "table_model = tm.make_model()"
   ]
  },
  {
   "cell_type": "code",
   "execution_count": 20,
   "metadata": {
    "slideshow": {
     "slide_type": "fragment"
    }
   },
   "outputs": [
    {
     "name": "stdout",
     "output_type": "stream",
     "text": [
      "creating data/tableModel_Income.xlsx\n",
      "creating data/tableModel_Electricity.xlsx\n",
      "creating data/tableModel_Water.xlsx\n"
     ]
    }
   ],
   "source": [
    "tm.to_excel()"
   ]
  },
  {
   "cell_type": "markdown",
   "metadata": {
    "slideshow": {
     "slide_type": "slide"
    }
   },
   "source": [
    "### Define model variables"
   ]
  },
  {
   "cell_type": "code",
   "execution_count": 21,
   "metadata": {
    "collapsed": true,
    "slideshow": {
     "slide_type": "slide"
    }
   },
   "outputs": [],
   "source": [
    "labels = ['age_0_18', 'age_19_25', 'age_26_35',\n",
    "          'age_36_45', 'age_46_55', 'age_56_65',\n",
    "          'age_66_75', 'age_76_85', 'age_86_100']\n",
    "cut = [0, 19, 26, 36, 46, 56, 66, 76, 86, 101]\n",
    "to_cat = {'i_Age':[cut, labels]}\n",
    "drop_col_survey = ['e_Income', 'e_Urban', 'w_Total_Family_Income', 'w_Education']"
   ]
  },
  {
   "cell_type": "code",
   "execution_count": 22,
   "metadata": {
    "scrolled": false,
    "slideshow": {
     "slide_type": "fragment"
    }
   },
   "outputs": [
    {
     "name": "stdout",
     "output_type": "stream",
     "text": [
      "loop: 1/4; calibrating: Income; sufix = loop_1\n",
      "Computing model:  Income\n",
      "Computing model:  Electricity\n",
      "Computing model:  Water\n"
     ]
    },
    {
     "name": "stderr",
     "output_type": "stream",
     "text": [
      "100%|██████████| 1005/1005 [00:31<00:00, 31.80it/s]\n",
      "Tuning was enabled throughout the whole trace.\n",
      "Tuning was enabled throughout the whole trace.\n",
      "Tuning was enabled throughout the whole trace.\n",
      "Tuning was enabled throughout the whole trace.\n",
      "The estimated number of effective samples is smaller than 200 for some parameters.\n"
     ]
    },
    {
     "name": "stdout",
     "output_type": "stream",
     "text": [
      "loop: 2/4; calibrating: Electricity; sufix = loop_2\n",
      "Computing model:  Income\n",
      "Computing model:  Electricity\n",
      "Computing model:  Water\n"
     ]
    },
    {
     "name": "stderr",
     "output_type": "stream",
     "text": [
      "100%|██████████| 1005/1005 [00:25<00:00, 39.28it/s]\n",
      "Tuning was enabled throughout the whole trace.\n",
      "Tuning was enabled throughout the whole trace.\n",
      "Tuning was enabled throughout the whole trace.\n",
      "Tuning was enabled throughout the whole trace.\n",
      "The estimated number of effective samples is smaller than 200 for some parameters.\n"
     ]
    },
    {
     "name": "stdout",
     "output_type": "stream",
     "text": [
      "loop: 3/4; calibrating: Water; sufix = loop_3\n",
      "Computing model:  Income\n",
      "Computing model:  Electricity\n",
      "Computing model:  Water\n"
     ]
    },
    {
     "name": "stderr",
     "output_type": "stream",
     "text": [
      "100%|██████████| 1005/1005 [00:25<00:00, 38.96it/s]\n",
      "Tuning was enabled throughout the whole trace.\n",
      "Tuning was enabled throughout the whole trace.\n",
      "Tuning was enabled throughout the whole trace.\n",
      "Tuning was enabled throughout the whole trace.\n",
      "The estimated number of effective samples is smaller than 200 for some parameters.\n"
     ]
    },
    {
     "name": "stdout",
     "output_type": "stream",
     "text": [
      "loop: 4/4; final loop, for variables: Income, Electricity, Water; sufix = loop_4\n",
      "Computing model:  Income\n",
      "Computing model:  Electricity\n",
      "Computing model:  Water\n"
     ]
    },
    {
     "name": "stderr",
     "output_type": "stream",
     "text": [
      "100%|██████████| 1005/1005 [00:26<00:00, 37.46it/s]\n",
      "Tuning was enabled throughout the whole trace.\n",
      "Tuning was enabled throughout the whole trace.\n",
      "Tuning was enabled throughout the whole trace.\n",
      "Tuning was enabled throughout the whole trace.\n",
      "The estimated number of effective samples is smaller than 200 for some parameters.\n"
     ]
    },
    {
     "name": "stdout",
     "output_type": "stream",
     "text": [
      "Calibration Error:\n",
      "\t0.0000E+00  Income\n",
      "\t-1.6763E-05  Electricity\n",
      "\t9.8753E-01  Water\n",
      "Projecting sample survey for 21 steps via resample\n",
      "resampling for year 2010\n",
      "Computing model:  Income\n",
      "Computing model:  Electricity\n",
      "Computing model:  Water\n"
     ]
    },
    {
     "name": "stderr",
     "output_type": "stream",
     "text": [
      "100%|██████████| 1005/1005 [00:31<00:00, 32.26it/s]\n",
      "Tuning was enabled throughout the whole trace.\n",
      "Tuning was enabled throughout the whole trace.\n",
      "Tuning was enabled throughout the whole trace.\n",
      "Tuning was enabled throughout the whole trace.\n",
      "The estimated number of effective samples is smaller than 200 for some parameters.\n"
     ]
    },
    {
     "name": "stdout",
     "output_type": "stream",
     "text": [
      "resampling for year 2011\n",
      "Computing model:  Income\n",
      "Computing model:  Electricity\n",
      "Computing model:  Water\n"
     ]
    },
    {
     "name": "stderr",
     "output_type": "stream",
     "text": [
      "100%|██████████| 1005/1005 [00:31<00:00, 32.15it/s]\n",
      "Tuning was enabled throughout the whole trace.\n",
      "Tuning was enabled throughout the whole trace.\n",
      "Tuning was enabled throughout the whole trace.\n",
      "Tuning was enabled throughout the whole trace.\n",
      "The estimated number of effective samples is smaller than 200 for some parameters.\n"
     ]
    },
    {
     "name": "stdout",
     "output_type": "stream",
     "text": [
      "resampling for year 2012\n",
      "Computing model:  Income\n",
      "Computing model:  Electricity\n",
      "Computing model:  Water\n"
     ]
    },
    {
     "name": "stderr",
     "output_type": "stream",
     "text": [
      "100%|██████████| 1005/1005 [00:33<00:00, 30.08it/s]\n",
      "Tuning was enabled throughout the whole trace.\n",
      "Tuning was enabled throughout the whole trace.\n",
      "Tuning was enabled throughout the whole trace.\n",
      "Tuning was enabled throughout the whole trace.\n",
      "The estimated number of effective samples is smaller than 200 for some parameters.\n"
     ]
    },
    {
     "name": "stdout",
     "output_type": "stream",
     "text": [
      "resampling for year 2013\n",
      "Computing model:  Income\n",
      "Computing model:  Electricity\n",
      "Computing model:  Water\n"
     ]
    },
    {
     "name": "stderr",
     "output_type": "stream",
     "text": [
      "100%|██████████| 1005/1005 [00:25<00:00, 38.93it/s]\n",
      "Tuning was enabled throughout the whole trace.\n",
      "Tuning was enabled throughout the whole trace.\n",
      "Tuning was enabled throughout the whole trace.\n",
      "Tuning was enabled throughout the whole trace.\n",
      "The estimated number of effective samples is smaller than 200 for some parameters.\n"
     ]
    },
    {
     "name": "stdout",
     "output_type": "stream",
     "text": [
      "resampling for year 2014\n",
      "Computing model:  Income\n",
      "Computing model:  Electricity\n",
      "Computing model:  Water\n"
     ]
    },
    {
     "name": "stderr",
     "output_type": "stream",
     "text": [
      "100%|██████████| 1005/1005 [00:30<00:00, 32.67it/s]\n",
      "Tuning was enabled throughout the whole trace.\n",
      "Tuning was enabled throughout the whole trace.\n",
      "Tuning was enabled throughout the whole trace.\n",
      "Tuning was enabled throughout the whole trace.\n",
      "The estimated number of effective samples is smaller than 200 for some parameters.\n"
     ]
    },
    {
     "name": "stdout",
     "output_type": "stream",
     "text": [
      "resampling for year 2015\n",
      "Computing model:  Income\n",
      "Computing model:  Electricity\n",
      "Computing model:  Water\n"
     ]
    },
    {
     "name": "stderr",
     "output_type": "stream",
     "text": [
      "100%|██████████| 1005/1005 [00:28<00:00, 34.77it/s]\n",
      "Tuning was enabled throughout the whole trace.\n",
      "Tuning was enabled throughout the whole trace.\n",
      "Tuning was enabled throughout the whole trace.\n",
      "Tuning was enabled throughout the whole trace.\n",
      "The estimated number of effective samples is smaller than 200 for some parameters.\n"
     ]
    },
    {
     "name": "stdout",
     "output_type": "stream",
     "text": [
      "resampling for year 2016\n",
      "Computing model:  Income\n",
      "Computing model:  Electricity\n",
      "Computing model:  Water\n"
     ]
    },
    {
     "name": "stderr",
     "output_type": "stream",
     "text": [
      "100%|██████████| 1005/1005 [00:25<00:00, 39.10it/s]\n",
      "Tuning was enabled throughout the whole trace.\n",
      "Tuning was enabled throughout the whole trace.\n",
      "Tuning was enabled throughout the whole trace.\n",
      "Tuning was enabled throughout the whole trace.\n",
      "The estimated number of effective samples is smaller than 200 for some parameters.\n"
     ]
    },
    {
     "name": "stdout",
     "output_type": "stream",
     "text": [
      "resampling for year 2017\n",
      "Computing model:  Income\n",
      "Computing model:  Electricity\n",
      "Computing model:  Water\n"
     ]
    },
    {
     "name": "stderr",
     "output_type": "stream",
     "text": [
      "100%|██████████| 1005/1005 [00:29<00:00, 33.54it/s]\n",
      "Tuning was enabled throughout the whole trace.\n",
      "Tuning was enabled throughout the whole trace.\n",
      "Tuning was enabled throughout the whole trace.\n",
      "Tuning was enabled throughout the whole trace.\n",
      "The estimated number of effective samples is smaller than 200 for some parameters.\n"
     ]
    },
    {
     "name": "stdout",
     "output_type": "stream",
     "text": [
      "resampling for year 2018\n",
      "Computing model:  Income\n",
      "Computing model:  Electricity\n",
      "Computing model:  Water\n"
     ]
    },
    {
     "name": "stderr",
     "output_type": "stream",
     "text": [
      "100%|██████████| 1005/1005 [00:25<00:00, 39.69it/s]\n",
      "Tuning was enabled throughout the whole trace.\n",
      "Tuning was enabled throughout the whole trace.\n",
      "Tuning was enabled throughout the whole trace.\n",
      "Tuning was enabled throughout the whole trace.\n",
      "The estimated number of effective samples is smaller than 200 for some parameters.\n"
     ]
    },
    {
     "name": "stdout",
     "output_type": "stream",
     "text": [
      "resampling for year 2019\n",
      "Computing model:  Income\n",
      "Computing model:  Electricity\n",
      "Computing model:  Water\n"
     ]
    },
    {
     "name": "stderr",
     "output_type": "stream",
     "text": [
      "100%|██████████| 1005/1005 [00:32<00:00, 30.64it/s]\n",
      "Tuning was enabled throughout the whole trace.\n",
      "Tuning was enabled throughout the whole trace.\n",
      "Tuning was enabled throughout the whole trace.\n",
      "Tuning was enabled throughout the whole trace.\n",
      "The estimated number of effective samples is smaller than 200 for some parameters.\n"
     ]
    },
    {
     "name": "stdout",
     "output_type": "stream",
     "text": [
      "resampling for year 2020\n",
      "Computing model:  Income\n",
      "Computing model:  Electricity\n",
      "Computing model:  Water\n"
     ]
    },
    {
     "name": "stderr",
     "output_type": "stream",
     "text": [
      "100%|██████████| 1005/1005 [00:25<00:00, 39.33it/s]\n",
      "Tuning was enabled throughout the whole trace.\n",
      "Tuning was enabled throughout the whole trace.\n",
      "Tuning was enabled throughout the whole trace.\n",
      "Tuning was enabled throughout the whole trace.\n",
      "The estimated number of effective samples is smaller than 200 for some parameters.\n"
     ]
    },
    {
     "name": "stdout",
     "output_type": "stream",
     "text": [
      "resampling for year 2021\n",
      "Computing model:  Income\n",
      "Computing model:  Electricity\n",
      "Computing model:  Water\n"
     ]
    },
    {
     "name": "stderr",
     "output_type": "stream",
     "text": [
      "100%|██████████| 1005/1005 [00:30<00:00, 32.93it/s]\n",
      "Tuning was enabled throughout the whole trace.\n",
      "Tuning was enabled throughout the whole trace.\n",
      "Tuning was enabled throughout the whole trace.\n",
      "Tuning was enabled throughout the whole trace.\n",
      "The estimated number of effective samples is smaller than 200 for some parameters.\n"
     ]
    },
    {
     "name": "stdout",
     "output_type": "stream",
     "text": [
      "resampling for year 2022\n",
      "Computing model:  Income\n",
      "Computing model:  Electricity\n",
      "Computing model:  Water\n"
     ]
    },
    {
     "name": "stderr",
     "output_type": "stream",
     "text": [
      "100%|██████████| 1005/1005 [00:30<00:00, 32.81it/s]\n",
      "Tuning was enabled throughout the whole trace.\n",
      "Tuning was enabled throughout the whole trace.\n",
      "Tuning was enabled throughout the whole trace.\n",
      "Tuning was enabled throughout the whole trace.\n",
      "The estimated number of effective samples is smaller than 200 for some parameters.\n"
     ]
    },
    {
     "name": "stdout",
     "output_type": "stream",
     "text": [
      "resampling for year 2023\n",
      "Computing model:  Income\n",
      "Computing model:  Electricity\n",
      "Computing model:  Water\n"
     ]
    },
    {
     "name": "stderr",
     "output_type": "stream",
     "text": [
      "100%|██████████| 1005/1005 [00:25<00:00, 39.66it/s]\n",
      "Tuning was enabled throughout the whole trace.\n",
      "Tuning was enabled throughout the whole trace.\n",
      "Tuning was enabled throughout the whole trace.\n",
      "Tuning was enabled throughout the whole trace.\n",
      "The estimated number of effective samples is smaller than 200 for some parameters.\n"
     ]
    },
    {
     "name": "stdout",
     "output_type": "stream",
     "text": [
      "resampling for year 2024\n",
      "Computing model:  Income\n",
      "Computing model:  Electricity\n",
      "Computing model:  Water\n"
     ]
    },
    {
     "name": "stderr",
     "output_type": "stream",
     "text": [
      "100%|██████████| 1005/1005 [00:27<00:00, 36.33it/s]\n",
      "Tuning was enabled throughout the whole trace.\n",
      "Tuning was enabled throughout the whole trace.\n",
      "Tuning was enabled throughout the whole trace.\n",
      "Tuning was enabled throughout the whole trace.\n",
      "The estimated number of effective samples is smaller than 200 for some parameters.\n"
     ]
    },
    {
     "name": "stdout",
     "output_type": "stream",
     "text": [
      "resampling for year 2025\n",
      "Computing model:  Income\n",
      "Computing model:  Electricity\n",
      "Computing model:  Water\n"
     ]
    },
    {
     "name": "stderr",
     "output_type": "stream",
     "text": [
      "100%|██████████| 1005/1005 [00:31<00:00, 32.25it/s]\n",
      "Tuning was enabled throughout the whole trace.\n",
      "Tuning was enabled throughout the whole trace.\n",
      "Tuning was enabled throughout the whole trace.\n",
      "Tuning was enabled throughout the whole trace.\n",
      "The estimated number of effective samples is smaller than 200 for some parameters.\n"
     ]
    },
    {
     "name": "stdout",
     "output_type": "stream",
     "text": [
      "resampling for year 2026\n",
      "Computing model:  Income\n",
      "Computing model:  Electricity\n",
      "Computing model:  Water\n"
     ]
    },
    {
     "name": "stderr",
     "output_type": "stream",
     "text": [
      "100%|██████████| 1005/1005 [00:27<00:00, 37.21it/s]\n",
      "Tuning was enabled throughout the whole trace.\n",
      "Tuning was enabled throughout the whole trace.\n",
      "Tuning was enabled throughout the whole trace.\n",
      "Tuning was enabled throughout the whole trace.\n",
      "The estimated number of effective samples is smaller than 200 for some parameters.\n"
     ]
    },
    {
     "name": "stdout",
     "output_type": "stream",
     "text": [
      "resampling for year 2027\n",
      "Computing model:  Income\n",
      "Computing model:  Electricity\n",
      "Computing model:  Water\n"
     ]
    },
    {
     "name": "stderr",
     "output_type": "stream",
     "text": [
      "100%|██████████| 1005/1005 [00:28<00:00, 34.89it/s]\n",
      "Tuning was enabled throughout the whole trace.\n",
      "Tuning was enabled throughout the whole trace.\n",
      "Tuning was enabled throughout the whole trace.\n",
      "Tuning was enabled throughout the whole trace.\n",
      "The estimated number of effective samples is smaller than 200 for some parameters.\n"
     ]
    },
    {
     "name": "stdout",
     "output_type": "stream",
     "text": [
      "resampling for year 2028\n",
      "Computing model:  Income\n",
      "Computing model:  Electricity\n",
      "Computing model:  Water\n"
     ]
    },
    {
     "name": "stderr",
     "output_type": "stream",
     "text": [
      "100%|██████████| 1005/1005 [00:26<00:00, 38.01it/s]\n",
      "Tuning was enabled throughout the whole trace.\n",
      "Tuning was enabled throughout the whole trace.\n",
      "Tuning was enabled throughout the whole trace.\n",
      "Tuning was enabled throughout the whole trace.\n",
      "The estimated number of effective samples is smaller than 200 for some parameters.\n"
     ]
    },
    {
     "name": "stdout",
     "output_type": "stream",
     "text": [
      "resampling for year 2029\n",
      "Computing model:  Income\n",
      "Computing model:  Electricity\n",
      "Computing model:  Water\n"
     ]
    },
    {
     "name": "stderr",
     "output_type": "stream",
     "text": [
      "100%|██████████| 1005/1005 [00:26<00:00, 37.64it/s]\n",
      "Tuning was enabled throughout the whole trace.\n",
      "Tuning was enabled throughout the whole trace.\n",
      "Tuning was enabled throughout the whole trace.\n",
      "Tuning was enabled throughout the whole trace.\n",
      "The estimated number of effective samples is smaller than 200 for some parameters.\n"
     ]
    },
    {
     "name": "stdout",
     "output_type": "stream",
     "text": [
      "resampling for year 2030\n",
      "Computing model:  Income\n",
      "Computing model:  Electricity\n",
      "Computing model:  Water\n"
     ]
    },
    {
     "name": "stderr",
     "output_type": "stream",
     "text": [
      "100%|██████████| 1005/1005 [00:25<00:00, 38.83it/s]\n",
      "Tuning was enabled throughout the whole trace.\n",
      "Tuning was enabled throughout the whole trace.\n",
      "Tuning was enabled throughout the whole trace.\n",
      "Tuning was enabled throughout the whole trace.\n",
      "The estimated number of effective samples is smaller than 200 for some parameters.\n"
     ]
    }
   ],
   "source": [
    "fw = run_calibrated_model(\n",
    "    table_model,\n",
    "    project = typ,\n",
    "    njobs = njobs,\n",
    "    #rep = {'FamilySize': ['Size']},\n",
    "    #rep={'urb': ['urban', 'urbanity']},\n",
    "    census_file = census_file,\n",
    "    year = benchmark_year,\n",
    "    population_size = False,\n",
    "    name = '{}_{}'.format(model_name, iterations),\n",
    "    to_cat = to_cat,\n",
    "    iterations = iterations,\n",
    "    verbose = verbose,\n",
    "    drop_col_survey = drop_col_survey)"
   ]
  }
 ],
 "metadata": {
  "kernelspec": {
   "display_name": "Python 3",
   "language": "python",
   "name": "python3"
  },
  "language_info": {
   "codemirror_mode": {
    "name": "ipython",
    "version": 3
   },
   "file_extension": ".py",
   "mimetype": "text/x-python",
   "name": "python",
   "nbconvert_exporter": "python",
   "pygments_lexer": "ipython3",
   "version": "3.6.4"
  }
 },
 "nbformat": 4,
 "nbformat_minor": 2
}
