{
 "cells": [
  {
   "cell_type": "markdown",
   "metadata": {
    "slideshow": {
     "slide_type": "slide"
    }
   },
   "source": [
    "## 1.e Micro-level Non-Residential model"
   ]
  },
  {
   "cell_type": "code",
   "execution_count": 21,
   "metadata": {
    "slideshow": {
     "slide_type": "skip"
    }
   },
   "outputs": [
    {
     "name": "stdout",
     "output_type": "stream",
     "text": [
      "2017-11-01 14:46:28.367982\n"
     ]
    }
   ],
   "source": [
    "import datetime; print(datetime.datetime.now())"
   ]
  },
  {
   "cell_type": "markdown",
   "metadata": {
    "slideshow": {
     "slide_type": "slide"
    }
   },
   "source": [
    "**Notebook abstract**\n",
    "\n",
    "A simple micro-level building stock model. The consumption model defined for the building stock works in theory exactly like the other micro level consumption model. The difference between this model and the income, electricity and water demand models is that we don't have a micro-level consumption data set in order to extract regression coefficients. In order to define a consumption model we use predefine building typologies. "
   ]
  },
  {
   "cell_type": "markdown",
   "metadata": {
    "slideshow": {
     "slide_type": "slide"
    }
   },
   "source": [
    "### Compile building level data"
   ]
  },
  {
   "cell_type": "code",
   "execution_count": 22,
   "metadata": {
    "collapsed": true,
    "slideshow": {
     "slide_type": "fragment"
    }
   },
   "outputs": [],
   "source": [
    "from urbanmetabolism._scripts.sqm_data import get_pop_data, get_sqm_data"
   ]
  },
  {
   "cell_type": "code",
   "execution_count": 23,
   "metadata": {
    "collapsed": true,
    "slideshow": {
     "slide_type": "fragment"
    }
   },
   "outputs": [],
   "source": [
    "census_file = 'data/benchmarks_year_bias.csv'"
   ]
  },
  {
   "cell_type": "code",
   "execution_count": 24,
   "metadata": {
    "collapsed": true,
    "slideshow": {
     "slide_type": "fragment"
    }
   },
   "outputs": [],
   "source": [
    "pop_data_1 = get_pop_data(census_file, sqm_nonres_mean = 800)\n",
    "nr_data = get_sqm_data()\n",
    "pop_data = get_pop_data(\n",
    "    census_file,\n",
    "    sqm_nonres_mean = nr_data.loc[:, 'sqm'].mean(),\n",
    ")\n",
    "pop_data_3 = get_pop_data(census_file, sqm_nonres_mean = 500)"
   ]
  },
  {
   "cell_type": "code",
   "execution_count": 25,
   "metadata": {
    "collapsed": true,
    "slideshow": {
     "slide_type": "fragment"
    }
   },
   "outputs": [],
   "source": [
    "benchmarks = pop_data.loc[:,['sqm_nonres', 'num_nonres']]\n",
    "benchmarks.columns = ['BuildingSqm', 'pop']"
   ]
  },
  {
   "cell_type": "code",
   "execution_count": 26,
   "metadata": {
    "collapsed": true,
    "slideshow": {
     "slide_type": "fragment"
    }
   },
   "outputs": [],
   "source": [
    "kwh_2016 = 6.52 * 1000000"
   ]
  },
  {
   "cell_type": "code",
   "execution_count": 27,
   "metadata": {
    "collapsed": true,
    "slideshow": {
     "slide_type": "fragment"
    }
   },
   "outputs": [],
   "source": [
    "pb_kwh = kwh_2016 / benchmarks.loc[2016, 'BuildingSqm']\n",
    "pb_kwh_sqm = benchmarks.loc[:, 'pop'].mul(pb_kwh)\n",
    "benchmarks.insert(1, 'BuildingKwh', pb_kwh_sqm)"
   ]
  },
  {
   "cell_type": "code",
   "execution_count": 28,
   "metadata": {
    "collapsed": true,
    "slideshow": {
     "slide_type": "fragment"
    }
   },
   "outputs": [],
   "source": [
    "benchmarks.loc[2016, 'NonRElectricity'] = kwh_2016"
   ]
  },
  {
   "cell_type": "code",
   "execution_count": 29,
   "metadata": {
    "slideshow": {
     "slide_type": "slide"
    }
   },
   "outputs": [
    {
     "data": {
      "text/html": [
       "<div>\n",
       "<style>\n",
       "    .dataframe thead tr:only-child th {\n",
       "        text-align: right;\n",
       "    }\n",
       "\n",
       "    .dataframe thead th {\n",
       "        text-align: left;\n",
       "    }\n",
       "\n",
       "    .dataframe tbody tr th {\n",
       "        vertical-align: top;\n",
       "    }\n",
       "</style>\n",
       "<table border=\"1\" class=\"dataframe\">\n",
       "  <thead>\n",
       "    <tr style=\"text-align: right;\">\n",
       "      <th></th>\n",
       "      <th>BuildingSqm</th>\n",
       "      <th>BuildingKwh</th>\n",
       "      <th>pop</th>\n",
       "      <th>NonRElectricity</th>\n",
       "    </tr>\n",
       "  </thead>\n",
       "  <tbody>\n",
       "    <tr>\n",
       "      <th>2010</th>\n",
       "      <td>68716.843636</td>\n",
       "      <td>9989.175844</td>\n",
       "      <td>111.0</td>\n",
       "      <td>NaN</td>\n",
       "    </tr>\n",
       "    <tr>\n",
       "      <th>2011</th>\n",
       "      <td>69223.535896</td>\n",
       "      <td>10079.168419</td>\n",
       "      <td>112.0</td>\n",
       "      <td>NaN</td>\n",
       "    </tr>\n",
       "    <tr>\n",
       "      <th>2012</th>\n",
       "      <td>69772.846840</td>\n",
       "      <td>10169.160994</td>\n",
       "      <td>113.0</td>\n",
       "      <td>NaN</td>\n",
       "    </tr>\n",
       "    <tr>\n",
       "      <th>2013</th>\n",
       "      <td>70361.528759</td>\n",
       "      <td>10259.153569</td>\n",
       "      <td>114.0</td>\n",
       "      <td>NaN</td>\n",
       "    </tr>\n",
       "    <tr>\n",
       "      <th>2014</th>\n",
       "      <td>71001.761591</td>\n",
       "      <td>10349.146145</td>\n",
       "      <td>115.0</td>\n",
       "      <td>NaN</td>\n",
       "    </tr>\n",
       "  </tbody>\n",
       "</table>\n",
       "</div>"
      ],
      "text/plain": [
       "       BuildingSqm   BuildingKwh    pop  NonRElectricity\n",
       "2010  68716.843636   9989.175844  111.0              NaN\n",
       "2011  69223.535896  10079.168419  112.0              NaN\n",
       "2012  69772.846840  10169.160994  113.0              NaN\n",
       "2013  70361.528759  10259.153569  114.0              NaN\n",
       "2014  71001.761591  10349.146145  115.0              NaN"
      ]
     },
     "execution_count": 29,
     "metadata": {},
     "output_type": "execute_result"
    }
   ],
   "source": [
    "benchmarks.head()"
   ]
  },
  {
   "cell_type": "code",
   "execution_count": 30,
   "metadata": {
    "collapsed": true,
    "slideshow": {
     "slide_type": "fragment"
    }
   },
   "outputs": [],
   "source": [
    "benchmarks.to_csv('data/benchmarks_nonresidential.csv')"
   ]
  },
  {
   "cell_type": "code",
   "execution_count": 31,
   "metadata": {
    "slideshow": {
     "slide_type": "slide"
    }
   },
   "outputs": [
    {
     "data": {
      "image/png": "[encoded data removed]",
      "text/plain": [
       "<matplotlib.figure.Figure at 0x7f86e5348da0>"
      ]
     },
     "metadata": {},
     "output_type": "display_data"
    }
   ],
   "source": [
    "from urbanmetabolism._scripts.sqm_data import plot_nr\n",
    "plot_nr(pop_data_1, pop_data, pop_data_3, nr_data)"
   ]
  },
  {
   "cell_type": "markdown",
   "metadata": {
    "slideshow": {
     "slide_type": "slide"
    }
   },
   "source": [
    "### Prior non-residential model"
   ]
  },
  {
   "cell_type": "code",
   "execution_count": 32,
   "metadata": {
    "collapsed": true,
    "slideshow": {
     "slide_type": "fragment"
    }
   },
   "outputs": [],
   "source": [
    "from urbanmetabolism._scripts.sqm_data import get_count_data\n",
    "import pandas as pd\n",
    "count_data = get_count_data()\n",
    "count_data = count_data.div(count_data.sum())"
   ]
  },
  {
   "cell_type": "code",
   "execution_count": 33,
   "metadata": {
    "collapsed": true,
    "slideshow": {
     "slide_type": "fragment"
    }
   },
   "outputs": [],
   "source": [
    "nrb_elec = pd.DataFrame(columns=['co_mu', 'co_sd', 'p', 'dis', 'lb', 'ub'])\n",
    "\n",
    "nrb_elec.loc['BuildingSqm', 'co_mu'] = \",\".join([str(i) for i in nr_data['sqm']])\n",
    "nrb_elec.loc['BuildingSqm', 'co_sd'] = \",\".join([str(i) for i in nr_data['sqm_sd']])\n",
    "\n",
    "nrb_elec.loc['BuildingKwh', 'co_mu'] = \",\".join([str(i) for i in nr_data['kwh']])\n",
    "nrb_elec.loc['BuildingKwh', 'co_sd'] = \",\".join([str(i) for i in nr_data['kwh_sd']])\n",
    "\n",
    "nrb_elec.loc[:, 'p'] = \",\".join([str(i) for i in count_data['counts']])\n",
    "nrb_elec.loc['BuildingSqm', 'dis'] = \"Deterministic;n;Categorical\"\n",
    "nrb_elec.loc['BuildingKwh', 'dis'] = \"Deterministic;BuildingSqm;Categorical\""
   ]
  },
  {
   "cell_type": "code",
   "execution_count": 34,
   "metadata": {
    "collapsed": true,
    "slideshow": {
     "slide_type": "slide"
    }
   },
   "outputs": [],
   "source": [
    "nrb_elec.to_csv('data/table_elec_nr.csv')"
   ]
  },
  {
   "cell_type": "code",
   "execution_count": 35,
   "metadata": {
    "collapsed": true,
    "slideshow": {
     "slide_type": "skip"
    }
   },
   "outputs": [],
   "source": [
    "nrb_elec.loc['BuildingSqm', 'dis'] = \"Normal;n;Categorical\"\n",
    "nrb_elec.to_csv('data/test_elec_nr_normal.csv')"
   ]
  },
  {
   "cell_type": "code",
   "execution_count": 36,
   "metadata": {
    "slideshow": {
     "slide_type": "fragment"
    }
   },
   "outputs": [
    {
     "data": {
      "text/html": [
       "<div>\n",
       "<style>\n",
       "    .dataframe thead tr:only-child th {\n",
       "        text-align: right;\n",
       "    }\n",
       "\n",
       "    .dataframe thead th {\n",
       "        text-align: left;\n",
       "    }\n",
       "\n",
       "    .dataframe tbody tr th {\n",
       "        vertical-align: top;\n",
       "    }\n",
       "</style>\n",
       "<table border=\"1\" class=\"dataframe\">\n",
       "  <thead>\n",
       "    <tr style=\"text-align: right;\">\n",
       "      <th></th>\n",
       "      <th>co_mu</th>\n",
       "      <th>co_sd</th>\n",
       "      <th>p</th>\n",
       "      <th>dis</th>\n",
       "      <th>lb</th>\n",
       "      <th>ub</th>\n",
       "    </tr>\n",
       "  </thead>\n",
       "  <tbody>\n",
       "    <tr>\n",
       "      <th>BuildingSqm</th>\n",
       "      <td>719.587128022,312.594751517,1165.99458393,703....</td>\n",
       "      <td>45.9315047501,27.8888172966,510.591052778,206....</td>\n",
       "      <td>0.0608498641378,0.091606063041,0.0106072914917...</td>\n",
       "      <td>Normal;n;Categorical</td>\n",
       "      <td>NaN</td>\n",
       "      <td>NaN</td>\n",
       "    </tr>\n",
       "    <tr>\n",
       "      <th>BuildingKwh</th>\n",
       "      <td>262,631,592,316,293,233,296,137,243</td>\n",
       "      <td>135.810529783,649.550998768,344.818792991,124....</td>\n",
       "      <td>0.0608498641378,0.091606063041,0.0106072914917...</td>\n",
       "      <td>Deterministic;BuildingSqm;Categorical</td>\n",
       "      <td>NaN</td>\n",
       "      <td>NaN</td>\n",
       "    </tr>\n",
       "  </tbody>\n",
       "</table>\n",
       "</div>"
      ],
      "text/plain": [
       "                                                         co_mu  \\\n",
       "BuildingSqm  719.587128022,312.594751517,1165.99458393,703....   \n",
       "BuildingKwh                262,631,592,316,293,233,296,137,243   \n",
       "\n",
       "                                                         co_sd  \\\n",
       "BuildingSqm  45.9315047501,27.8888172966,510.591052778,206....   \n",
       "BuildingKwh  135.810529783,649.550998768,344.818792991,124....   \n",
       "\n",
       "                                                             p  \\\n",
       "BuildingSqm  0.0608498641378,0.091606063041,0.0106072914917...   \n",
       "BuildingKwh  0.0608498641378,0.091606063041,0.0106072914917...   \n",
       "\n",
       "                                               dis   lb   ub  \n",
       "BuildingSqm                   Normal;n;Categorical  NaN  NaN  \n",
       "BuildingKwh  Deterministic;BuildingSqm;Categorical  NaN  NaN  "
      ]
     },
     "execution_count": 36,
     "metadata": {},
     "output_type": "execute_result"
    }
   ],
   "source": [
    "nrb_elec"
   ]
  },
  {
   "cell_type": "markdown",
   "metadata": {
    "slideshow": {
     "slide_type": "slide"
    }
   },
   "source": [
    "-----\n",
    "\n",
    "[UN Environment](http://www.unep.org/)\n",
    "\n",
    "[Home](Welcome.ipynb)\n",
    "\n",
    "[Next](Ba_GREGWT_Dynamic.ipynb) (2.a) Dynamic Sampling Model  and GREGWT"
   ]
  }
 ],
 "metadata": {
  "kernelspec": {
   "display_name": "Python 3",
   "language": "python",
   "name": "python3"
  },
  "language_info": {
   "codemirror_mode": {
    "name": "ipython",
    "version": 3
   },
   "file_extension": ".py",
   "mimetype": "text/x-python",
   "name": "python",
   "nbconvert_exporter": "python",
   "pygments_lexer": "ipython3",
   "version": "3.6.4"
  }
 },
 "nbformat": 4,
 "nbformat_minor": 2
}
