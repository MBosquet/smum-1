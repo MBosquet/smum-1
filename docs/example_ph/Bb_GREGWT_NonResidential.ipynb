{
 "cells": [
  {
   "cell_type": "markdown",
   "metadata": {
    "slideshow": {
     "slide_type": "slide"
    }
   },
   "source": [
    "## Sorsogon. Step 2.b Non-Residential Model"
   ]
  },
  {
   "cell_type": "code",
   "execution_count": 1,
   "metadata": {
    "slideshow": {
     "slide_type": "skip"
    }
   },
   "outputs": [
    {
     "name": "stdout",
     "output_type": "stream",
     "text": [
      "2018-03-26 01:53:46.635614\n"
     ]
    }
   ],
   "source": [
    "import datetime; print(datetime.datetime.now())"
   ]
  },
  {
   "cell_type": "markdown",
   "metadata": {
    "slideshow": {
     "slide_type": "slide"
    }
   },
   "source": [
    "**Notebook abstract**\n",
    "\n",
    "This notebook shows the main sampling and reweighting algorithm for the non-residential sector."
   ]
  },
  {
   "cell_type": "markdown",
   "metadata": {
    "slideshow": {
     "slide_type": "slide"
    }
   },
   "source": [
    "### Import libraries"
   ]
  },
  {
   "cell_type": "code",
   "execution_count": 2,
   "metadata": {
    "slideshow": {
     "slide_type": "fragment"
    }
   },
   "outputs": [],
   "source": [
    "from smum.microsim.util_plot import plot_data_projection\n",
    "from smum.microsim.run import run_calibrated_model\n",
    "from smum.microsim.table import TableModel"
   ]
  },
  {
   "cell_type": "markdown",
   "metadata": {
    "slideshow": {
     "slide_type": "slide"
    }
   },
   "source": [
    "### Global variables"
   ]
  },
  {
   "cell_type": "code",
   "execution_count": 3,
   "metadata": {
    "slideshow": {
     "slide_type": "fragment"
    }
   },
   "outputs": [],
   "source": [
    "iterations = 1000\n",
    "benchmark_year = 2016\n",
    "census_file = 'data/benchmarks_nonresidential.csv'\n",
    "typ = 'resampled'\n",
    "model_name = 'Sorsogon_NonResidentialElectricity_wbias_projected_dynamic_{}'.format(typ)\n",
    "verbose = False\n",
    "drop_col_survey = ['n_BuildingKwh']"
   ]
  },
  {
   "cell_type": "markdown",
   "metadata": {
    "slideshow": {
     "slide_type": "slide"
    }
   },
   "source": [
    "### Define model"
   ]
  },
  {
   "cell_type": "code",
   "execution_count": 4,
   "metadata": {
    "slideshow": {
     "slide_type": "fragment"
    }
   },
   "outputs": [],
   "source": [
    "table_model_name = 'data/table_elec_nr.csv'\n",
    "estimate_var = 'NonRElectricity'\n",
    "tm = TableModel(census_file = census_file, verbose=verbose)\n",
    "tm.add_model(table_model_name, estimate_var, static = True)\n",
    "#tm.update_dynamic_model(estimate_var, specific_col = 'BuildingKwh', static=True)"
   ]
  },
  {
   "cell_type": "code",
   "execution_count": 5,
   "metadata": {
    "slideshow": {
     "slide_type": "fragment"
    }
   },
   "outputs": [
    {
     "data": {
      "text/html": [
       "<div>\n",
       "<style scoped>\n",
       "    .dataframe tbody tr th:only-of-type {\n",
       "        vertical-align: middle;\n",
       "    }\n",
       "\n",
       "    .dataframe tbody tr th {\n",
       "        vertical-align: top;\n",
       "    }\n",
       "\n",
       "    .dataframe thead th {\n",
       "        text-align: right;\n",
       "    }\n",
       "</style>\n",
       "<table border=\"1\" class=\"dataframe\">\n",
       "  <thead>\n",
       "    <tr style=\"text-align: right;\">\n",
       "      <th></th>\n",
       "      <th>co_mu</th>\n",
       "      <th>co_sd</th>\n",
       "      <th>p</th>\n",
       "      <th>dis</th>\n",
       "      <th>lb</th>\n",
       "      <th>ub</th>\n",
       "    </tr>\n",
       "  </thead>\n",
       "  <tbody>\n",
       "    <tr>\n",
       "      <th>n_BuildingSqm</th>\n",
       "      <td>719.5871280224214,312.5947515174914,1165.99458...</td>\n",
       "      <td>45.93150475011659,27.88881729659839,510.591052...</td>\n",
       "      <td>0.06084986413783436,0.09160606304100238,0.0106...</td>\n",
       "      <td>Deterministic;n;Categorical</td>\n",
       "      <td>NaN</td>\n",
       "      <td>NaN</td>\n",
       "    </tr>\n",
       "    <tr>\n",
       "      <th>n_BuildingKwh</th>\n",
       "      <td>262,631,592,316,293,233,296,137,243</td>\n",
       "      <td>135.8105297832241,649.5509987676103,344.818792...</td>\n",
       "      <td>0.06084986413783436,0.09160606304100238,0.0106...</td>\n",
       "      <td>Deterministic;BuildingSqm;Categorical</td>\n",
       "      <td>NaN</td>\n",
       "      <td>NaN</td>\n",
       "    </tr>\n",
       "  </tbody>\n",
       "</table>\n",
       "</div>"
      ],
      "text/plain": [
       "                                                           co_mu  \\\n",
       "n_BuildingSqm  719.5871280224214,312.5947515174914,1165.99458...   \n",
       "n_BuildingKwh                262,631,592,316,293,233,296,137,243   \n",
       "\n",
       "                                                           co_sd  \\\n",
       "n_BuildingSqm  45.93150475011659,27.88881729659839,510.591052...   \n",
       "n_BuildingKwh  135.8105297832241,649.5509987676103,344.818792...   \n",
       "\n",
       "                                                               p  \\\n",
       "n_BuildingSqm  0.06084986413783436,0.09160606304100238,0.0106...   \n",
       "n_BuildingKwh  0.06084986413783436,0.09160606304100238,0.0106...   \n",
       "\n",
       "                                                 dis   lb   ub  \n",
       "n_BuildingSqm            Deterministic;n;Categorical  NaN  NaN  \n",
       "n_BuildingKwh  Deterministic;BuildingSqm;Categorical  NaN  NaN  "
      ]
     },
     "execution_count": 5,
     "metadata": {},
     "output_type": "execute_result"
    }
   ],
   "source": [
    "tm.models[estimate_var].loc[2020]"
   ]
  },
  {
   "cell_type": "code",
   "execution_count": 6,
   "metadata": {
    "slideshow": {
     "slide_type": "slide"
    }
   },
   "outputs": [
    {
     "name": "stdout",
     "output_type": "stream",
     "text": [
      "creating data/tableModel_NonRElectricity.xlsx\n"
     ]
    }
   ],
   "source": [
    "formula_nrb = \" + \".join([\"c_{0} * c_{0}\".format(i) for i in tm.models[estimate_var].loc[2010].index])\n",
    "tm.add_formula(formula_nrb, estimate_var)\n",
    "table_model = tm.make_model()\n",
    "tm.to_excel()"
   ]
  },
  {
   "cell_type": "code",
   "execution_count": 7,
   "metadata": {},
   "outputs": [
    {
     "data": {
      "text/plain": [
       "'c_n_BuildingSqm * c_n_BuildingSqm + c_n_BuildingKwh * c_n_BuildingKwh'"
      ]
     },
     "execution_count": 7,
     "metadata": {},
     "output_type": "execute_result"
    }
   ],
   "source": [
    "formula_nrb"
   ]
  },
  {
   "cell_type": "markdown",
   "metadata": {
    "slideshow": {
     "slide_type": "slide"
    }
   },
   "source": [
    "### Run model"
   ]
  },
  {
   "cell_type": "code",
   "execution_count": 8,
   "metadata": {
    "scrolled": false,
    "slideshow": {
     "slide_type": "fragment"
    }
   },
   "outputs": [
    {
     "name": "stdout",
     "output_type": "stream",
     "text": [
      "loop: 1/2; calibrating: NonRElectricity; sufix = loop_1\n",
      "Computing model:  NonRElectricity\n"
     ]
    },
    {
     "name": "stderr",
     "output_type": "stream",
     "text": [
      "100%|██████████| 1510/1510 [00:00<00:00, 2592.03it/s]\n"
     ]
    },
    {
     "name": "stdout",
     "output_type": "stream",
     "text": [
      "loop: 2/2; final loop, for variables: NonRElectricity; sufix = loop_2\n",
      "Computing model:  NonRElectricity\n"
     ]
    },
    {
     "name": "stderr",
     "output_type": "stream",
     "text": [
      "100%|██████████| 1510/1510 [00:00<00:00, 2521.66it/s]\n"
     ]
    },
    {
     "name": "stdout",
     "output_type": "stream",
     "text": [
      "Calibration Error:\n",
      "\t8.6764E-01  NonRElectricity\n",
      "Projecting sample survey for 21 steps via resample\n",
      "resampling for year 2010\n",
      "Computing model:  NonRElectricity\n"
     ]
    },
    {
     "name": "stderr",
     "output_type": "stream",
     "text": [
      "100%|██████████| 1510/1510 [00:00<00:00, 2300.58it/s]\n"
     ]
    },
    {
     "name": "stdout",
     "output_type": "stream",
     "text": [
      "resampling for year 2011\n",
      "Computing model:  NonRElectricity\n"
     ]
    },
    {
     "name": "stderr",
     "output_type": "stream",
     "text": [
      "100%|██████████| 1510/1510 [00:00<00:00, 1995.80it/s]\n"
     ]
    },
    {
     "name": "stdout",
     "output_type": "stream",
     "text": [
      "resampling for year 2012\n",
      "Computing model:  NonRElectricity\n"
     ]
    },
    {
     "name": "stderr",
     "output_type": "stream",
     "text": [
      "100%|██████████| 1510/1510 [00:00<00:00, 2061.65it/s]\n"
     ]
    },
    {
     "name": "stdout",
     "output_type": "stream",
     "text": [
      "resampling for year 2013\n",
      "Computing model:  NonRElectricity\n"
     ]
    },
    {
     "name": "stderr",
     "output_type": "stream",
     "text": [
      "100%|██████████| 1510/1510 [00:00<00:00, 1607.05it/s]\n"
     ]
    },
    {
     "name": "stdout",
     "output_type": "stream",
     "text": [
      "resampling for year 2014\n",
      "Computing model:  NonRElectricity\n"
     ]
    },
    {
     "name": "stderr",
     "output_type": "stream",
     "text": [
      "100%|██████████| 1510/1510 [00:00<00:00, 2018.83it/s]\n"
     ]
    },
    {
     "name": "stdout",
     "output_type": "stream",
     "text": [
      "resampling for year 2015\n",
      "Computing model:  NonRElectricity\n"
     ]
    },
    {
     "name": "stderr",
     "output_type": "stream",
     "text": [
      "100%|██████████| 1510/1510 [00:01<00:00, 1431.41it/s]\n"
     ]
    },
    {
     "name": "stdout",
     "output_type": "stream",
     "text": [
      "resampling for year 2016\n",
      "Computing model:  NonRElectricity\n"
     ]
    },
    {
     "name": "stderr",
     "output_type": "stream",
     "text": [
      "100%|██████████| 1510/1510 [00:00<00:00, 1938.59it/s]\n"
     ]
    },
    {
     "name": "stdout",
     "output_type": "stream",
     "text": [
      "resampling for year 2017\n",
      "Computing model:  NonRElectricity\n"
     ]
    },
    {
     "name": "stderr",
     "output_type": "stream",
     "text": [
      "100%|██████████| 1510/1510 [00:00<00:00, 2267.46it/s]\n"
     ]
    },
    {
     "name": "stdout",
     "output_type": "stream",
     "text": [
      "resampling for year 2018\n",
      "Computing model:  NonRElectricity\n"
     ]
    },
    {
     "name": "stderr",
     "output_type": "stream",
     "text": [
      "100%|██████████| 1510/1510 [00:00<00:00, 1939.88it/s]\n"
     ]
    },
    {
     "name": "stdout",
     "output_type": "stream",
     "text": [
      "resampling for year 2019\n",
      "Computing model:  NonRElectricity\n"
     ]
    },
    {
     "name": "stderr",
     "output_type": "stream",
     "text": [
      "100%|██████████| 1510/1510 [00:00<00:00, 2936.98it/s]\n"
     ]
    },
    {
     "name": "stdout",
     "output_type": "stream",
     "text": [
      "resampling for year 2020\n",
      "Computing model:  NonRElectricity\n"
     ]
    },
    {
     "name": "stderr",
     "output_type": "stream",
     "text": [
      "100%|██████████| 1510/1510 [00:00<00:00, 2581.06it/s]\n"
     ]
    },
    {
     "name": "stdout",
     "output_type": "stream",
     "text": [
      "resampling for year 2021\n",
      "Computing model:  NonRElectricity\n"
     ]
    },
    {
     "name": "stderr",
     "output_type": "stream",
     "text": [
      "100%|██████████| 1510/1510 [00:00<00:00, 2345.60it/s]\n"
     ]
    },
    {
     "name": "stdout",
     "output_type": "stream",
     "text": [
      "resampling for year 2022\n",
      "Computing model:  NonRElectricity\n"
     ]
    },
    {
     "name": "stderr",
     "output_type": "stream",
     "text": [
      "100%|██████████| 1510/1510 [00:00<00:00, 2186.42it/s]\n"
     ]
    },
    {
     "name": "stdout",
     "output_type": "stream",
     "text": [
      "resampling for year 2023\n",
      "Computing model:  NonRElectricity\n"
     ]
    },
    {
     "name": "stderr",
     "output_type": "stream",
     "text": [
      "100%|██████████| 1510/1510 [00:00<00:00, 2327.36it/s]\n"
     ]
    },
    {
     "name": "stdout",
     "output_type": "stream",
     "text": [
      "resampling for year 2024\n",
      "Computing model:  NonRElectricity\n"
     ]
    },
    {
     "name": "stderr",
     "output_type": "stream",
     "text": [
      "100%|██████████| 1510/1510 [00:00<00:00, 2158.72it/s]\n"
     ]
    },
    {
     "name": "stdout",
     "output_type": "stream",
     "text": [
      "resampling for year 2025\n",
      "Computing model:  NonRElectricity\n"
     ]
    },
    {
     "name": "stderr",
     "output_type": "stream",
     "text": [
      "100%|██████████| 1510/1510 [00:00<00:00, 1967.17it/s]\n"
     ]
    },
    {
     "name": "stdout",
     "output_type": "stream",
     "text": [
      "resampling for year 2026\n",
      "Computing model:  NonRElectricity\n"
     ]
    },
    {
     "name": "stderr",
     "output_type": "stream",
     "text": [
      "100%|██████████| 1510/1510 [00:00<00:00, 1903.22it/s]\n"
     ]
    },
    {
     "name": "stdout",
     "output_type": "stream",
     "text": [
      "resampling for year 2027\n",
      "Computing model:  NonRElectricity\n"
     ]
    },
    {
     "name": "stderr",
     "output_type": "stream",
     "text": [
      "100%|██████████| 1510/1510 [00:00<00:00, 2191.46it/s]\n"
     ]
    },
    {
     "name": "stdout",
     "output_type": "stream",
     "text": [
      "resampling for year 2028\n",
      "Computing model:  NonRElectricity\n"
     ]
    },
    {
     "name": "stderr",
     "output_type": "stream",
     "text": [
      "100%|██████████| 1510/1510 [00:00<00:00, 2469.25it/s]\n"
     ]
    },
    {
     "name": "stdout",
     "output_type": "stream",
     "text": [
      "resampling for year 2029\n",
      "Computing model:  NonRElectricity\n"
     ]
    },
    {
     "name": "stderr",
     "output_type": "stream",
     "text": [
      "100%|██████████| 1510/1510 [00:00<00:00, 2340.33it/s]\n"
     ]
    },
    {
     "name": "stdout",
     "output_type": "stream",
     "text": [
      "resampling for year 2030\n",
      "Computing model:  NonRElectricity\n"
     ]
    },
    {
     "name": "stderr",
     "output_type": "stream",
     "text": [
      "100%|██████████| 1510/1510 [00:00<00:00, 2364.68it/s]\n"
     ]
    }
   ],
   "source": [
    "fw = run_calibrated_model(\n",
    "    table_model,\n",
    "    verbose = verbose,\n",
    "    project = typ,\n",
    "    census_file = census_file,\n",
    "    year = benchmark_year,\n",
    "    population_size = False,\n",
    "    name = '{}_{}'.format(model_name, iterations),\n",
    "    iterations = iterations,\n",
    "    align_census = False\n",
    "    #drop_col_survey = drop_col_survey\n",
    ")"
   ]
  },
  {
   "cell_type": "markdown",
   "metadata": {
    "slideshow": {
     "slide_type": "slide"
    }
   },
   "source": [
    "### Plot results"
   ]
  },
  {
   "cell_type": "code",
   "execution_count": 9,
   "metadata": {
    "collapsed": true,
    "slideshow": {
     "slide_type": "fragment"
    }
   },
   "outputs": [],
   "source": [
    "reweighted_survey = 'data/survey_{}_{}'.format(model_name, iterations)"
   ]
  },
  {
   "cell_type": "code",
   "execution_count": 10,
   "metadata": {
    "slideshow": {
     "slide_type": "fragment"
    }
   },
   "outputs": [
    {
     "data": {
      "image/png": "[encoded data removed]",
      "text/plain": [
       "<matplotlib.figure.Figure at 0x7ffa16a37390>"
      ]
     },
     "metadata": {},
     "output_type": "display_data"
    }
   ],
   "source": [
    "data = plot_data_projection(\n",
    "    reweighted_survey, [estimate_var], \"{}, {}\".format(iterations, typ),\n",
    "    benchmark_year = benchmark_year, unit = \"building\")"
   ]
  }
 ],
 "metadata": {
  "kernelspec": {
   "display_name": "Python 3",
   "language": "python",
   "name": "python3"
  },
  "language_info": {
   "codemirror_mode": {
    "name": "ipython",
    "version": 3
   },
   "file_extension": ".py",
   "mimetype": "text/x-python",
   "name": "python",
   "nbconvert_exporter": "python",
   "pygments_lexer": "ipython3",
   "version": "3.6.4"
  }
 },
 "nbformat": 4,
 "nbformat_minor": 2
}
