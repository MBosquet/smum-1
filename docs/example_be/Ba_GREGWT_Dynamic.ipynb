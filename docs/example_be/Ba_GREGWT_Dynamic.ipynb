{
 "cells": [
  {
   "cell_type": "markdown",
   "metadata": {
    "slideshow": {
     "slide_type": "slide"
    }
   },
   "source": [
    "## Step 2.a Dynamic Sampling Model  and GREGWT"
   ]
  },
  {
   "cell_type": "code",
   "execution_count": 1,
   "metadata": {
    "slideshow": {
     "slide_type": "skip"
    }
   },
   "outputs": [
    {
     "name": "stdout",
     "output_type": "stream",
     "text": [
      "2017-12-26 17:19:18.202226\n"
     ]
    }
   ],
   "source": [
    "import datetime; print(datetime.datetime.now())"
   ]
  },
  {
   "cell_type": "markdown",
   "metadata": {
    "slideshow": {
     "slide_type": "slide"
    }
   },
   "source": [
    "**Notebook abstract**\n",
    "\n",
    "This notebook shows the main sampling and reweighting algorithm."
   ]
  },
  {
   "cell_type": "markdown",
   "metadata": {
    "slideshow": {
     "slide_type": "slide"
    }
   },
   "source": [
    "### Import libraries"
   ]
  },
  {
   "cell_type": "code",
   "execution_count": 2,
   "metadata": {
    "collapsed": true,
    "slideshow": {
     "slide_type": "fragment"
    }
   },
   "outputs": [],
   "source": [
    "from urbanmetabolism.population.model import run_calibrated_model\n",
    "from urbanmetabolism.population.model import TableModel"
   ]
  },
  {
   "cell_type": "markdown",
   "metadata": {
    "slideshow": {
     "slide_type": "slide"
    }
   },
   "source": [
    "### Global variables"
   ]
  },
  {
   "cell_type": "code",
   "execution_count": 3,
   "metadata": {
    "collapsed": true,
    "slideshow": {
     "slide_type": "fragment"
    }
   },
   "outputs": [],
   "source": [
    "iterations = 1000\n",
    "year = 2016\n",
    "census_file = 'data/benchmarks_be_year_bias3_climate.csv'\n",
    "typ = 'resampled'\n",
    "model_name = 'Brussels_Electricity_Water_projected_dynamic_{}_bias'.format(typ)\n",
    "verbose = False\n",
    "#The number of chains to run in parallel. \n",
    "njobs = 2"
   ]
  },
  {
   "cell_type": "markdown",
   "metadata": {
    "slideshow": {
     "slide_type": "slide"
    }
   },
   "source": [
    "### Define Table model"
   ]
  },
  {
   "cell_type": "code",
   "execution_count": 4,
   "metadata": {
    "collapsed": true,
    "slideshow": {
     "slide_type": "fragment"
    }
   },
   "outputs": [],
   "source": [
    "tm = TableModel(census_file = census_file, verbose=verbose)"
   ]
  },
  {
   "cell_type": "markdown",
   "metadata": {
    "slideshow": {
     "slide_type": "slide"
    }
   },
   "source": [
    "#### Water model"
   ]
  },
  {
   "cell_type": "code",
   "execution_count": 5,
   "metadata": {
    "collapsed": true,
    "slideshow": {
     "slide_type": "fragment"
    }
   },
   "outputs": [],
   "source": [
    "tm.add_model('data/table_water.csv', 'Water')\n",
    "\n",
    "tm.update_dynamic_model(\n",
    "    'Water', specific_col = 'ConstructionType', select = 1)\n",
    "tm.update_dynamic_model(\n",
    "    'Water', specific_col = 'Age', val = 'mu', compute_average = 0)\n",
    "tm.update_dynamic_model(\n",
    "    'Water', specific_col = 'ConstructionYear', val = 'mu')\n",
    "tm.update_dynamic_model(\n",
    "    'Water', specific_col = 'HHSize', val = 'mu')\n",
    "tm.update_dynamic_model(\n",
    "    'Water', specific_col = 'Income', val = 'mu',\n",
    "    compute_average = False)"
   ]
  },
  {
   "cell_type": "code",
   "execution_count": 6,
   "metadata": {
    "scrolled": false,
    "slideshow": {
     "slide_type": "fragment"
    }
   },
   "outputs": [
    {
     "data": {
      "text/html": [
       "<div>\n",
       "<style>\n",
       "    .dataframe thead tr:only-child th {\n",
       "        text-align: right;\n",
       "    }\n",
       "\n",
       "    .dataframe thead th {\n",
       "        text-align: left;\n",
       "    }\n",
       "\n",
       "    .dataframe tbody tr th {\n",
       "        vertical-align: top;\n",
       "    }\n",
       "</style>\n",
       "<table border=\"1\" class=\"dataframe\">\n",
       "  <thead>\n",
       "    <tr style=\"text-align: right;\">\n",
       "      <th></th>\n",
       "      <th>co_mu</th>\n",
       "      <th>co_sd</th>\n",
       "      <th>p</th>\n",
       "      <th>mu</th>\n",
       "      <th>sd</th>\n",
       "      <th>dis</th>\n",
       "      <th>ub</th>\n",
       "      <th>lb</th>\n",
       "    </tr>\n",
       "  </thead>\n",
       "  <tbody>\n",
       "    <tr>\n",
       "      <th>w_Intercept</th>\n",
       "      <td>NaN</td>\n",
       "      <td>NaN</td>\n",
       "      <td>-5.28241</td>\n",
       "      <td>NaN</td>\n",
       "      <td>NaN</td>\n",
       "      <td>Deterministic</td>\n",
       "      <td>inf</td>\n",
       "      <td>-inf</td>\n",
       "    </tr>\n",
       "    <tr>\n",
       "      <th>w_ConstructionType</th>\n",
       "      <td>1.15175</td>\n",
       "      <td>0.111739</td>\n",
       "      <td>0.825655</td>\n",
       "      <td>NaN</td>\n",
       "      <td>NaN</td>\n",
       "      <td>Bernoulli</td>\n",
       "      <td>inf</td>\n",
       "      <td>0</td>\n",
       "    </tr>\n",
       "    <tr>\n",
       "      <th>w_Age</th>\n",
       "      <td>0.000515922</td>\n",
       "      <td>0.00169118</td>\n",
       "      <td>NaN</td>\n",
       "      <td>56.0519</td>\n",
       "      <td>23.2562</td>\n",
       "      <td>Normal</td>\n",
       "      <td>85</td>\n",
       "      <td>20</td>\n",
       "    </tr>\n",
       "    <tr>\n",
       "      <th>w_ConstructionYear</th>\n",
       "      <td>0.0156761</td>\n",
       "      <td>0.00115888</td>\n",
       "      <td>NaN</td>\n",
       "      <td>1957.4</td>\n",
       "      <td>40.6553</td>\n",
       "      <td>Poisson</td>\n",
       "      <td>2035</td>\n",
       "      <td>1800</td>\n",
       "    </tr>\n",
       "    <tr>\n",
       "      <th>w_HHSize</th>\n",
       "      <td>10.3606</td>\n",
       "      <td>0.272889</td>\n",
       "      <td>NaN</td>\n",
       "      <td>3.11831</td>\n",
       "      <td>1.71888</td>\n",
       "      <td>Poisson</td>\n",
       "      <td>8</td>\n",
       "      <td>1</td>\n",
       "    </tr>\n",
       "    <tr>\n",
       "      <th>w_Income</th>\n",
       "      <td>0.000956665</td>\n",
       "      <td>1.27204e-05</td>\n",
       "      <td>NaN</td>\n",
       "      <td>13648.4</td>\n",
       "      <td>136.484</td>\n",
       "      <td>Gamma</td>\n",
       "      <td>inf</td>\n",
       "      <td>0</td>\n",
       "    </tr>\n",
       "  </tbody>\n",
       "</table>\n",
       "</div>"
      ],
      "text/plain": [
       "                          co_mu        co_sd         p       mu       sd  \\\n",
       "w_Intercept                 NaN          NaN  -5.28241      NaN      NaN   \n",
       "w_ConstructionType      1.15175     0.111739  0.825655      NaN      NaN   \n",
       "w_Age               0.000515922   0.00169118       NaN  56.0519  23.2562   \n",
       "w_ConstructionYear    0.0156761   0.00115888       NaN   1957.4  40.6553   \n",
       "w_HHSize                10.3606     0.272889       NaN  3.11831  1.71888   \n",
       "w_Income            0.000956665  1.27204e-05       NaN  13648.4  136.484   \n",
       "\n",
       "                              dis    ub    lb  \n",
       "w_Intercept         Deterministic   inf  -inf  \n",
       "w_ConstructionType      Bernoulli   inf     0  \n",
       "w_Age                      Normal    85    20  \n",
       "w_ConstructionYear        Poisson  2035  1800  \n",
       "w_HHSize                  Poisson     8     1  \n",
       "w_Income                    Gamma   inf     0  "
      ]
     },
     "execution_count": 6,
     "metadata": {},
     "output_type": "execute_result"
    }
   ],
   "source": [
    "tm.models['Water'].loc[2020]"
   ]
  },
  {
   "cell_type": "code",
   "execution_count": 7,
   "metadata": {
    "collapsed": true,
    "slideshow": {
     "slide_type": "fragment"
    }
   },
   "outputs": [],
   "source": [
    "formula_water = \"+\".join(\n",
    "    [\"c_{0}*{0}\".format(e) for e in tm.models['Water'][year].index if\\\n",
    "     (e not in  ['w_Intercept'])\n",
    "    ])\n",
    "tm.add_formula(formula_water, 'Water')"
   ]
  },
  {
   "cell_type": "code",
   "execution_count": 8,
   "metadata": {
    "collapsed": true,
    "slideshow": {
     "slide_type": "fragment"
    }
   },
   "outputs": [],
   "source": [
    "tm.add_formula(formula_water, 'Water')"
   ]
  },
  {
   "cell_type": "code",
   "execution_count": 9,
   "metadata": {
    "scrolled": false,
    "slideshow": {
     "slide_type": "fragment"
    }
   },
   "outputs": [
    {
     "name": "stdout",
     "output_type": "stream",
     "text": [
      "Water =\n",
      "\t c_w_ConstructionType*w_ConstructionType +\n",
      "\t c_w_Age*w_Age +\n",
      "\t c_w_ConstructionYear*w_ConstructionYear +\n",
      "\t c_w_HHSize*w_HHSize +\n",
      "\t c_w_Income*w_Income +\n"
     ]
    }
   ],
   "source": [
    "tm.print_formula('Water')"
   ]
  },
  {
   "cell_type": "markdown",
   "metadata": {
    "slideshow": {
     "slide_type": "slide"
    }
   },
   "source": [
    "#### Electricity model"
   ]
  },
  {
   "cell_type": "code",
   "execution_count": 10,
   "metadata": {
    "collapsed": true
   },
   "outputs": [],
   "source": [
    "tm.add_model('data/table_elec.csv',  'Electricity',\n",
    "            skip_cols = [\n",
    "                'ConstructionType',\n",
    "                'Income',\n",
    "                'HHSize',\n",
    "                'ConstructionYear',\n",
    "                'ELWARM',\n",
    "                'ELWATER',\n",
    "                'ELFOOD'])\n",
    "tm.update_dynamic_model(\n",
    "   'Electricity', specific_col = 'sqm', val = 'mu',\n",
    "    compute_average = False)\n",
    "tm.update_dynamic_model(\n",
    "    'Electricity', specific_col = 'CDD',\n",
    "    static = True,\n",
    "    compute_average = False)\n",
    "tm.update_dynamic_model(\n",
    "    'Electricity', specific_col = 'HDD',\n",
    "    static = True,\n",
    "    compute_average = False)"
   ]
  },
  {
   "cell_type": "code",
   "execution_count": 11,
   "metadata": {
    "slideshow": {
     "slide_type": "fragment"
    }
   },
   "outputs": [
    {
     "data": {
      "text/html": [
       "<div>\n",
       "<style>\n",
       "    .dataframe thead tr:only-child th {\n",
       "        text-align: right;\n",
       "    }\n",
       "\n",
       "    .dataframe thead th {\n",
       "        text-align: left;\n",
       "    }\n",
       "\n",
       "    .dataframe tbody tr th {\n",
       "        vertical-align: top;\n",
       "    }\n",
       "</style>\n",
       "<table border=\"1\" class=\"dataframe\">\n",
       "  <thead>\n",
       "    <tr style=\"text-align: right;\">\n",
       "      <th></th>\n",
       "      <th>co_mu</th>\n",
       "      <th>co_sd</th>\n",
       "      <th>p</th>\n",
       "      <th>mu</th>\n",
       "      <th>sd</th>\n",
       "      <th>dis</th>\n",
       "      <th>ub</th>\n",
       "      <th>lb</th>\n",
       "    </tr>\n",
       "  </thead>\n",
       "  <tbody>\n",
       "    <tr>\n",
       "      <th>e_Intercept</th>\n",
       "      <td>NaN</td>\n",
       "      <td>NaN</td>\n",
       "      <td>-29960.6</td>\n",
       "      <td>NaN</td>\n",
       "      <td>NaN</td>\n",
       "      <td>Deterministic</td>\n",
       "      <td>inf</td>\n",
       "      <td>-inf</td>\n",
       "    </tr>\n",
       "    <tr>\n",
       "      <th>e_ConstructionType</th>\n",
       "      <td>2752.5</td>\n",
       "      <td>138.89</td>\n",
       "      <td>NaN</td>\n",
       "      <td>NaN</td>\n",
       "      <td>NaN</td>\n",
       "      <td>None</td>\n",
       "      <td>inf</td>\n",
       "      <td>0</td>\n",
       "    </tr>\n",
       "    <tr>\n",
       "      <th>e_sqm</th>\n",
       "      <td>16.7486</td>\n",
       "      <td>0.524321</td>\n",
       "      <td>NaN</td>\n",
       "      <td>73.0045</td>\n",
       "      <td>0.730045</td>\n",
       "      <td>Normal</td>\n",
       "      <td>inf</td>\n",
       "      <td>0</td>\n",
       "    </tr>\n",
       "    <tr>\n",
       "      <th>e_CDD</th>\n",
       "      <td>1.71525</td>\n",
       "      <td>0.0888685</td>\n",
       "      <td>833.3</td>\n",
       "      <td>NaN</td>\n",
       "      <td>NaN</td>\n",
       "      <td>Deterministic</td>\n",
       "      <td>inf</td>\n",
       "      <td>0</td>\n",
       "    </tr>\n",
       "    <tr>\n",
       "      <th>e_HDD</th>\n",
       "      <td>0.198506</td>\n",
       "      <td>0.0406247</td>\n",
       "      <td>3006.5</td>\n",
       "      <td>NaN</td>\n",
       "      <td>NaN</td>\n",
       "      <td>Deterministic</td>\n",
       "      <td>inf</td>\n",
       "      <td>0</td>\n",
       "    </tr>\n",
       "    <tr>\n",
       "      <th>e_Income</th>\n",
       "      <td>0.0322898</td>\n",
       "      <td>0.00266627</td>\n",
       "      <td>NaN</td>\n",
       "      <td>NaN</td>\n",
       "      <td>NaN</td>\n",
       "      <td>None</td>\n",
       "      <td>inf</td>\n",
       "      <td>0</td>\n",
       "    </tr>\n",
       "    <tr>\n",
       "      <th>e_HHSize</th>\n",
       "      <td>1037.73</td>\n",
       "      <td>36.3344</td>\n",
       "      <td>NaN</td>\n",
       "      <td>NaN</td>\n",
       "      <td>NaN</td>\n",
       "      <td>None</td>\n",
       "      <td>8</td>\n",
       "      <td>1</td>\n",
       "    </tr>\n",
       "    <tr>\n",
       "      <th>e_ConstructionYear</th>\n",
       "      <td>12.9729</td>\n",
       "      <td>2.21459</td>\n",
       "      <td>NaN</td>\n",
       "      <td>NaN</td>\n",
       "      <td>NaN</td>\n",
       "      <td>None</td>\n",
       "      <td>2035</td>\n",
       "      <td>1800</td>\n",
       "    </tr>\n",
       "  </tbody>\n",
       "</table>\n",
       "</div>"
      ],
      "text/plain": [
       "                        co_mu       co_sd        p       mu        sd  \\\n",
       "e_Intercept               NaN         NaN -29960.6      NaN       NaN   \n",
       "e_ConstructionType     2752.5      138.89      NaN      NaN       NaN   \n",
       "e_sqm                 16.7486    0.524321      NaN  73.0045  0.730045   \n",
       "e_CDD                 1.71525   0.0888685    833.3      NaN       NaN   \n",
       "e_HDD                0.198506   0.0406247   3006.5      NaN       NaN   \n",
       "e_Income            0.0322898  0.00266627      NaN      NaN       NaN   \n",
       "e_HHSize              1037.73     36.3344      NaN      NaN       NaN   \n",
       "e_ConstructionYear    12.9729     2.21459      NaN      NaN       NaN   \n",
       "\n",
       "                              dis    ub    lb  \n",
       "e_Intercept         Deterministic   inf  -inf  \n",
       "e_ConstructionType           None   inf     0  \n",
       "e_sqm                      Normal   inf     0  \n",
       "e_CDD               Deterministic   inf     0  \n",
       "e_HDD               Deterministic   inf     0  \n",
       "e_Income                     None   inf     0  \n",
       "e_HHSize                     None     8     1  \n",
       "e_ConstructionYear           None  2035  1800  "
      ]
     },
     "execution_count": 11,
     "metadata": {},
     "output_type": "execute_result"
    }
   ],
   "source": [
    "tm.models['Electricity'].loc[2016]"
   ]
  },
  {
   "cell_type": "code",
   "execution_count": 12,
   "metadata": {
    "collapsed": true
   },
   "outputs": [],
   "source": [
    "skip_elec = [\n",
    "    'e_Intercept', 'e_ConstructionType', 'e_Income', 'e_HHSize', 'e_ConstructionYear',\n",
    "    'e_CDD', 'e_HDD',\n",
    "]\n",
    "formula_elec = \"+\".join(\n",
    "    [\"c_{0}*{0}\".format(e) for e in tm.models['Electricity'][year].index \\\n",
    "     if (e not in skip_elec)\n",
    "    ])\n",
    "formula_elec += '+c_e_ConstructionType*w_ConstructionType +\\\n",
    "c_e_Income*w_Income +\\\n",
    "c_e_HHSize*w_HHSize +\\\n",
    "c_e_ConstructionYear*w_ConstructionYear+\\\n",
    "e_CDD +\\\n",
    "e_HDD'"
   ]
  },
  {
   "cell_type": "code",
   "execution_count": 13,
   "metadata": {
    "collapsed": true,
    "slideshow": {
     "slide_type": "fragment"
    }
   },
   "outputs": [],
   "source": [
    "tm.add_formula(formula_elec, 'Electricity')"
   ]
  },
  {
   "cell_type": "code",
   "execution_count": 14,
   "metadata": {
    "slideshow": {
     "slide_type": "fragment"
    }
   },
   "outputs": [
    {
     "name": "stdout",
     "output_type": "stream",
     "text": [
      "Electricity =\n",
      "\t c_e_sqm*e_sqm +\n",
      "\t c_e_ConstructionType*w_ConstructionType  +\n",
      "\t c_e_Income*w_Income  +\n",
      "\t c_e_HHSize*w_HHSize  +\n",
      "\t c_e_ConstructionYear*w_ConstructionYear +\n",
      "\t e_CDD  +\n",
      "\t e_HDD +\n"
     ]
    }
   ],
   "source": [
    "tm.print_formula('Electricity')"
   ]
  },
  {
   "cell_type": "markdown",
   "metadata": {
    "slideshow": {
     "slide_type": "slide"
    }
   },
   "source": [
    "#### Make model and save it to excel"
   ]
  },
  {
   "cell_type": "code",
   "execution_count": 15,
   "metadata": {
    "collapsed": true,
    "slideshow": {
     "slide_type": "fragment"
    }
   },
   "outputs": [],
   "source": [
    "table_model = tm.make_model()"
   ]
  },
  {
   "cell_type": "code",
   "execution_count": 16,
   "metadata": {
    "slideshow": {
     "slide_type": "fragment"
    }
   },
   "outputs": [
    {
     "name": "stdout",
     "output_type": "stream",
     "text": [
      "creating data/tableModel_Water_be.xlsx\n",
      "creating data/tableModel_Electricity_be.xlsx\n"
     ]
    }
   ],
   "source": [
    "tm.to_excel(sufix = \"_be\")"
   ]
  },
  {
   "cell_type": "markdown",
   "metadata": {
    "slideshow": {
     "slide_type": "slide"
    }
   },
   "source": [
    "### Define model variables"
   ]
  },
  {
   "cell_type": "code",
   "execution_count": 17,
   "metadata": {
    "collapsed": true,
    "slideshow": {
     "slide_type": "slide"
    }
   },
   "outputs": [],
   "source": [
    "labels_age = [\n",
    "    'Age_24', 'Age_29', 'Age_39',#3\n",
    "    'Age_54', 'Age_64', 'Age_79',#6\n",
    "    'Age_120']\n",
    "cut_age = [17,\n",
    "       24, 29, 39,\n",
    "       54, 64, 79,\n",
    "       120]\n",
    "  \n",
    "labels_cy = [\n",
    "    'ConstructionYear_1900', 'ConstructionYear_1918',\n",
    "    'ConstructionYear_1945', 'ConstructionYear_1961',\n",
    "    'ConstructionYear_1970', 'ConstructionYear_1981',\n",
    "    'ConstructionYear_1991', 'ConstructionYear_2001',\n",
    "    'ConstructionYear_2011', 'ConstructionYear_2016',\n",
    "    'ConstructionYear_2020', 'ConstructionYear_2030',\n",
    "    'ConstructionYear_2035']\n",
    "cut_cy = [0,\n",
    "          1900, 1918,\n",
    "          1945, 1961,\n",
    "          1970, 1981,\n",
    "          1991, 2001,\n",
    "          2011, 2016,\n",
    "          2020, 2030,\n",
    "          2100]\n",
    "\n",
    "to_cat = {\n",
    "    'w_Age':[cut_age, labels_age],\n",
    "    'w_ConstructionYear':[cut_cy, labels_cy],\n",
    "         }\n",
    "\n",
    "drop_col_survey = [\n",
    "    'e_ConstructionType', 'e_Income', 'e_HHSize', 'e_ConstructionYear',\n",
    "    'e_HDD', 'e_CDD'\n",
    "]"
   ]
  },
  {
   "cell_type": "code",
   "execution_count": null,
   "metadata": {
    "scrolled": false,
    "slideshow": {
     "slide_type": "fragment"
    }
   },
   "outputs": [],
   "source": [
    "fw = run_calibrated_model(\n",
    "    table_model,\n",
    "    verbose = verbose,\n",
    "    project = typ,\n",
    "    njobs = njobs,\n",
    "    census_file = census_file,\n",
    "    year = year,\n",
    "    name = '{}_{}'.format(model_name, iterations),\n",
    "    to_cat = to_cat,\n",
    "    iterations = iterations,\n",
    "    drop_col_survey = drop_col_survey)"
   ]
  }
 ],
 "metadata": {
  "kernelspec": {
   "display_name": "Python 3",
   "language": "python",
   "name": "python3"
  },
  "language_info": {
   "codemirror_mode": {
    "name": "ipython",
    "version": 3
   },
   "file_extension": ".py",
   "mimetype": "text/x-python",
   "name": "python",
   "nbconvert_exporter": "python",
   "pygments_lexer": "ipython3",
   "version": "3.6.4"
  }
 },
 "nbformat": 4,
 "nbformat_minor": 2
}
