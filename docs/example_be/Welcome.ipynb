{
 "cells": [
  {
   "cell_type": "markdown",
   "metadata": {
    "slideshow": {
     "slide_type": "slide"
    }
   },
   "source": [
    "# Brussels, Belgium"
   ]
  },
  {
   "cell_type": "markdown",
   "metadata": {
    "slideshow": {
     "slide_type": "slide"
    }
   },
   "source": [
    "## Abstract:\n",
    "\n",
    "This is a simple implementation example of the developed **Spatial Microsimulation Urban Metabolism Model (SMUM)**.\n",
    "\n",
    "The aim of this model is to identify and quantify the impact of transition pathways to a circular economy.\n",
    "\n",
    "Two main algorithms implemented in the model, giving it it’s name, are:\n",
    "\n",
    "1. A Spatial Microsimulation, used for the construction of a synthetic population; and\n",
    "\n",
    "2. An Urban Metabolism approach, used to benchmark consumption level at a city-level or neighbourhood level (making it spatial)."
   ]
  },
  {
   "cell_type": "markdown",
   "metadata": {
    "slideshow": {
     "slide_type": "slide"
    }
   },
   "source": [
    "## (Step 1) Constructing a synthetic population\n",
    "\n",
    "On this section the example shows how to construct representative samples given the **distributions of aggregated variables**. The algorithm constructs the samples either by constructing a new sample for each simulation year (**resample method**) or by reweighting an initial sample for each simulation year (**reweighting method**).\n",
    "\n",
    "In order to construct the samples the model needs input on: (a) the distribution functions of aggregate variables and (b) the changes over time. This means that the model required the **projected aggregated values**. The model provides some function to facilitate and visualize the projection of aggregated values.\n",
    "\n",
    "For a spatial microsimulation, the model requires also values for each simulation area. In this case a combination of the resample and reweighting methodologies is implemented. The algorithm will construct a new sample for each simulation year at an aggregated level (e.g. city-level) and reweight this sample for each area (e.g. statistical census areas).\n",
    "\n",
    "For the computation of resource consumption the model requires a **consumption model**. This model defines how the resource values are computed. This can be anything from a simple linear model to the implementation of external libraries."
   ]
  },
  {
   "cell_type": "markdown",
   "metadata": {
    "slideshow": {
     "slide_type": "subslide"
    }
   },
   "source": [
    "### Aggregate level benchmarks\n",
    "\n",
    "[(Step 1.a) Projecting demographic variables](Aa_ProjectionAggregates.ipynb)\n",
    "\n",
    "### Micro level consumption models\n",
    "\n",
    "[(Step 1.c) Micro-level Electricity demand model](Ac_MCMC_electricity.ipynb)\n",
    "\n",
    "[(Step 1.d) Micro-level Water demand model](Ad_MCMC_water.ipynb)\n",
    "\n",
    "[(Step 1.e) Micro-level Non-Residential model](Ae_MCMC_nonres.ipynb)"
   ]
  },
  {
   "cell_type": "markdown",
   "metadata": {
    "slideshow": {
     "slide_type": "subslide"
    }
   },
   "source": [
    "## (Step 2) Sampling and reweighting\n",
    "\n",
    "This section takes care of the actual **sampling procedure** and subsequent reweighting of the proxy data. The sample will be constructed with help of an [MCMC](https://github.com/pymc-devs/pymc3) algorithm and reweighted with help of the [GREGWT](https://github.com/emunozh/GREGWT) algorithm.\n",
    "\n",
    "This section also presents the internal validation of the sampling procedure.\n",
    "\n",
    "### Dynamic samplic models\n",
    "\n",
    "[(Step 2.a) Dynamic Sampling Model  and GREGWT](Ba_GREGWT_Dynamic.ipynb)\n",
    "\n",
    "[(Step 2.b) Non-Residential Model](Bb_GREGWT_NonResidential.ipynb)\n",
    "\n",
    "### Model internal validation\n",
    "\n",
    "[(Step 2.c) Model Internal Validation](Bc_GREGWT_validation_wbias.ipynb)"
   ]
  },
  {
   "cell_type": "markdown",
   "metadata": {
    "slideshow": {
     "slide_type": "subslide"
    }
   },
   "source": [
    "## (Step 3) Constructing scenarions:\n",
    "\n",
    "The construction of scenarios can be define at **different steps** of the model. In a sense, the definition of scenarios start by the projection of aggregated values (see section 1). This section defines scenarios by defining technology adoption rates and changes in technology efficiency.\n",
    "\n",
    "[(Step 3.a.1) Define Transition Scenarions](Ca_DefineTransitions.ipynb)\n",
    "\n",
    "[(Step 3.b.2) Visualize transition scenarios](Cb_VisualizeTransitions.ipynb)\n",
    "\n",
    "[(Step 3.a.2) Define Transition Scenarions, Non-Residential](Ca_DefineTransitions_NR.ipynb)\n",
    "\n",
    "[(Step 3.b.2) Visualize transition scenarios, Non-Residential](Cb_VisualizeTransitions_NR.ipynb)"
   ]
  }
 ],
 "metadata": {
  "kernelspec": {
   "display_name": "Python 3",
   "language": "python",
   "name": "python3"
  },
  "language_info": {
   "codemirror_mode": {
    "name": "ipython",
    "version": 3
   },
   "file_extension": ".py",
   "mimetype": "text/x-python",
   "name": "python",
   "nbconvert_exporter": "python",
   "pygments_lexer": "ipython3",
   "version": "3.6.4"
  }
 },
 "nbformat": 4,
 "nbformat_minor": 2
}
