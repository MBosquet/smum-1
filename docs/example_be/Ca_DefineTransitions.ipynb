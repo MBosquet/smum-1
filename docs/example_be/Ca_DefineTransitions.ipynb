{
 "cells": [
  {
   "cell_type": "markdown",
   "metadata": {
    "slideshow": {
     "slide_type": "slide"
    }
   },
   "source": [
    "## 3.a Defining simple transition scenarios"
   ]
  },
  {
   "cell_type": "code",
   "execution_count": 1,
   "metadata": {
    "slideshow": {
     "slide_type": "skip"
    }
   },
   "outputs": [
    {
     "name": "stdout",
     "output_type": "stream",
     "text": [
      "2018-01-16 14:37:18.961760\n"
     ]
    }
   ],
   "source": [
    "import datetime; print(datetime.datetime.now())"
   ]
  },
  {
   "cell_type": "markdown",
   "metadata": {
    "slideshow": {
     "slide_type": "slide"
    }
   },
   "source": [
    "**Notebook Abstract:**\n",
    "\n",
    "The following notebook describes the process to construct simple **transition scenarios**.\n",
    "\n",
    "The transition scenarios are define as **efficiency** rates induced by **technology development** or **behavioral** changes. These rates can be used as proxies for all types of efficiency improvements.\n",
    "\n",
    "In order to define transition scenarios the model need the following information:\n",
    "\n",
    "1. A technology **penetration rate**. This defines the share of the population *adopting* the technology. The model uses `sampling rules` for the selection of the population adopting this technology.\n",
    "\n",
    "2. Development of **efficiency rates**. This define the actual technology development rate. "
   ]
  },
  {
   "cell_type": "markdown",
   "metadata": {
    "slideshow": {
     "slide_type": "slide"
    }
   },
   "source": [
    "### Import libraries"
   ]
  },
  {
   "cell_type": "code",
   "execution_count": 2,
   "metadata": {
    "collapsed": true,
    "slideshow": {
     "slide_type": "fragment"
    }
   },
   "outputs": [],
   "source": [
    "from urbanmetabolism.population.model import transition_rate\n",
    "from urbanmetabolism.population.model import plot_transition_rate\n",
    "from urbanmetabolism.population.model import reduce_consumption"
   ]
  },
  {
   "cell_type": "markdown",
   "metadata": {
    "slideshow": {
     "slide_type": "fragment"
    }
   },
   "source": [
    "In order to compute the transition scenarios we make use of three modules of the `urbanmetabolism` library:\n",
    "\n",
    "1. `growth_rate`. This module will return a vector with linear **growth rates** given a starting and end rate.\n",
    "\n",
    "2. `plot_growth_rate`. This a simple function to **visualize** the defined growth rates.\n",
    "\n",
    "3. `reduce_consumption`. This function creates **new samples** with reduced consumption levels for the selected selection of the population."
   ]
  },
  {
   "cell_type": "markdown",
   "metadata": {
    "slideshow": {
     "slide_type": "slide"
    }
   },
   "source": [
    "### Define simple population selection rules"
   ]
  },
  {
   "cell_type": "code",
   "execution_count": 3,
   "metadata": {
    "collapsed": true,
    "slideshow": {
     "slide_type": "fragment"
    }
   },
   "outputs": [],
   "source": [
    "sampling_rules = {\n",
    "    \"w_ConstructionType == 'ConstructionType_appt'\": 10,\n",
    "    \"e_sqm < 70\": 10,\n",
    "    \"w_Income > 13650\": 10,\n",
    "}"
   ]
  },
  {
   "cell_type": "markdown",
   "metadata": {
    "slideshow": {
     "slide_type": "fragment"
    }
   },
   "source": [
    "Part of the scenario development is to identified which section of the population will adopt the new technology. The model defined this by a **sampling probability**. This probability is initially define as a uniform distribution (i.e. each individual on the sample has equal probability of being selected). A scenario is defined by allocating new sampling probabilities to a section of the population, by defining sampling rules. The sampling rules are passes to the [query](http://pandas.pydata.org/pandas-docs/stable/generated/pandas.DataFrame.query.html) function of a pandas `DataFrame`.\n",
    "\n",
    "On the example above, all individuals with a `Income` larger of equal to 180 000 Philippine Pesos are 30 times more likely to adopt the technology that the rest of the population. The sampling probabilities will sum up. This means that an individual with `Income >= 180000` and living on an urban area `e_Urban == 'Urbanity_Urban'` is 60 times more likely to be selected (i.e. adopt a new technology) that other individuals."
   ]
  },
  {
   "cell_type": "markdown",
   "metadata": {
    "slideshow": {
     "slide_type": "slide"
    }
   },
   "source": [
    "#### Initial sample data"
   ]
  },
  {
   "cell_type": "code",
   "execution_count": 7,
   "metadata": {
    "slideshow": {
     "slide_type": "fragment"
    }
   },
   "outputs": [
    {
     "data": {
      "text/html": [
       "<div>\n",
       "<style>\n",
       "    .dataframe thead tr:only-child th {\n",
       "        text-align: right;\n",
       "    }\n",
       "\n",
       "    .dataframe thead th {\n",
       "        text-align: left;\n",
       "    }\n",
       "\n",
       "    .dataframe tbody tr th {\n",
       "        vertical-align: top;\n",
       "    }\n",
       "</style>\n",
       "<table border=\"1\" class=\"dataframe\">\n",
       "  <thead>\n",
       "    <tr style=\"text-align: right;\">\n",
       "      <th></th>\n",
       "      <th>index</th>\n",
       "      <th>w_ConstructionType</th>\n",
       "      <th>w_Age</th>\n",
       "      <th>w_ConstructionYear</th>\n",
       "      <th>w_HHSize</th>\n",
       "      <th>e_sqm</th>\n",
       "      <th>w_Income</th>\n",
       "      <th>Water</th>\n",
       "      <th>Electricity</th>\n",
       "      <th>w</th>\n",
       "      <th>wf</th>\n",
       "    </tr>\n",
       "  </thead>\n",
       "  <tbody>\n",
       "    <tr>\n",
       "      <th>0</th>\n",
       "      <td>0</td>\n",
       "      <td>ConstructionType_hous</td>\n",
       "      <td>Age_79</td>\n",
       "      <td>ConstructionYear_1900</td>\n",
       "      <td>HHSize_4</td>\n",
       "      <td>73.622984</td>\n",
       "      <td>13866.979276</td>\n",
       "      <td>42.261383</td>\n",
       "      <td>1197.910196</td>\n",
       "      <td>1493.238095</td>\n",
       "      <td>1493.235088</td>\n",
       "    </tr>\n",
       "    <tr>\n",
       "      <th>1</th>\n",
       "      <td>1</td>\n",
       "      <td>ConstructionType_hous</td>\n",
       "      <td>Age_79</td>\n",
       "      <td>ConstructionYear_1918</td>\n",
       "      <td>HHSize_5</td>\n",
       "      <td>72.869928</td>\n",
       "      <td>13446.097786</td>\n",
       "      <td>42.322445</td>\n",
       "      <td>1368.784711</td>\n",
       "      <td>1493.238095</td>\n",
       "      <td>1493.240925</td>\n",
       "    </tr>\n",
       "    <tr>\n",
       "      <th>2</th>\n",
       "      <td>2</td>\n",
       "      <td>ConstructionType_appt</td>\n",
       "      <td>Age_120</td>\n",
       "      <td>ConstructionYear_1945</td>\n",
       "      <td>HHSize_5</td>\n",
       "      <td>73.977453</td>\n",
       "      <td>13724.728050</td>\n",
       "      <td>44.979569</td>\n",
       "      <td>1364.205395</td>\n",
       "      <td>1493.238095</td>\n",
       "      <td>1493.237061</td>\n",
       "    </tr>\n",
       "    <tr>\n",
       "      <th>3</th>\n",
       "      <td>3</td>\n",
       "      <td>ConstructionType_hous</td>\n",
       "      <td>Age_54</td>\n",
       "      <td>ConstructionYear_1945</td>\n",
       "      <td>HHSize_4</td>\n",
       "      <td>72.082717</td>\n",
       "      <td>13599.142254</td>\n",
       "      <td>41.460236</td>\n",
       "      <td>1254.191703</td>\n",
       "      <td>1493.238095</td>\n",
       "      <td>1493.238803</td>\n",
       "    </tr>\n",
       "    <tr>\n",
       "      <th>4</th>\n",
       "      <td>4</td>\n",
       "      <td>ConstructionType_appt</td>\n",
       "      <td>Age_79</td>\n",
       "      <td>ConstructionYear_1945</td>\n",
       "      <td>HHSize_2</td>\n",
       "      <td>73.437835</td>\n",
       "      <td>13605.608535</td>\n",
       "      <td>31.457611</td>\n",
       "      <td>1271.334852</td>\n",
       "      <td>1493.238095</td>\n",
       "      <td>1493.238713</td>\n",
       "    </tr>\n",
       "  </tbody>\n",
       "</table>\n",
       "</div>"
      ],
      "text/plain": [
       "   index     w_ConstructionType    w_Age     w_ConstructionYear  w_HHSize  \\\n",
       "0      0  ConstructionType_hous   Age_79  ConstructionYear_1900  HHSize_4   \n",
       "1      1  ConstructionType_hous   Age_79  ConstructionYear_1918  HHSize_5   \n",
       "2      2  ConstructionType_appt  Age_120  ConstructionYear_1945  HHSize_5   \n",
       "3      3  ConstructionType_hous   Age_54  ConstructionYear_1945  HHSize_4   \n",
       "4      4  ConstructionType_appt   Age_79  ConstructionYear_1945  HHSize_2   \n",
       "\n",
       "       e_sqm      w_Income      Water  Electricity            w           wf  \n",
       "0  73.622984  13866.979276  42.261383  1197.910196  1493.238095  1493.235088  \n",
       "1  72.869928  13446.097786  42.322445  1368.784711  1493.238095  1493.240925  \n",
       "2  73.977453  13724.728050  44.979569  1364.205395  1493.238095  1493.237061  \n",
       "3  72.082717  13599.142254  41.460236  1254.191703  1493.238095  1493.238803  \n",
       "4  73.437835  13605.608535  31.457611  1271.334852  1493.238095  1493.238713  "
      ]
     },
     "execution_count": 7,
     "metadata": {},
     "output_type": "execute_result"
    }
   ],
   "source": [
    "import pandas as pd\n",
    "file_name = \"data/survey_Brussels_Electricity_Water_projected_dynamic_resampled_bias_1000_{}.csv\"\n",
    "sample_survey = pd.read_csv(file_name.format(2016), index_col=0)\n",
    "sample_survey.head()"
   ]
  },
  {
   "cell_type": "markdown",
   "metadata": {
    "slideshow": {
     "slide_type": "fragment"
    }
   },
   "source": [
    "The `reduce_consumption` module will use as input the samples created by the MCMC algorithm and select specific sections of the population to reduce their consumption levels.\n",
    "\n",
    "The input data is the constructed proxy sample data. Depending on the simulation type (reweight/resample) the input data is a single file containing the weights for each simulation year (reweight) or individual samples for each simulation year (resample)."
   ]
  },
  {
   "cell_type": "markdown",
   "metadata": {
    "slideshow": {
     "slide_type": "subslide"
    }
   },
   "source": [
    "Most of the variables of the sample data is formatted as categorical data. The sample data shown above presents individual records with the predefine simulation variables as well as the computed **Electricity** and **Water** consumption levels. The sample also contains two sets of weights: **w** and **wf**. The `w` weights correspond to the weights assign by the MCMC algorithm (uniform distributed) while the `wf` (final weights) are the weights computed by the GREGWT algorithm. The `reduce_consumption` function will use the `wf` weights for the selection of individuals."
   ]
  },
  {
   "cell_type": "markdown",
   "metadata": {
    "slideshow": {
     "slide_type": "slide"
    }
   },
   "source": [
    "#### Define growth rates"
   ]
  },
  {
   "cell_type": "code",
   "execution_count": 32,
   "metadata": {
    "slideshow": {
     "slide_type": "fragment"
    }
   },
   "outputs": [],
   "source": [
    "Elec  = transition_rate(0, 0.4, default_start=2016, default_end=2025)\n",
    "Water = transition_rate(0, 0.2, default_start=2016, default_end=2025)\n",
    "pr    = transition_rate(0, 0.3, default_start=2016, default_end=2025)"
   ]
  },
  {
   "cell_type": "markdown",
   "metadata": {
    "slideshow": {
     "slide_type": "fragment"
    }
   },
   "source": [
    "With help of the `growth_rate()` function we define the **efficiency growth rate** and the technology penetration rate. For the technology penetration rate we define the start year to be equal to the benchmark year (2016). The function will automatically include the necessary zeros at the beginning of the growth rate vector.\n",
    "The function `plot_growth_rate()` allow us to **visualize** the predefined efficiency growth rates and the technology growth rates."
   ]
  },
  {
   "cell_type": "code",
   "execution_count": 34,
   "metadata": {
    "scrolled": false,
    "slideshow": {
     "slide_type": "fragment"
    }
   },
   "outputs": [
    {
     "data": {
      "image/png": "[encoded data removed]",
      "text/plain": [
       "<matplotlib.figure.Figure at 0x7f1cbf6b2128>"
      ]
     },
     "metadata": {},
     "output_type": "display_data"
    }
   ],
   "source": [
    "plot_transition_rate(\n",
    "    {\"Technology penetration rate\": pr,\n",
    "     \"Electricity efficiency increase rate\": Elec,\n",
    "     \"Water efficiency increase rate\": Water},\n",
    "     \"scenario 1\", start_year=2016, end_year=2025)"
   ]
  },
  {
   "cell_type": "markdown",
   "metadata": {
    "slideshow": {
     "slide_type": "slide"
    }
   },
   "source": [
    "#### Reduce consumption"
   ]
  },
  {
   "cell_type": "markdown",
   "metadata": {
    "slideshow": {
     "slide_type": "fragment"
    }
   },
   "source": [
    "The actual modifications on the sample is performed by the `reduce_consumption()` function. The function requires as input the following parameters:\n",
    "\n",
    "1. A base file name for the samples (in case of implementing the resample method).\n",
    "2. The sample year (in this case generated within the loop via `range(2010, 2031)`.\n",
    "3. The penetration rate for the sample year (iterated from vector `pr`).\n",
    "4. The predefined `sampling_rules`.\n",
    "5. A dictionary containing the efficiency rates for specific variables. (in this case for Electricity and Water).\n",
    "6. A name for the scenario. "
   ]
  },
  {
   "cell_type": "code",
   "execution_count": 35,
   "metadata": {
    "scrolled": false,
    "slideshow": {
     "slide_type": "fragment"
    }
   },
   "outputs": [
    {
     "name": "stdout",
     "output_type": "stream",
     "text": [
      "00.00%      both       reduction; efficiency rate 00.00%; year 2016 and penetration rate 00.00\n",
      "00.15%   Electricity   reduction; efficiency rate 04.44%; year 2017 and penetration rate 00.03\n",
      "00.07%      Water      reduction; efficiency rate 02.22%; year 2017 and penetration rate 00.03\n",
      "00.58%   Electricity   reduction; efficiency rate 08.89%; year 2018 and penetration rate 00.07\n",
      "00.30%      Water      reduction; efficiency rate 04.44%; year 2018 and penetration rate 00.07\n",
      "01.31%   Electricity   reduction; efficiency rate 13.33%; year 2019 and penetration rate 00.10\n",
      "00.67%      Water      reduction; efficiency rate 06.67%; year 2019 and penetration rate 00.10\n",
      "02.34%   Electricity   reduction; efficiency rate 17.78%; year 2020 and penetration rate 00.13\n",
      "01.19%      Water      reduction; efficiency rate 08.89%; year 2020 and penetration rate 00.13\n",
      "03.67%   Electricity   reduction; efficiency rate 22.22%; year 2021 and penetration rate 00.17\n",
      "01.85%      Water      reduction; efficiency rate 11.11%; year 2021 and penetration rate 00.17\n",
      "05.22%   Electricity   reduction; efficiency rate 26.67%; year 2022 and penetration rate 00.20\n",
      "02.64%      Water      reduction; efficiency rate 13.33%; year 2022 and penetration rate 00.20\n",
      "07.21%   Electricity   reduction; efficiency rate 31.11%; year 2023 and penetration rate 00.23\n",
      "03.60%      Water      reduction; efficiency rate 15.56%; year 2023 and penetration rate 00.23\n",
      "09.31%   Electricity   reduction; efficiency rate 35.56%; year 2024 and penetration rate 00.27\n",
      "04.65%      Water      reduction; efficiency rate 17.78%; year 2024 and penetration rate 00.27\n",
      "11.97%   Electricity   reduction; efficiency rate 40.00%; year 2025 and penetration rate 00.30\n",
      "06.02%      Water      reduction; efficiency rate 20.00%; year 2025 and penetration rate 00.30\n"
     ]
    }
   ],
   "source": [
    "for y, p, elec, water in zip(range(2016, 2026), pr, Elec, Water):\n",
    "    _ = reduce_consumption(\n",
    "        file_name,\n",
    "        y, p, sampling_rules,\n",
    "        {'Electricity':elec, 'Water':water},\n",
    "        scenario_name = \"scenario 1\")"
   ]
  },
  {
   "cell_type": "code",
   "execution_count": 36,
   "metadata": {
    "collapsed": true,
    "slideshow": {
     "slide_type": "slide"
    }
   },
   "outputs": [],
   "source": [
    "Elec  = transition_rate(0.0, 0.5, default_start=2016, default_end=2025)\n",
    "Water = transition_rate(0.0, 0.3, default_start=2016, default_end=2025)\n",
    "pr    = transition_rate(0.0, 0.6, default_start=2016, default_end=2025)"
   ]
  },
  {
   "cell_type": "markdown",
   "metadata": {
    "slideshow": {
     "slide_type": "fragment"
    }
   },
   "source": [
    "By modifying the growht rates we can create different scenarios."
   ]
  },
  {
   "cell_type": "code",
   "execution_count": 38,
   "metadata": {
    "slideshow": {
     "slide_type": "fragment"
    }
   },
   "outputs": [
    {
     "data": {
      "image/png": "[encoded data removed]",
      "text/plain": [
       "<matplotlib.figure.Figure at 0x7f1cbe005208>"
      ]
     },
     "metadata": {},
     "output_type": "display_data"
    }
   ],
   "source": [
    "plot_transition_rate(\n",
    "    {\"Technology penetration rate\": pr,\n",
    "     \"Electricity efficiency increase rate\": Elec,\n",
    "     \"Water efficiency increase rate\": Water},\n",
    "     \"scenario 2\", start_year=2016, end_year=2025)"
   ]
  },
  {
   "cell_type": "code",
   "execution_count": 41,
   "metadata": {
    "slideshow": {
     "slide_type": "slide"
    }
   },
   "outputs": [
    {
     "name": "stdout",
     "output_type": "stream",
     "text": [
      "00.00%      both       reduction; efficiency rate 00.00%; year 2016 and penetration rate 00.00\n",
      "00.37%   Electricity   reduction; efficiency rate 05.56%; year 2017 and penetration rate 00.07\n",
      "00.22%      Water      reduction; efficiency rate 03.33%; year 2017 and penetration rate 00.07\n",
      "01.46%   Electricity   reduction; efficiency rate 11.11%; year 2018 and penetration rate 00.13\n",
      "00.89%      Water      reduction; efficiency rate 06.67%; year 2018 and penetration rate 00.13\n",
      "03.29%   Electricity   reduction; efficiency rate 16.67%; year 2019 and penetration rate 00.20\n",
      "02.00%      Water      reduction; efficiency rate 10.00%; year 2019 and penetration rate 00.20\n",
      "05.86%   Electricity   reduction; efficiency rate 22.22%; year 2020 and penetration rate 00.27\n",
      "03.57%      Water      reduction; efficiency rate 13.33%; year 2020 and penetration rate 00.27\n",
      "09.19%   Electricity   reduction; efficiency rate 27.78%; year 2021 and penetration rate 00.33\n",
      "05.54%      Water      reduction; efficiency rate 16.67%; year 2021 and penetration rate 00.33\n",
      "13.07%   Electricity   reduction; efficiency rate 33.33%; year 2022 and penetration rate 00.40\n",
      "07.92%      Water      reduction; efficiency rate 20.00%; year 2022 and penetration rate 00.40\n",
      "18.06%   Electricity   reduction; efficiency rate 38.89%; year 2023 and penetration rate 00.47\n",
      "10.82%      Water      reduction; efficiency rate 23.33%; year 2023 and penetration rate 00.47\n",
      "23.34%   Electricity   reduction; efficiency rate 44.44%; year 2024 and penetration rate 00.53\n",
      "14.01%      Water      reduction; efficiency rate 26.67%; year 2024 and penetration rate 00.53\n",
      "29.97%   Electricity   reduction; efficiency rate 50.00%; year 2025 and penetration rate 00.60\n",
      "18.06%      Water      reduction; efficiency rate 30.00%; year 2025 and penetration rate 00.60\n"
     ]
    }
   ],
   "source": [
    "for y, p, elec, water in zip(range(2016, 2026), pr, Elec, Water):\n",
    "    _ = reduce_consumption(\n",
    "        file_name,\n",
    "        y, p, sampling_rules,\n",
    "        {'Electricity':elec, 'Water':water},\n",
    "        scenario_name = \"scenario 2\")"
   ]
  },
  {
   "cell_type": "markdown",
   "metadata": {
    "slideshow": {
     "slide_type": "slide"
    }
   },
   "source": [
    "-----\n",
    "\n",
    "[UN Environment](http://www.unep.org/)\n",
    "\n",
    "[Home](Welcome.ipynb)\n",
    "\n",
    "[Next](Cb_VisualizeTransitions.ipynb) (3.b) Visualize transition scenarios"
   ]
  }
 ],
 "metadata": {
  "kernelspec": {
   "display_name": "Python 3",
   "language": "python",
   "name": "python3"
  },
  "language_info": {
   "codemirror_mode": {
    "name": "ipython",
    "version": 3
   },
   "file_extension": ".py",
   "mimetype": "text/x-python",
   "name": "python",
   "nbconvert_exporter": "python",
   "pygments_lexer": "ipython3",
   "version": "3.6.4"
  }
 },
 "nbformat": 4,
 "nbformat_minor": 2
}
