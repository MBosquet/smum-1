{
 "cells": [
  {
   "cell_type": "markdown",
   "metadata": {
    "slideshow": {
     "slide_type": "slide"
    }
   },
   "source": [
    "## Brussels. Step 1.d Micro-level Water demand model"
   ]
  },
  {
   "cell_type": "code",
   "execution_count": 1,
   "metadata": {
    "slideshow": {
     "slide_type": "skip"
    }
   },
   "outputs": [
    {
     "name": "stdout",
     "output_type": "stream",
     "text": [
      "2018-03-26 02:13:23.269759\n"
     ]
    }
   ],
   "source": [
    "import datetime; print(datetime.datetime.now())"
   ]
  },
  {
   "cell_type": "markdown",
   "metadata": {
    "slideshow": {
     "slide_type": "slide"
    }
   },
   "source": [
    "**Notebook abstract**\n",
    "\n",
    "A simple micro-level water demand model.\n",
    "\n",
    "A simple micro-level water demand model. Similar to the [electricity demand model](Ac_MCMC_electricity.ipynb), the water demand model uses micro level consumption demand data for the construction of a table model. The table model describes simple rules for the construction of the proxy micro level sample data.  "
   ]
  },
  {
   "cell_type": "markdown",
   "metadata": {
    "slideshow": {
     "slide_type": "slide"
    }
   },
   "source": [
    "### Prior water demand model"
   ]
  },
  {
   "cell_type": "code",
   "execution_count": 2,
   "metadata": {
    "slideshow": {
     "slide_type": "fragment"
    }
   },
   "outputs": [
    {
     "name": "stderr",
     "output_type": "stream",
     "text": [
      "/usr/lib/python3.6/site-packages/statsmodels-0.8.0-py3.6-linux-x86_64.egg/statsmodels/compat/pandas.py:56: FutureWarning: The pandas.core.datetools module is deprecated and will be removed in a future version. Please use the pandas.tseries module instead.\n",
      "  from pandas.core import datetools\n"
     ]
    }
   ],
   "source": [
    "import statsmodels.api as sm\n",
    "import pandas as pd\n",
    "import numpy as np\n",
    "from smum._scripts.micro import compute_categories, change_index"
   ]
  },
  {
   "cell_type": "markdown",
   "metadata": {},
   "source": [
    "### Dataset\n",
    "\n",
    "The data used for the construction of the household water demand model is\n",
    "downscale from municipal-level data-sets from the Wallonie region.\n",
    "\n",
    "This data to construct a water demand model a function of:\n",
    "1. Building construction type (classified as house or apartment)\n",
    "2. Building construction year\n",
    "3. Head of household gender\n",
    "4. Household size\n",
    "5. Household income level"
   ]
  },
  {
   "cell_type": "code",
   "execution_count": 3,
   "metadata": {
    "collapsed": true,
    "slideshow": {
     "slide_type": "fragment"
    }
   },
   "outputs": [],
   "source": [
    "water_data = pd.read_csv('data/downscaled_data_be.csv', index_col=0)\n",
    "water_data.loc[\n",
    "    water_data.ConstructionType != 'appartements',\n",
    "    'ConstructionType'] = 'House'\n",
    "\n",
    "formula = \"Water ~ Age + ConstructionType + ConstructionYear + HHSize + Income\""
   ]
  },
  {
   "cell_type": "code",
   "execution_count": 4,
   "metadata": {
    "slideshow": {
     "slide_type": "fragment"
    }
   },
   "outputs": [
    {
     "data": {
      "text/html": [
       "<div>\n",
       "<style scoped>\n",
       "    .dataframe tbody tr th:only-of-type {\n",
       "        vertical-align: middle;\n",
       "    }\n",
       "\n",
       "    .dataframe tbody tr th {\n",
       "        vertical-align: top;\n",
       "    }\n",
       "\n",
       "    .dataframe thead th {\n",
       "        text-align: right;\n",
       "    }\n",
       "</style>\n",
       "<table border=\"1\" class=\"dataframe\">\n",
       "  <thead>\n",
       "    <tr style=\"text-align: right;\">\n",
       "      <th></th>\n",
       "      <th>Age</th>\n",
       "      <th>ConstructionType</th>\n",
       "      <th>ConstructionYear</th>\n",
       "      <th>Energy</th>\n",
       "      <th>Gender</th>\n",
       "      <th>HHSize</th>\n",
       "      <th>Income</th>\n",
       "      <th>Waste</th>\n",
       "      <th>Water</th>\n",
       "      <th>w</th>\n",
       "    </tr>\n",
       "  </thead>\n",
       "  <tbody>\n",
       "    <tr>\n",
       "      <th>0</th>\n",
       "      <td>70</td>\n",
       "      <td>House</td>\n",
       "      <td>1900</td>\n",
       "      <td>49</td>\n",
       "      <td>femme</td>\n",
       "      <td>2.61</td>\n",
       "      <td>28150.0</td>\n",
       "      <td>147.0</td>\n",
       "      <td>79</td>\n",
       "      <td>71.45</td>\n",
       "    </tr>\n",
       "    <tr>\n",
       "      <th>1</th>\n",
       "      <td>22</td>\n",
       "      <td>House</td>\n",
       "      <td>1977</td>\n",
       "      <td>49</td>\n",
       "      <td>femme</td>\n",
       "      <td>2.61</td>\n",
       "      <td>28150.0</td>\n",
       "      <td>147.0</td>\n",
       "      <td>79</td>\n",
       "      <td>71.45</td>\n",
       "    </tr>\n",
       "    <tr>\n",
       "      <th>2</th>\n",
       "      <td>28</td>\n",
       "      <td>House</td>\n",
       "      <td>1972</td>\n",
       "      <td>49</td>\n",
       "      <td>femme</td>\n",
       "      <td>2.61</td>\n",
       "      <td>28150.0</td>\n",
       "      <td>147.0</td>\n",
       "      <td>79</td>\n",
       "      <td>71.45</td>\n",
       "    </tr>\n",
       "    <tr>\n",
       "      <th>3</th>\n",
       "      <td>7</td>\n",
       "      <td>House</td>\n",
       "      <td>1900</td>\n",
       "      <td>49</td>\n",
       "      <td>femme</td>\n",
       "      <td>2.61</td>\n",
       "      <td>28150.0</td>\n",
       "      <td>147.0</td>\n",
       "      <td>79</td>\n",
       "      <td>71.45</td>\n",
       "    </tr>\n",
       "    <tr>\n",
       "      <th>4</th>\n",
       "      <td>33</td>\n",
       "      <td>House</td>\n",
       "      <td>1962</td>\n",
       "      <td>49</td>\n",
       "      <td>homme</td>\n",
       "      <td>2.61</td>\n",
       "      <td>28150.0</td>\n",
       "      <td>147.0</td>\n",
       "      <td>79</td>\n",
       "      <td>71.45</td>\n",
       "    </tr>\n",
       "  </tbody>\n",
       "</table>\n",
       "</div>"
      ],
      "text/plain": [
       "   Age ConstructionType  ConstructionYear  Energy Gender  HHSize   Income  \\\n",
       "0   70            House              1900      49  femme    2.61  28150.0   \n",
       "1   22            House              1977      49  femme    2.61  28150.0   \n",
       "2   28            House              1972      49  femme    2.61  28150.0   \n",
       "3    7            House              1900      49  femme    2.61  28150.0   \n",
       "4   33            House              1962      49  homme    2.61  28150.0   \n",
       "\n",
       "   Waste  Water      w  \n",
       "0  147.0     79  71.45  \n",
       "1  147.0     79  71.45  \n",
       "2  147.0     79  71.45  \n",
       "3  147.0     79  71.45  \n",
       "4  147.0     79  71.45  "
      ]
     },
     "execution_count": 4,
     "metadata": {},
     "output_type": "execute_result"
    }
   ],
   "source": [
    "water_data.head()"
   ]
  },
  {
   "cell_type": "markdown",
   "metadata": {},
   "source": [
    "### Regression model\n",
    "\n",
    "A weighted multiple regression model is defined and run with help\n",
    "of the ‘statsmodels’ python library.\n",
    "\n",
    "The model regression coefficients and their standard error are used\n",
    "as the water demand model."
   ]
  },
  {
   "cell_type": "code",
   "execution_count": 5,
   "metadata": {
    "collapsed": true,
    "slideshow": {
     "slide_type": "fragment"
    }
   },
   "outputs": [],
   "source": [
    "model_water = sm.WLS.from_formula(formula, water_data, weights=water_data.w)\n",
    "model_results_water = model_water.fit()"
   ]
  },
  {
   "cell_type": "code",
   "execution_count": 6,
   "metadata": {
    "slideshow": {
     "slide_type": "slide"
    }
   },
   "outputs": [
    {
     "data": {
      "text/html": [
       "<table class=\"simpletable\">\n",
       "<caption>WLS Regression Results</caption>\n",
       "<tr>\n",
       "  <th>Dep. Variable:</th>          <td>Water</td>      <th>  R-squared:         </th> <td>   0.360</td> \n",
       "</tr>\n",
       "<tr>\n",
       "  <th>Model:</th>                   <td>WLS</td>       <th>  Adj. R-squared:    </th> <td>   0.360</td> \n",
       "</tr>\n",
       "<tr>\n",
       "  <th>Method:</th>             <td>Least Squares</td>  <th>  F-statistic:       </th> <td>   2519.</td> \n",
       "</tr>\n",
       "<tr>\n",
       "  <th>Date:</th>             <td>Mon, 26 Mar 2018</td> <th>  Prob (F-statistic):</th>  <td>  0.00</td>  \n",
       "</tr>\n",
       "<tr>\n",
       "  <th>Time:</th>                 <td>02:13:26</td>     <th>  Log-Likelihood:    </th> <td> -75359.</td> \n",
       "</tr>\n",
       "<tr>\n",
       "  <th>No. Observations:</th>      <td> 22412</td>      <th>  AIC:               </th> <td>1.507e+05</td>\n",
       "</tr>\n",
       "<tr>\n",
       "  <th>Df Residuals:</th>          <td> 22406</td>      <th>  BIC:               </th> <td>1.508e+05</td>\n",
       "</tr>\n",
       "<tr>\n",
       "  <th>Df Model:</th>              <td>     5</td>      <th>                     </th>     <td> </td>    \n",
       "</tr>\n",
       "<tr>\n",
       "  <th>Covariance Type:</th>      <td>nonrobust</td>    <th>                     </th>     <td> </td>    \n",
       "</tr>\n",
       "</table>\n",
       "<table class=\"simpletable\">\n",
       "<tr>\n",
       "                  <td></td>                    <th>coef</th>     <th>std err</th>      <th>t</th>      <th>P>|t|</th>  <th>[0.025</th>    <th>0.975]</th>  \n",
       "</tr>\n",
       "<tr>\n",
       "  <th>Intercept</th>                        <td>   -5.2824</td> <td>    2.273</td> <td>   -2.324</td> <td> 0.020</td> <td>   -9.738</td> <td>   -0.826</td>\n",
       "</tr>\n",
       "<tr>\n",
       "  <th>ConstructionType[T.appartements]</th> <td>    1.1517</td> <td>    0.112</td> <td>   10.307</td> <td> 0.000</td> <td>    0.933</td> <td>    1.371</td>\n",
       "</tr>\n",
       "<tr>\n",
       "  <th>Age</th>                              <td>    0.0005</td> <td>    0.002</td> <td>    0.305</td> <td> 0.760</td> <td>   -0.003</td> <td>    0.004</td>\n",
       "</tr>\n",
       "<tr>\n",
       "  <th>ConstructionYear</th>                 <td>    0.0157</td> <td>    0.001</td> <td>   13.527</td> <td> 0.000</td> <td>    0.013</td> <td>    0.018</td>\n",
       "</tr>\n",
       "<tr>\n",
       "  <th>HHSize</th>                           <td>   10.3606</td> <td>    0.273</td> <td>   37.966</td> <td> 0.000</td> <td>    9.826</td> <td>   10.895</td>\n",
       "</tr>\n",
       "<tr>\n",
       "  <th>Income</th>                           <td>    0.0010</td> <td> 1.27e-05</td> <td>   75.207</td> <td> 0.000</td> <td>    0.001</td> <td>    0.001</td>\n",
       "</tr>\n",
       "</table>\n",
       "<table class=\"simpletable\">\n",
       "<tr>\n",
       "  <th>Omnibus:</th>       <td>2964.935</td> <th>  Durbin-Watson:     </th> <td>   0.038</td>\n",
       "</tr>\n",
       "<tr>\n",
       "  <th>Prob(Omnibus):</th>  <td> 0.000</td>  <th>  Jarque-Bera (JB):  </th> <td>7638.192</td>\n",
       "</tr>\n",
       "<tr>\n",
       "  <th>Skew:</th>           <td> 0.748</td>  <th>  Prob(JB):          </th> <td>    0.00</td>\n",
       "</tr>\n",
       "<tr>\n",
       "  <th>Kurtosis:</th>       <td> 5.438</td>  <th>  Cond. No.          </th> <td>1.28e+06</td>\n",
       "</tr>\n",
       "</table>"
      ],
      "text/plain": [
       "<class 'statsmodels.iolib.summary.Summary'>\n",
       "\"\"\"\n",
       "                            WLS Regression Results                            \n",
       "==============================================================================\n",
       "Dep. Variable:                  Water   R-squared:                       0.360\n",
       "Model:                            WLS   Adj. R-squared:                  0.360\n",
       "Method:                 Least Squares   F-statistic:                     2519.\n",
       "Date:                Mon, 26 Mar 2018   Prob (F-statistic):               0.00\n",
       "Time:                        02:13:26   Log-Likelihood:                -75359.\n",
       "No. Observations:               22412   AIC:                         1.507e+05\n",
       "Df Residuals:                   22406   BIC:                         1.508e+05\n",
       "Df Model:                           5                                         \n",
       "Covariance Type:            nonrobust                                         \n",
       "====================================================================================================\n",
       "                                       coef    std err          t      P>|t|      [0.025      0.975]\n",
       "----------------------------------------------------------------------------------------------------\n",
       "Intercept                           -5.2824      2.273     -2.324      0.020      -9.738      -0.826\n",
       "ConstructionType[T.appartements]     1.1517      0.112     10.307      0.000       0.933       1.371\n",
       "Age                                  0.0005      0.002      0.305      0.760      -0.003       0.004\n",
       "ConstructionYear                     0.0157      0.001     13.527      0.000       0.013       0.018\n",
       "HHSize                              10.3606      0.273     37.966      0.000       9.826      10.895\n",
       "Income                               0.0010   1.27e-05     75.207      0.000       0.001       0.001\n",
       "==============================================================================\n",
       "Omnibus:                     2964.935   Durbin-Watson:                   0.038\n",
       "Prob(Omnibus):                  0.000   Jarque-Bera (JB):             7638.192\n",
       "Skew:                           0.748   Prob(JB):                         0.00\n",
       "Kurtosis:                       5.438   Cond. No.                     1.28e+06\n",
       "==============================================================================\n",
       "\n",
       "Warnings:\n",
       "[1] Standard Errors assume that the covariance matrix of the errors is correctly specified.\n",
       "[2] The condition number is large, 1.28e+06. This might indicate that there are\n",
       "strong multicollinearity or other numerical problems.\n",
       "\"\"\""
      ]
     },
     "execution_count": 6,
     "metadata": {},
     "output_type": "execute_result"
    }
   ],
   "source": [
    "model_results_water.summary()"
   ]
  },
  {
   "cell_type": "code",
   "execution_count": 7,
   "metadata": {
    "collapsed": true,
    "slideshow": {
     "slide_type": "slide"
    }
   },
   "outputs": [],
   "source": [
    "params_water = change_index(model_results_water.params)\n",
    "bse_water = change_index(model_results_water.bse)\n",
    "water = pd.concat([params_water, bse_water], axis=1)\n",
    "water.columns = ['co_mu', 'co_sd']"
   ]
  },
  {
   "cell_type": "code",
   "execution_count": 8,
   "metadata": {
    "collapsed": true
   },
   "outputs": [],
   "source": [
    "water.index = [\n",
    "    'Intercept', 'ConstructionType', 'Age',\n",
    "    'ConstructionYear', 'HHSize', 'Income',\n",
    "]"
   ]
  },
  {
   "cell_type": "code",
   "execution_count": 9,
   "metadata": {
    "collapsed": true
   },
   "outputs": [],
   "source": [
    "water.loc[:, 'p'] = np.nan\n",
    "water.loc[:,'mu'] = np.nan\n",
    "water.loc[:,'sd'] = np.nan\n",
    "\n",
    "water.loc['ConstructionType', 'dis'] = 'Bernoulli'\n",
    "water.loc['Age', 'dis'] = 'Normal'\n",
    "water.loc['ConstructionYear', 'dis'] = 'Poisson'\n",
    "water.loc['HHSize', 'dis'] = 'Poisson'\n",
    "water.loc['Income', 'dis'] = 'Gamma'\n",
    "\n",
    "water.loc[:, 'ub'] = np.inf\n",
    "water.loc[:, 'lb'] = 0\n",
    "water.loc['Intercept', 'lb'] = -np.inf\n",
    "water.loc['Age', 'ub'] = 85\n",
    "water.loc['Age', 'lb'] = 20\n",
    "water.loc['HHSize', 'ub'] = 8\n",
    "water.loc['HHSize', 'lb'] = 1\n",
    "water.loc['ConstructionYear', 'ub'] = 2035\n",
    "water.loc['ConstructionYear', 'lb'] = 1800\n",
    "\n",
    "water.loc['Intercept', 'p'] = water.loc['Intercept', 'co_mu']\n",
    "water.loc['Intercept', 'dis'] = 'Deterministic'\n",
    "water.loc['Intercept', 'co_mu'] = np.nan\n",
    "water.loc['Intercept', 'co_sd'] = np.nan"
   ]
  },
  {
   "cell_type": "code",
   "execution_count": 10,
   "metadata": {
    "collapsed": true,
    "slideshow": {
     "slide_type": "fragment"
    }
   },
   "outputs": [],
   "source": [
    "water.index = ['w_'+i for i in water.index]"
   ]
  },
  {
   "cell_type": "code",
   "execution_count": 11,
   "metadata": {
    "collapsed": true,
    "slideshow": {
     "slide_type": "slide"
    }
   },
   "outputs": [],
   "source": [
    "water.to_csv('data/table_water.csv')"
   ]
  },
  {
   "cell_type": "code",
   "execution_count": 12,
   "metadata": {
    "slideshow": {
     "slide_type": "fragment"
    }
   },
   "outputs": [
    {
     "data": {
      "text/html": [
       "<div>\n",
       "<style scoped>\n",
       "    .dataframe tbody tr th:only-of-type {\n",
       "        vertical-align: middle;\n",
       "    }\n",
       "\n",
       "    .dataframe tbody tr th {\n",
       "        vertical-align: top;\n",
       "    }\n",
       "\n",
       "    .dataframe thead th {\n",
       "        text-align: right;\n",
       "    }\n",
       "</style>\n",
       "<table border=\"1\" class=\"dataframe\">\n",
       "  <thead>\n",
       "    <tr style=\"text-align: right;\">\n",
       "      <th></th>\n",
       "      <th>co_mu</th>\n",
       "      <th>co_sd</th>\n",
       "      <th>p</th>\n",
       "      <th>mu</th>\n",
       "      <th>sd</th>\n",
       "      <th>dis</th>\n",
       "      <th>ub</th>\n",
       "      <th>lb</th>\n",
       "    </tr>\n",
       "  </thead>\n",
       "  <tbody>\n",
       "    <tr>\n",
       "      <th>w_Intercept</th>\n",
       "      <td>NaN</td>\n",
       "      <td>NaN</td>\n",
       "      <td>-5.282409</td>\n",
       "      <td>NaN</td>\n",
       "      <td>NaN</td>\n",
       "      <td>Deterministic</td>\n",
       "      <td>inf</td>\n",
       "      <td>-inf</td>\n",
       "    </tr>\n",
       "    <tr>\n",
       "      <th>w_ConstructionType</th>\n",
       "      <td>1.151750</td>\n",
       "      <td>0.111739</td>\n",
       "      <td>NaN</td>\n",
       "      <td>NaN</td>\n",
       "      <td>NaN</td>\n",
       "      <td>Bernoulli</td>\n",
       "      <td>inf</td>\n",
       "      <td>0.000000</td>\n",
       "    </tr>\n",
       "    <tr>\n",
       "      <th>w_Age</th>\n",
       "      <td>0.000516</td>\n",
       "      <td>0.001691</td>\n",
       "      <td>NaN</td>\n",
       "      <td>NaN</td>\n",
       "      <td>NaN</td>\n",
       "      <td>Normal</td>\n",
       "      <td>85.000000</td>\n",
       "      <td>20.000000</td>\n",
       "    </tr>\n",
       "    <tr>\n",
       "      <th>w_ConstructionYear</th>\n",
       "      <td>0.015676</td>\n",
       "      <td>0.001159</td>\n",
       "      <td>NaN</td>\n",
       "      <td>NaN</td>\n",
       "      <td>NaN</td>\n",
       "      <td>Poisson</td>\n",
       "      <td>2035.000000</td>\n",
       "      <td>1800.000000</td>\n",
       "    </tr>\n",
       "    <tr>\n",
       "      <th>w_HHSize</th>\n",
       "      <td>10.360614</td>\n",
       "      <td>0.272889</td>\n",
       "      <td>NaN</td>\n",
       "      <td>NaN</td>\n",
       "      <td>NaN</td>\n",
       "      <td>Poisson</td>\n",
       "      <td>8.000000</td>\n",
       "      <td>1.000000</td>\n",
       "    </tr>\n",
       "    <tr>\n",
       "      <th>w_Income</th>\n",
       "      <td>0.000957</td>\n",
       "      <td>0.000013</td>\n",
       "      <td>NaN</td>\n",
       "      <td>NaN</td>\n",
       "      <td>NaN</td>\n",
       "      <td>Gamma</td>\n",
       "      <td>inf</td>\n",
       "      <td>0.000000</td>\n",
       "    </tr>\n",
       "  </tbody>\n",
       "</table>\n",
       "</div>"
      ],
      "text/plain": [
       "                        co_mu     co_sd         p  mu  sd            dis  \\\n",
       "w_Intercept               NaN       NaN -5.282409 NaN NaN  Deterministic   \n",
       "w_ConstructionType   1.151750  0.111739       NaN NaN NaN      Bernoulli   \n",
       "w_Age                0.000516  0.001691       NaN NaN NaN         Normal   \n",
       "w_ConstructionYear   0.015676  0.001159       NaN NaN NaN        Poisson   \n",
       "w_HHSize            10.360614  0.272889       NaN NaN NaN        Poisson   \n",
       "w_Income             0.000957  0.000013       NaN NaN NaN          Gamma   \n",
       "\n",
       "                             ub           lb  \n",
       "w_Intercept                 inf         -inf  \n",
       "w_ConstructionType          inf     0.000000  \n",
       "w_Age                 85.000000    20.000000  \n",
       "w_ConstructionYear  2035.000000  1800.000000  \n",
       "w_HHSize               8.000000     1.000000  \n",
       "w_Income                    inf     0.000000  "
      ]
     },
     "execution_count": 12,
     "metadata": {},
     "output_type": "execute_result"
    }
   ],
   "source": [
    "water"
   ]
  }
 ],
 "metadata": {
  "kernelspec": {
   "display_name": "Python 3",
   "language": "python",
   "name": "python3"
  },
  "language_info": {
   "codemirror_mode": {
    "name": "ipython",
    "version": 3
   },
   "file_extension": ".py",
   "mimetype": "text/x-python",
   "name": "python",
   "nbconvert_exporter": "python",
   "pygments_lexer": "ipython3",
   "version": "3.6.4"
  }
 },
 "nbformat": 4,
 "nbformat_minor": 2
}
