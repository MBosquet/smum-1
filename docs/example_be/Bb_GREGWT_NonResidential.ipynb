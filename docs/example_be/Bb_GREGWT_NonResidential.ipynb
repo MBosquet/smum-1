{
 "cells": [
  {
   "cell_type": "markdown",
   "metadata": {
    "slideshow": {
     "slide_type": "slide"
    }
   },
   "source": [
    "## Brussels. Step 2.b Dynamic Sampling Model and GREGWT, Non-Residential Model"
   ]
  },
  {
   "cell_type": "code",
   "execution_count": 1,
   "metadata": {
    "slideshow": {
     "slide_type": "skip"
    }
   },
   "outputs": [
    {
     "name": "stdout",
     "output_type": "stream",
     "text": [
      "2018-04-03 15:12:00.614979\n"
     ]
    }
   ],
   "source": [
    "import datetime; print(datetime.datetime.now())"
   ]
  },
  {
   "cell_type": "markdown",
   "metadata": {
    "slideshow": {
     "slide_type": "slide"
    }
   },
   "source": [
    "**Notebook abstract**\n",
    "\n",
    "This notebook shows the main sampling and reweighting algorithm for the non-residential sector."
   ]
  },
  {
   "cell_type": "markdown",
   "metadata": {
    "slideshow": {
     "slide_type": "slide"
    }
   },
   "source": [
    "### Import libraries"
   ]
  },
  {
   "cell_type": "code",
   "execution_count": 2,
   "metadata": {
    "slideshow": {
     "slide_type": "fragment"
    }
   },
   "outputs": [
    {
     "name": "stderr",
     "output_type": "stream",
     "text": [
      "/usr/lib/python3.6/site-packages/h5py-2.7.1-py3.6-linux-x86_64.egg/h5py/__init__.py:36: FutureWarning: Conversion of the second argument of issubdtype from `float` to `np.floating` is deprecated. In future, it will be treated as `np.float64 == np.dtype(float).type`.\n",
      "  from ._conv import register_converters as _register_converters\n"
     ]
    }
   ],
   "source": [
    "from smum.microsim.run import run_calibrated_model\n",
    "from smum.microsim.util_plot import plot_data_projection\n",
    "from smum.microsim.table import TableModel"
   ]
  },
  {
   "cell_type": "markdown",
   "metadata": {
    "slideshow": {
     "slide_type": "slide"
    }
   },
   "source": [
    "### Global variables"
   ]
  },
  {
   "cell_type": "code",
   "execution_count": 3,
   "metadata": {
    "slideshow": {
     "slide_type": "fragment"
    }
   },
   "outputs": [],
   "source": [
    "iterations = 10000\n",
    "benchmark_year = 2016\n",
    "census_file = 'data/benchmarks_nonresidential.csv'\n",
    "typ = 'resampled'\n",
    "model_name = 'Brussels_NonResidentialElectricity_wbias_projected_dynamic_{}'.format(typ)\n",
    "verbose = False\n",
    "drop_col_survey = ['h_BuildingHeat', 'c_BuldingCool', 'e_BuildingElec',\n",
    "                   'h_BuildingSqm', 'c_BuildingSqm']"
   ]
  },
  {
   "cell_type": "markdown",
   "metadata": {
    "slideshow": {
     "slide_type": "slide"
    }
   },
   "source": [
    "### Define model"
   ]
  },
  {
   "cell_type": "code",
   "execution_count": 4,
   "metadata": {},
   "outputs": [],
   "source": [
    "tm = TableModel(census_file = census_file, verbose=verbose)\n",
    "table_model_name = 'data/table_elec_nr_{}.csv'"
   ]
  },
  {
   "cell_type": "markdown",
   "metadata": {},
   "source": [
    "#### Electricity"
   ]
  },
  {
   "cell_type": "code",
   "execution_count": 5,
   "metadata": {
    "slideshow": {
     "slide_type": "fragment"
    }
   },
   "outputs": [],
   "source": [
    "tm.add_model(table_model_name.format('e'), 'elec', static = True)\n",
    "tm.add_model(table_model_name.format('h'), 'heat', static = True)\n",
    "tm.add_model(table_model_name.format('c'), 'cool', static = True)"
   ]
  },
  {
   "cell_type": "code",
   "execution_count": 6,
   "metadata": {
    "slideshow": {
     "slide_type": "fragment"
    }
   },
   "outputs": [
    {
     "data": {
      "text/html": [
       "<div>\n",
       "<style scoped>\n",
       "    .dataframe tbody tr th:only-of-type {\n",
       "        vertical-align: middle;\n",
       "    }\n",
       "\n",
       "    .dataframe tbody tr th {\n",
       "        vertical-align: top;\n",
       "    }\n",
       "\n",
       "    .dataframe thead th {\n",
       "        text-align: right;\n",
       "    }\n",
       "</style>\n",
       "<table border=\"1\" class=\"dataframe\">\n",
       "  <thead>\n",
       "    <tr style=\"text-align: right;\">\n",
       "      <th></th>\n",
       "      <th>co_mu</th>\n",
       "      <th>co_sd</th>\n",
       "      <th>p</th>\n",
       "      <th>dis</th>\n",
       "      <th>lb</th>\n",
       "      <th>ub</th>\n",
       "    </tr>\n",
       "  </thead>\n",
       "  <tbody>\n",
       "    <tr>\n",
       "      <th>c_BuildingSqm</th>\n",
       "      <td>3600.0,525.0,11100.0,12000.0,4650.0,105.0,105....</td>\n",
       "      <td>36.0,5.25,111.0,120.0,46.5,1.05,1.05,0.39,1.05...</td>\n",
       "      <td>0.00383471907281,0.00152179390275,0.0001305114...</td>\n",
       "      <td>Deterministic;c;Categorical</td>\n",
       "      <td>0</td>\n",
       "      <td>inf</td>\n",
       "    </tr>\n",
       "    <tr>\n",
       "      <th>c_BuildingCool</th>\n",
       "      <td>42.9002267754,125.188571429,23.4353153153,31.9...</td>\n",
       "      <td>0.429002267754,1.25188571429,0.234353153153,0....</td>\n",
       "      <td>0.00383471907281,0.00152179390275,0.0001305114...</td>\n",
       "      <td>Deterministic;BuildingSqm;Categorical</td>\n",
       "      <td>0</td>\n",
       "      <td>inf</td>\n",
       "    </tr>\n",
       "  </tbody>\n",
       "</table>\n",
       "</div>"
      ],
      "text/plain": [
       "                                                            co_mu  \\\n",
       "c_BuildingSqm   3600.0,525.0,11100.0,12000.0,4650.0,105.0,105....   \n",
       "c_BuildingCool  42.9002267754,125.188571429,23.4353153153,31.9...   \n",
       "\n",
       "                                                            co_sd  \\\n",
       "c_BuildingSqm   36.0,5.25,111.0,120.0,46.5,1.05,1.05,0.39,1.05...   \n",
       "c_BuildingCool  0.429002267754,1.25188571429,0.234353153153,0....   \n",
       "\n",
       "                                                                p  \\\n",
       "c_BuildingSqm   0.00383471907281,0.00152179390275,0.0001305114...   \n",
       "c_BuildingCool  0.00383471907281,0.00152179390275,0.0001305114...   \n",
       "\n",
       "                                                  dis lb   ub  \n",
       "c_BuildingSqm             Deterministic;c;Categorical  0  inf  \n",
       "c_BuildingCool  Deterministic;BuildingSqm;Categorical  0  inf  "
      ]
     },
     "execution_count": 6,
     "metadata": {},
     "output_type": "execute_result"
    }
   ],
   "source": [
    "tm.models['cool'].loc[2020]"
   ]
  },
  {
   "cell_type": "code",
   "execution_count": 7,
   "metadata": {},
   "outputs": [],
   "source": [
    "formula_nrb = \"c_e_BuildingElec * e_BuildingElec * c_e_BuildingSqm * e_BuildingSqm\"\n",
    "tm.add_formula(formula_nrb, 'elec')"
   ]
  },
  {
   "cell_type": "code",
   "execution_count": 8,
   "metadata": {},
   "outputs": [],
   "source": [
    "formula_nrb = \"c_h_BuildingHeat * h_BuildingHeat * c_e_BuildingSqm * e_BuildingSqm\"\n",
    "tm.add_formula(formula_nrb, 'heat')"
   ]
  },
  {
   "cell_type": "code",
   "execution_count": 9,
   "metadata": {},
   "outputs": [],
   "source": [
    "formula_nrb = \"c_c_BuildingCool * c_BuildingCool * c_e_BuildingSqm * e_BuildingSqm\"\n",
    "tm.add_formula(formula_nrb, 'cool')"
   ]
  },
  {
   "cell_type": "code",
   "execution_count": 10,
   "metadata": {
    "slideshow": {
     "slide_type": "slide"
    }
   },
   "outputs": [
    {
     "name": "stdout",
     "output_type": "stream",
     "text": [
      "creating data/tableModel_elec.xlsx\n",
      "creating data/tableModel_heat.xlsx\n",
      "creating data/tableModel_cool.xlsx\n"
     ]
    }
   ],
   "source": [
    "table_model = tm.make_model()\n",
    "tm.to_excel()"
   ]
  },
  {
   "cell_type": "markdown",
   "metadata": {
    "slideshow": {
     "slide_type": "slide"
    }
   },
   "source": [
    "### Run model"
   ]
  },
  {
   "cell_type": "code",
   "execution_count": 11,
   "metadata": {
    "scrolled": false,
    "slideshow": {
     "slide_type": "fragment"
    }
   },
   "outputs": [
    {
     "name": "stdout",
     "output_type": "stream",
     "text": [
      "loop: 1/4; calibrating: elec; sufix = loop_1\n",
      "Computing model:  elec\n",
      "Computing model:  heat\n",
      "Computing model:  cool\n"
     ]
    },
    {
     "name": "stderr",
     "output_type": "stream",
     "text": [
      "100%|██████████| 10600/10600 [00:23<00:00, 455.19it/s]\n"
     ]
    },
    {
     "name": "stdout",
     "output_type": "stream",
     "text": [
      "loop: 2/4; calibrating: heat; sufix = loop_2\n",
      "Computing model:  elec\n",
      "Computing model:  heat\n",
      "Computing model:  cool\n"
     ]
    },
    {
     "name": "stderr",
     "output_type": "stream",
     "text": [
      "100%|██████████| 10600/10600 [00:19<00:00, 543.54it/s]\n"
     ]
    },
    {
     "name": "stdout",
     "output_type": "stream",
     "text": [
      "loop: 3/4; calibrating: cool; sufix = loop_3\n",
      "Computing model:  elec\n",
      "Computing model:  heat\n",
      "Computing model:  cool\n"
     ]
    },
    {
     "name": "stderr",
     "output_type": "stream",
     "text": [
      "100%|██████████| 10600/10600 [00:23<00:00, 458.32it/s]\n"
     ]
    },
    {
     "name": "stdout",
     "output_type": "stream",
     "text": [
      "loop: 4/4; final loop, for variables: elec, heat, cool; sufix = loop_4\n",
      "Computing model:  elec\n",
      "Computing model:  heat\n",
      "Computing model:  cool\n"
     ]
    },
    {
     "name": "stderr",
     "output_type": "stream",
     "text": [
      "100%|██████████| 10600/10600 [00:16<00:00, 627.62it/s]\n"
     ]
    },
    {
     "name": "stdout",
     "output_type": "stream",
     "text": [
      "Calibration Error:\n",
      "\t3.3307E-16  elec\n",
      "\t0.0000E+00  heat\n",
      "\t6.7581E-02  cool\n",
      "Projecting sample survey for 10 steps via resample\n",
      "resampling for year 2016\n",
      "Computing model:  elec\n",
      "Computing model:  heat\n",
      "Computing model:  cool\n"
     ]
    },
    {
     "name": "stderr",
     "output_type": "stream",
     "text": [
      "100%|██████████| 10600/10600 [00:20<00:00, 508.07it/s]\n"
     ]
    },
    {
     "name": "stdout",
     "output_type": "stream",
     "text": [
      "resampling for year 2017\n",
      "Computing model:  elec\n",
      "Computing model:  heat\n",
      "Computing model:  cool\n"
     ]
    },
    {
     "name": "stderr",
     "output_type": "stream",
     "text": [
      "100%|██████████| 10600/10600 [00:18<00:00, 588.58it/s]\n"
     ]
    },
    {
     "name": "stdout",
     "output_type": "stream",
     "text": [
      "resampling for year 2018\n",
      "Computing model:  elec\n",
      "Computing model:  heat\n",
      "Computing model:  cool\n"
     ]
    },
    {
     "name": "stderr",
     "output_type": "stream",
     "text": [
      "100%|██████████| 10600/10600 [00:23<00:00, 457.96it/s]\n"
     ]
    },
    {
     "name": "stdout",
     "output_type": "stream",
     "text": [
      "resampling for year 2019\n",
      "Computing model:  elec\n",
      "Computing model:  heat\n",
      "Computing model:  cool\n"
     ]
    },
    {
     "name": "stderr",
     "output_type": "stream",
     "text": [
      "100%|██████████| 10600/10600 [00:15<00:00, 673.32it/s]\n"
     ]
    },
    {
     "name": "stdout",
     "output_type": "stream",
     "text": [
      "resampling for year 2020\n",
      "Computing model:  elec\n",
      "Computing model:  heat\n",
      "Computing model:  cool\n"
     ]
    },
    {
     "name": "stderr",
     "output_type": "stream",
     "text": [
      "100%|██████████| 10600/10600 [00:23<00:00, 453.25it/s]\n"
     ]
    },
    {
     "name": "stdout",
     "output_type": "stream",
     "text": [
      "resampling for year 2021\n",
      "Computing model:  elec\n",
      "Computing model:  heat\n",
      "Computing model:  cool\n"
     ]
    },
    {
     "name": "stderr",
     "output_type": "stream",
     "text": [
      "100%|██████████| 10600/10600 [00:17<00:00, 614.26it/s]\n"
     ]
    },
    {
     "name": "stdout",
     "output_type": "stream",
     "text": [
      "resampling for year 2022\n",
      "Computing model:  elec\n",
      "Computing model:  heat\n",
      "Computing model:  cool\n"
     ]
    },
    {
     "name": "stderr",
     "output_type": "stream",
     "text": [
      "100%|██████████| 10600/10600 [00:23<00:00, 442.77it/s]\n"
     ]
    },
    {
     "name": "stdout",
     "output_type": "stream",
     "text": [
      "resampling for year 2023\n",
      "Computing model:  elec\n",
      "Computing model:  heat\n",
      "Computing model:  cool\n"
     ]
    },
    {
     "name": "stderr",
     "output_type": "stream",
     "text": [
      "100%|██████████| 10600/10600 [00:15<00:00, 678.84it/s]\n"
     ]
    },
    {
     "name": "stdout",
     "output_type": "stream",
     "text": [
      "resampling for year 2024\n",
      "Computing model:  elec\n",
      "Computing model:  heat\n",
      "Computing model:  cool\n"
     ]
    },
    {
     "name": "stderr",
     "output_type": "stream",
     "text": [
      "100%|██████████| 10600/10600 [00:24<00:00, 432.95it/s]\n"
     ]
    },
    {
     "name": "stdout",
     "output_type": "stream",
     "text": [
      "resampling for year 2025\n",
      "Computing model:  elec\n",
      "Computing model:  heat\n",
      "Computing model:  cool\n"
     ]
    },
    {
     "name": "stderr",
     "output_type": "stream",
     "text": [
      "100%|██████████| 10600/10600 [00:14<00:00, 718.34it/s]\n"
     ]
    }
   ],
   "source": [
    "fw = run_calibrated_model(\n",
    "    table_model,\n",
    "    verbose = verbose,\n",
    "    project = typ,\n",
    "    census_file = census_file,\n",
    "    year = benchmark_year,\n",
    "    population_size = False,\n",
    "    name = '{}_{}'.format(model_name, iterations),\n",
    "    iterations = iterations,\n",
    "    align_census = False,\n",
    "    drop_col_survey = drop_col_survey\n",
    ")"
   ]
  },
  {
   "cell_type": "markdown",
   "metadata": {
    "slideshow": {
     "slide_type": "slide"
    }
   },
   "source": [
    "### Plot results"
   ]
  },
  {
   "cell_type": "code",
   "execution_count": 12,
   "metadata": {
    "slideshow": {
     "slide_type": "fragment"
    }
   },
   "outputs": [],
   "source": [
    "reweighted_survey = 'data/survey_{}_{}'.format(model_name, iterations)"
   ]
  },
  {
   "cell_type": "code",
   "execution_count": 13,
   "metadata": {
    "slideshow": {
     "slide_type": "fragment"
    }
   },
   "outputs": [
    {
     "data": {
      "image/png": "[encoded data removed]",
      "text/plain": [
       "<matplotlib.figure.Figure at 0x7f9625353438>"
      ]
     },
     "metadata": {},
     "output_type": "display_data"
    }
   ],
   "source": [
    "data = plot_data_projection(\n",
    "    reweighted_survey, ['elec','heat','cool'], \"{}, {}\".format(iterations, typ),\n",
    "    start_year = 2016, end_year = 2025, aspect_ratio = 4,\n",
    "    benchmark_year = False, unit = \"building\")"
   ]
  }
 ],
 "metadata": {
  "kernelspec": {
   "display_name": "Python 3",
   "language": "python",
   "name": "python3"
  },
  "language_info": {
   "codemirror_mode": {
    "name": "ipython",
    "version": 3
   },
   "file_extension": ".py",
   "mimetype": "text/x-python",
   "name": "python",
   "nbconvert_exporter": "python",
   "pygments_lexer": "ipython3",
   "version": "3.6.4"
  }
 },
 "nbformat": 4,
 "nbformat_minor": 2
}
