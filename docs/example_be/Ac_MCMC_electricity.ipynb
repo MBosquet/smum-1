{
 "cells": [
  {
   "cell_type": "markdown",
   "metadata": {
    "slideshow": {
     "slide_type": "slide"
    }
   },
   "source": [
    "## Brussels. Step 1.c Micro-level Electricity demand model"
   ]
  },
  {
   "cell_type": "code",
   "execution_count": 1,
   "metadata": {
    "slideshow": {
     "slide_type": "skip"
    }
   },
   "outputs": [
    {
     "name": "stdout",
     "output_type": "stream",
     "text": [
      "2018-03-26 02:08:35.436887\n"
     ]
    }
   ],
   "source": [
    "import datetime; print(datetime.datetime.now())"
   ]
  },
  {
   "cell_type": "markdown",
   "metadata": {
    "slideshow": {
     "slide_type": "slide"
    }
   },
   "source": [
    "**Notebook Abstract:**\n",
    "\n",
    "A simple micro-level electricity demand model. The electricity demand model used available micro level data for the estimation of regression coefficients. This regression coefficients are used to define a table model. The electricity table model is used for the construction of a proxy micro level sample data set.  "
   ]
  },
  {
   "cell_type": "markdown",
   "metadata": {
    "slideshow": {
     "slide_type": "slide"
    }
   },
   "source": [
    "### Prior electricity demand model"
   ]
  },
  {
   "cell_type": "code",
   "execution_count": 2,
   "metadata": {
    "slideshow": {
     "slide_type": "fragment"
    }
   },
   "outputs": [
    {
     "name": "stderr",
     "output_type": "stream",
     "text": [
      "/usr/lib/python3.6/site-packages/statsmodels-0.8.0-py3.6-linux-x86_64.egg/statsmodels/compat/pandas.py:56: FutureWarning: The pandas.core.datetools module is deprecated and will be removed in a future version. Please use the pandas.tseries module instead.\n",
      "  from pandas.core import datetools\n"
     ]
    }
   ],
   "source": [
    "import statsmodels.api as sm\n",
    "import pandas as pd\n",
    "import numpy as np\n",
    "from smum._scripts.micro import compute_categories, change_index"
   ]
  },
  {
   "cell_type": "code",
   "execution_count": 3,
   "metadata": {
    "collapsed": true,
    "slideshow": {
     "slide_type": "fragment"
    }
   },
   "outputs": [],
   "source": [
    "electricity_data = pd.read_csv('data/elec_data_be.csv', index_col=0)\n",
    "#formula = \"KWH ~ TOTSQMT_EN + CDD30YR + HDD30YR + MONEYPY + NHSLDMEM +\\\n",
    "# C(TYPEHUQ, Treatment(reference='House')) + YEARMADE + ELWARM + ELWATER + ELFOOD\"\n",
    "formula = \"KWH ~ TOTSQMT_EN + CDD30YR + HDD30YR + MONEYPY + NHSLDMEM +\\\n",
    " C(TYPEHUQ) + YEARMADE + ELWARM + ELWATER + ELFOOD\""
   ]
  },
  {
   "cell_type": "code",
   "execution_count": 4,
   "metadata": {
    "slideshow": {
     "slide_type": "fragment"
    }
   },
   "outputs": [
    {
     "data": {
      "text/html": [
       "<div>\n",
       "<style scoped>\n",
       "    .dataframe tbody tr th:only-of-type {\n",
       "        vertical-align: middle;\n",
       "    }\n",
       "\n",
       "    .dataframe tbody tr th {\n",
       "        vertical-align: top;\n",
       "    }\n",
       "\n",
       "    .dataframe thead th {\n",
       "        text-align: right;\n",
       "    }\n",
       "</style>\n",
       "<table border=\"1\" class=\"dataframe\">\n",
       "  <thead>\n",
       "    <tr style=\"text-align: right;\">\n",
       "      <th></th>\n",
       "      <th>TYPEHUQ</th>\n",
       "      <th>NWEIGHT</th>\n",
       "      <th>HDD65</th>\n",
       "      <th>CDD65</th>\n",
       "      <th>HDD30YR</th>\n",
       "      <th>CDD30YR</th>\n",
       "      <th>Climate_Region_Pub</th>\n",
       "      <th>UR</th>\n",
       "      <th>KOWNRENT</th>\n",
       "      <th>YEARMADE</th>\n",
       "      <th>...</th>\n",
       "      <th>DOLLARLP</th>\n",
       "      <th>GALLONFO</th>\n",
       "      <th>DOLLARFO</th>\n",
       "      <th>GALLONKER</th>\n",
       "      <th>BTUKER</th>\n",
       "      <th>DOLLARKER</th>\n",
       "      <th>BTUWOOD</th>\n",
       "      <th>TOTALBTU</th>\n",
       "      <th>TOTALDOL</th>\n",
       "      <th>TOTSQMT_EN</th>\n",
       "    </tr>\n",
       "    <tr>\n",
       "      <th>DOEID</th>\n",
       "      <th></th>\n",
       "      <th></th>\n",
       "      <th></th>\n",
       "      <th></th>\n",
       "      <th></th>\n",
       "      <th></th>\n",
       "      <th></th>\n",
       "      <th></th>\n",
       "      <th></th>\n",
       "      <th></th>\n",
       "      <th></th>\n",
       "      <th></th>\n",
       "      <th></th>\n",
       "      <th></th>\n",
       "      <th></th>\n",
       "      <th></th>\n",
       "      <th></th>\n",
       "      <th></th>\n",
       "      <th></th>\n",
       "      <th></th>\n",
       "      <th></th>\n",
       "    </tr>\n",
       "  </thead>\n",
       "  <tbody>\n",
       "    <tr>\n",
       "      <th>1</th>\n",
       "      <td>House</td>\n",
       "      <td>2471.68</td>\n",
       "      <td>4742.0</td>\n",
       "      <td>1080.0</td>\n",
       "      <td>4953.0</td>\n",
       "      <td>1271.0</td>\n",
       "      <td>4</td>\n",
       "      <td>U</td>\n",
       "      <td>Owned</td>\n",
       "      <td>2004</td>\n",
       "      <td>...</td>\n",
       "      <td>0.0</td>\n",
       "      <td>0.0</td>\n",
       "      <td>0.0</td>\n",
       "      <td>0.0</td>\n",
       "      <td>0.0</td>\n",
       "      <td>0.0</td>\n",
       "      <td>0.0</td>\n",
       "      <td>63006.0</td>\n",
       "      <td>1315.0</td>\n",
       "      <td>434.775</td>\n",
       "    </tr>\n",
       "    <tr>\n",
       "      <th>2</th>\n",
       "      <td>House</td>\n",
       "      <td>8599.17</td>\n",
       "      <td>2662.0</td>\n",
       "      <td>199.0</td>\n",
       "      <td>2688.0</td>\n",
       "      <td>143.0</td>\n",
       "      <td>5</td>\n",
       "      <td>U</td>\n",
       "      <td>Rented</td>\n",
       "      <td>1998</td>\n",
       "      <td>...</td>\n",
       "      <td>0.0</td>\n",
       "      <td>0.0</td>\n",
       "      <td>0.0</td>\n",
       "      <td>0.0</td>\n",
       "      <td>0.0</td>\n",
       "      <td>0.0</td>\n",
       "      <td>20000.0</td>\n",
       "      <td>103460.0</td>\n",
       "      <td>1293.0</td>\n",
       "      <td>254.448</td>\n",
       "    </tr>\n",
       "    <tr>\n",
       "      <th>3</th>\n",
       "      <td>Apartment</td>\n",
       "      <td>8969.92</td>\n",
       "      <td>6233.0</td>\n",
       "      <td>505.0</td>\n",
       "      <td>5741.0</td>\n",
       "      <td>829.0</td>\n",
       "      <td>1</td>\n",
       "      <td>U</td>\n",
       "      <td>Rented</td>\n",
       "      <td>1965</td>\n",
       "      <td>...</td>\n",
       "      <td>0.0</td>\n",
       "      <td>0.0</td>\n",
       "      <td>0.0</td>\n",
       "      <td>0.0</td>\n",
       "      <td>0.0</td>\n",
       "      <td>0.0</td>\n",
       "      <td>0.0</td>\n",
       "      <td>58716.0</td>\n",
       "      <td>1327.0</td>\n",
       "      <td>49.104</td>\n",
       "    </tr>\n",
       "    <tr>\n",
       "      <th>4</th>\n",
       "      <td>House</td>\n",
       "      <td>18003.64</td>\n",
       "      <td>6034.0</td>\n",
       "      <td>672.0</td>\n",
       "      <td>5781.0</td>\n",
       "      <td>868.0</td>\n",
       "      <td>1</td>\n",
       "      <td>U</td>\n",
       "      <td>Owned</td>\n",
       "      <td>1985</td>\n",
       "      <td>...</td>\n",
       "      <td>0.0</td>\n",
       "      <td>0.0</td>\n",
       "      <td>0.0</td>\n",
       "      <td>0.0</td>\n",
       "      <td>0.0</td>\n",
       "      <td>0.0</td>\n",
       "      <td>0.0</td>\n",
       "      <td>76401.0</td>\n",
       "      <td>1398.0</td>\n",
       "      <td>150.939</td>\n",
       "    </tr>\n",
       "    <tr>\n",
       "      <th>5</th>\n",
       "      <td>House</td>\n",
       "      <td>5999.61</td>\n",
       "      <td>5388.0</td>\n",
       "      <td>702.0</td>\n",
       "      <td>5313.0</td>\n",
       "      <td>797.0</td>\n",
       "      <td>1</td>\n",
       "      <td>U</td>\n",
       "      <td>Owned</td>\n",
       "      <td>1983</td>\n",
       "      <td>...</td>\n",
       "      <td>0.0</td>\n",
       "      <td>0.0</td>\n",
       "      <td>0.0</td>\n",
       "      <td>0.0</td>\n",
       "      <td>0.0</td>\n",
       "      <td>0.0</td>\n",
       "      <td>0.0</td>\n",
       "      <td>59809.0</td>\n",
       "      <td>1558.0</td>\n",
       "      <td>177.816</td>\n",
       "    </tr>\n",
       "  </tbody>\n",
       "</table>\n",
       "<p>5 rows × 51 columns</p>\n",
       "</div>"
      ],
      "text/plain": [
       "         TYPEHUQ   NWEIGHT   HDD65   CDD65  HDD30YR  CDD30YR  \\\n",
       "DOEID                                                          \n",
       "1          House   2471.68  4742.0  1080.0   4953.0   1271.0   \n",
       "2          House   8599.17  2662.0   199.0   2688.0    143.0   \n",
       "3      Apartment   8969.92  6233.0   505.0   5741.0    829.0   \n",
       "4          House  18003.64  6034.0   672.0   5781.0    868.0   \n",
       "5          House   5999.61  5388.0   702.0   5313.0    797.0   \n",
       "\n",
       "       Climate_Region_Pub UR KOWNRENT  YEARMADE     ...      DOLLARLP  \\\n",
       "DOEID                                               ...                 \n",
       "1                       4  U    Owned      2004     ...           0.0   \n",
       "2                       5  U   Rented      1998     ...           0.0   \n",
       "3                       1  U   Rented      1965     ...           0.0   \n",
       "4                       1  U    Owned      1985     ...           0.0   \n",
       "5                       1  U    Owned      1983     ...           0.0   \n",
       "\n",
       "       GALLONFO  DOLLARFO  GALLONKER  BTUKER  DOLLARKER  BTUWOOD  TOTALBTU  \\\n",
       "DOEID                                                                        \n",
       "1           0.0       0.0        0.0     0.0        0.0      0.0   63006.0   \n",
       "2           0.0       0.0        0.0     0.0        0.0  20000.0  103460.0   \n",
       "3           0.0       0.0        0.0     0.0        0.0      0.0   58716.0   \n",
       "4           0.0       0.0        0.0     0.0        0.0      0.0   76401.0   \n",
       "5           0.0       0.0        0.0     0.0        0.0      0.0   59809.0   \n",
       "\n",
       "       TOTALDOL  TOTSQMT_EN  \n",
       "DOEID                        \n",
       "1        1315.0     434.775  \n",
       "2        1293.0     254.448  \n",
       "3        1327.0      49.104  \n",
       "4        1398.0     150.939  \n",
       "5        1558.0     177.816  \n",
       "\n",
       "[5 rows x 51 columns]"
      ]
     },
     "execution_count": 4,
     "metadata": {},
     "output_type": "execute_result"
    }
   ],
   "source": [
    "electricity_data.head()"
   ]
  },
  {
   "cell_type": "code",
   "execution_count": 5,
   "metadata": {
    "collapsed": true,
    "slideshow": {
     "slide_type": "fragment"
    }
   },
   "outputs": [],
   "source": [
    "model = sm.WLS.from_formula(formula, electricity_data, weights=electricity_data.NWEIGHT)\n",
    "model_results = model.fit()\n",
    "#params = model_results.params\n",
    "#bse = model_results.bse\n",
    "params = change_index(model_results.params)\n",
    "bse = change_index(model_results.bse)"
   ]
  },
  {
   "cell_type": "code",
   "execution_count": 6,
   "metadata": {
    "slideshow": {
     "slide_type": "slide"
    }
   },
   "outputs": [
    {
     "data": {
      "text/html": [
       "<table class=\"simpletable\">\n",
       "<caption>WLS Regression Results</caption>\n",
       "<tr>\n",
       "  <th>Dep. Variable:</th>           <td>KWH</td>       <th>  R-squared:         </th>  <td>   0.451</td>  \n",
       "</tr>\n",
       "<tr>\n",
       "  <th>Model:</th>                   <td>WLS</td>       <th>  Adj. R-squared:    </th>  <td>   0.450</td>  \n",
       "</tr>\n",
       "<tr>\n",
       "  <th>Method:</th>             <td>Least Squares</td>  <th>  F-statistic:       </th>  <td>   946.8</td>  \n",
       "</tr>\n",
       "<tr>\n",
       "  <th>Date:</th>             <td>Mon, 26 Mar 2018</td> <th>  Prob (F-statistic):</th>   <td>  0.00</td>   \n",
       "</tr>\n",
       "<tr>\n",
       "  <th>Time:</th>                 <td>02:08:38</td>     <th>  Log-Likelihood:    </th> <td>-1.1684e+05</td>\n",
       "</tr>\n",
       "<tr>\n",
       "  <th>No. Observations:</th>      <td> 11542</td>      <th>  AIC:               </th>  <td>2.337e+05</td> \n",
       "</tr>\n",
       "<tr>\n",
       "  <th>Df Residuals:</th>          <td> 11531</td>      <th>  BIC:               </th>  <td>2.338e+05</td> \n",
       "</tr>\n",
       "<tr>\n",
       "  <th>Df Model:</th>              <td>    10</td>      <th>                     </th>      <td> </td>     \n",
       "</tr>\n",
       "<tr>\n",
       "  <th>Covariance Type:</th>      <td>nonrobust</td>    <th>                     </th>      <td> </td>     \n",
       "</tr>\n",
       "</table>\n",
       "<table class=\"simpletable\">\n",
       "<tr>\n",
       "           <td></td>              <th>coef</th>     <th>std err</th>      <th>t</th>      <th>P>|t|</th>  <th>[0.025</th>    <th>0.975]</th>  \n",
       "</tr>\n",
       "<tr>\n",
       "  <th>Intercept</th>           <td>-2.996e+04</td> <td> 4347.551</td> <td>   -6.891</td> <td> 0.000</td> <td>-3.85e+04</td> <td>-2.14e+04</td>\n",
       "</tr>\n",
       "<tr>\n",
       "  <th>C(TYPEHUQ)[T.House]</th> <td> 2752.5037</td> <td>  138.890</td> <td>   19.818</td> <td> 0.000</td> <td> 2480.256</td> <td> 3024.751</td>\n",
       "</tr>\n",
       "<tr>\n",
       "  <th>TOTSQMT_EN</th>          <td>   16.7486</td> <td>    0.524</td> <td>   31.943</td> <td> 0.000</td> <td>   15.721</td> <td>   17.776</td>\n",
       "</tr>\n",
       "<tr>\n",
       "  <th>CDD30YR</th>             <td>    1.7152</td> <td>    0.089</td> <td>   19.301</td> <td> 0.000</td> <td>    1.541</td> <td>    1.889</td>\n",
       "</tr>\n",
       "<tr>\n",
       "  <th>HDD30YR</th>             <td>    0.1985</td> <td>    0.041</td> <td>    4.886</td> <td> 0.000</td> <td>    0.119</td> <td>    0.278</td>\n",
       "</tr>\n",
       "<tr>\n",
       "  <th>MONEYPY</th>             <td>    0.0323</td> <td>    0.003</td> <td>   12.110</td> <td> 0.000</td> <td>    0.027</td> <td>    0.038</td>\n",
       "</tr>\n",
       "<tr>\n",
       "  <th>NHSLDMEM</th>            <td> 1037.7339</td> <td>   36.334</td> <td>   28.561</td> <td> 0.000</td> <td>  966.512</td> <td> 1108.955</td>\n",
       "</tr>\n",
       "<tr>\n",
       "  <th>YEARMADE</th>            <td>   12.9729</td> <td>    2.215</td> <td>    5.858</td> <td> 0.000</td> <td>    8.632</td> <td>   17.314</td>\n",
       "</tr>\n",
       "<tr>\n",
       "  <th>ELWARM</th>              <td> 2296.3175</td> <td>  119.387</td> <td>   19.234</td> <td> 0.000</td> <td> 2062.298</td> <td> 2530.337</td>\n",
       "</tr>\n",
       "<tr>\n",
       "  <th>ELWATER</th>             <td> 3660.4636</td> <td>  130.959</td> <td>   27.951</td> <td> 0.000</td> <td> 3403.761</td> <td> 3917.166</td>\n",
       "</tr>\n",
       "<tr>\n",
       "  <th>ELFOOD</th>              <td> 1396.9598</td> <td>  123.022</td> <td>   11.355</td> <td> 0.000</td> <td> 1155.816</td> <td> 1638.104</td>\n",
       "</tr>\n",
       "</table>\n",
       "<table class=\"simpletable\">\n",
       "<tr>\n",
       "  <th>Omnibus:</th>       <td>8161.961</td> <th>  Durbin-Watson:     </th>  <td>   1.969</td> \n",
       "</tr>\n",
       "<tr>\n",
       "  <th>Prob(Omnibus):</th>  <td> 0.000</td>  <th>  Jarque-Bera (JB):  </th> <td>474206.898</td>\n",
       "</tr>\n",
       "<tr>\n",
       "  <th>Skew:</th>           <td> 2.788</td>  <th>  Prob(JB):          </th>  <td>    0.00</td> \n",
       "</tr>\n",
       "<tr>\n",
       "  <th>Kurtosis:</th>       <td>33.902</td>  <th>  Cond. No.          </th>  <td>3.26e+06</td> \n",
       "</tr>\n",
       "</table>"
      ],
      "text/plain": [
       "<class 'statsmodels.iolib.summary.Summary'>\n",
       "\"\"\"\n",
       "                            WLS Regression Results                            \n",
       "==============================================================================\n",
       "Dep. Variable:                    KWH   R-squared:                       0.451\n",
       "Model:                            WLS   Adj. R-squared:                  0.450\n",
       "Method:                 Least Squares   F-statistic:                     946.8\n",
       "Date:                Mon, 26 Mar 2018   Prob (F-statistic):               0.00\n",
       "Time:                        02:08:38   Log-Likelihood:            -1.1684e+05\n",
       "No. Observations:               11542   AIC:                         2.337e+05\n",
       "Df Residuals:                   11531   BIC:                         2.338e+05\n",
       "Df Model:                          10                                         \n",
       "Covariance Type:            nonrobust                                         \n",
       "=======================================================================================\n",
       "                          coef    std err          t      P>|t|      [0.025      0.975]\n",
       "---------------------------------------------------------------------------------------\n",
       "Intercept           -2.996e+04   4347.551     -6.891      0.000   -3.85e+04   -2.14e+04\n",
       "C(TYPEHUQ)[T.House]  2752.5037    138.890     19.818      0.000    2480.256    3024.751\n",
       "TOTSQMT_EN             16.7486      0.524     31.943      0.000      15.721      17.776\n",
       "CDD30YR                 1.7152      0.089     19.301      0.000       1.541       1.889\n",
       "HDD30YR                 0.1985      0.041      4.886      0.000       0.119       0.278\n",
       "MONEYPY                 0.0323      0.003     12.110      0.000       0.027       0.038\n",
       "NHSLDMEM             1037.7339     36.334     28.561      0.000     966.512    1108.955\n",
       "YEARMADE               12.9729      2.215      5.858      0.000       8.632      17.314\n",
       "ELWARM               2296.3175    119.387     19.234      0.000    2062.298    2530.337\n",
       "ELWATER              3660.4636    130.959     27.951      0.000    3403.761    3917.166\n",
       "ELFOOD               1396.9598    123.022     11.355      0.000    1155.816    1638.104\n",
       "==============================================================================\n",
       "Omnibus:                     8161.961   Durbin-Watson:                   1.969\n",
       "Prob(Omnibus):                  0.000   Jarque-Bera (JB):           474206.898\n",
       "Skew:                           2.788   Prob(JB):                         0.00\n",
       "Kurtosis:                      33.902   Cond. No.                     3.26e+06\n",
       "==============================================================================\n",
       "\n",
       "Warnings:\n",
       "[1] Standard Errors assume that the covariance matrix of the errors is correctly specified.\n",
       "[2] The condition number is large, 3.26e+06. This might indicate that there are\n",
       "strong multicollinearity or other numerical problems.\n",
       "\"\"\""
      ]
     },
     "execution_count": 6,
     "metadata": {},
     "output_type": "execute_result"
    }
   ],
   "source": [
    "model_results.summary()"
   ]
  },
  {
   "cell_type": "code",
   "execution_count": 7,
   "metadata": {
    "collapsed": true
   },
   "outputs": [],
   "source": [
    "elec = pd.concat([params, bse], axis=1)\n",
    "elec.columns = ['co_mu', 'co_sd']"
   ]
  },
  {
   "cell_type": "code",
   "execution_count": 8,
   "metadata": {},
   "outputs": [
    {
     "data": {
      "text/plain": [
       "Index(['Intercept', 'TYPEHUQ_House', 'TOTSQMT_EN', 'CDD30YR', 'HDD30YR',\n",
       "       'MONEYPY', 'NHSLDMEM', 'YEARMADE', 'ELWARM', 'ELWATER', 'ELFOOD'],\n",
       "      dtype='object')"
      ]
     },
     "execution_count": 8,
     "metadata": {},
     "output_type": "execute_result"
    }
   ],
   "source": [
    "elec.index"
   ]
  },
  {
   "cell_type": "code",
   "execution_count": 9,
   "metadata": {
    "collapsed": true
   },
   "outputs": [],
   "source": [
    "elec.loc[:, 'p'] = np.nan\n",
    "elec.loc[:,'mu'] = np.nan\n",
    "elec.loc[:,'sd'] = np.nan\n",
    "elec.loc[:, 'dis'] = 'Normal'\n",
    "elec.loc[['CDD30YR','HDD30YR'], 'dis'] = 'Deterministic'\n",
    "elec.loc['MONEYPY', 'dis'] = 'None'\n",
    "#elec.loc[[\"TYPEHUQ, Treatmentreference='House'_Apartment\", 'ELWARM', 'ELWATER', 'ELFOOD'], 'dis'] = 'None'\n",
    "elec.loc[[\"TYPEHUQ_House\", 'ELWARM', 'ELWATER', 'ELFOOD'], 'dis'] = 'None'\n",
    "elec.loc[['NHSLDMEM', 'YEARMADE'], 'dis'] = 'None'\n",
    "elec.loc[:,'ub'] = np.inf\n",
    "elec.loc[:,'lb'] = 0\n",
    "elec.loc['NHSLDMEM', 'lb'] = 1\n",
    "elec.loc['NHSLDMEM', 'ub'] = 8\n",
    "elec.loc['YEARMADE', 'lb'] = 1800\n",
    "elec.loc['YEARMADE', 'ub'] = 2035\n",
    "elec.loc['Intercept', 'lb'] = -np.inf\n",
    "elec.loc['Intercept', 'p'] = elec.loc['Intercept', 'co_mu']\n",
    "elec.loc['Intercept', 'dis'] = 'Deterministic'\n",
    "elec.loc['Intercept', 'co_mu'] = np.nan\n",
    "elec.loc['Intercept', 'co_sd'] = np.nan"
   ]
  },
  {
   "cell_type": "code",
   "execution_count": 10,
   "metadata": {
    "collapsed": true
   },
   "outputs": [],
   "source": [
    "elec.index = [\n",
    "    'e_Intercept',\n",
    "    'e_ConstructionType',\n",
    "    'e_sqm',\n",
    "    'e_CDD',\n",
    "    'e_HDD',\n",
    "    'e_Income',\n",
    "    'e_HHSize',\n",
    "    'e_ConstructionYear',\n",
    "    'e_ELWARM',\n",
    "    'e_ELWATER',\n",
    "    'e_ELFOOD'\n",
    "]"
   ]
  },
  {
   "cell_type": "code",
   "execution_count": 11,
   "metadata": {
    "collapsed": true
   },
   "outputs": [],
   "source": [
    "skip = [\n",
    "    'e_ELWARM',\n",
    "    'e_ELWATER',\n",
    "    'e_ELFOOD'\n",
    "]\n",
    "elec = elec.loc[[i for i in elec.index if i not in skip]]"
   ]
  },
  {
   "cell_type": "code",
   "execution_count": 12,
   "metadata": {
    "collapsed": true,
    "slideshow": {
     "slide_type": "slide"
    }
   },
   "outputs": [],
   "source": [
    "elec.to_csv('data/table_elec.csv')"
   ]
  },
  {
   "cell_type": "code",
   "execution_count": 13,
   "metadata": {
    "slideshow": {
     "slide_type": "fragment"
    }
   },
   "outputs": [
    {
     "data": {
      "text/html": [
       "<div>\n",
       "<style scoped>\n",
       "    .dataframe tbody tr th:only-of-type {\n",
       "        vertical-align: middle;\n",
       "    }\n",
       "\n",
       "    .dataframe tbody tr th {\n",
       "        vertical-align: top;\n",
       "    }\n",
       "\n",
       "    .dataframe thead th {\n",
       "        text-align: right;\n",
       "    }\n",
       "</style>\n",
       "<table border=\"1\" class=\"dataframe\">\n",
       "  <thead>\n",
       "    <tr style=\"text-align: right;\">\n",
       "      <th></th>\n",
       "      <th>co_mu</th>\n",
       "      <th>co_sd</th>\n",
       "      <th>p</th>\n",
       "      <th>mu</th>\n",
       "      <th>sd</th>\n",
       "      <th>dis</th>\n",
       "      <th>ub</th>\n",
       "      <th>lb</th>\n",
       "    </tr>\n",
       "  </thead>\n",
       "  <tbody>\n",
       "    <tr>\n",
       "      <th>e_Intercept</th>\n",
       "      <td>NaN</td>\n",
       "      <td>NaN</td>\n",
       "      <td>-29960.626896</td>\n",
       "      <td>NaN</td>\n",
       "      <td>NaN</td>\n",
       "      <td>Deterministic</td>\n",
       "      <td>inf</td>\n",
       "      <td>-inf</td>\n",
       "    </tr>\n",
       "    <tr>\n",
       "      <th>e_ConstructionType</th>\n",
       "      <td>2752.503665</td>\n",
       "      <td>138.889881</td>\n",
       "      <td>NaN</td>\n",
       "      <td>NaN</td>\n",
       "      <td>NaN</td>\n",
       "      <td>None</td>\n",
       "      <td>inf</td>\n",
       "      <td>0.000000</td>\n",
       "    </tr>\n",
       "    <tr>\n",
       "      <th>e_sqm</th>\n",
       "      <td>16.748580</td>\n",
       "      <td>0.524321</td>\n",
       "      <td>NaN</td>\n",
       "      <td>NaN</td>\n",
       "      <td>NaN</td>\n",
       "      <td>Normal</td>\n",
       "      <td>inf</td>\n",
       "      <td>0.000000</td>\n",
       "    </tr>\n",
       "    <tr>\n",
       "      <th>e_CDD</th>\n",
       "      <td>1.715248</td>\n",
       "      <td>0.088868</td>\n",
       "      <td>NaN</td>\n",
       "      <td>NaN</td>\n",
       "      <td>NaN</td>\n",
       "      <td>Deterministic</td>\n",
       "      <td>inf</td>\n",
       "      <td>0.000000</td>\n",
       "    </tr>\n",
       "    <tr>\n",
       "      <th>e_HDD</th>\n",
       "      <td>0.198506</td>\n",
       "      <td>0.040625</td>\n",
       "      <td>NaN</td>\n",
       "      <td>NaN</td>\n",
       "      <td>NaN</td>\n",
       "      <td>Deterministic</td>\n",
       "      <td>inf</td>\n",
       "      <td>0.000000</td>\n",
       "    </tr>\n",
       "    <tr>\n",
       "      <th>e_Income</th>\n",
       "      <td>0.032290</td>\n",
       "      <td>0.002666</td>\n",
       "      <td>NaN</td>\n",
       "      <td>NaN</td>\n",
       "      <td>NaN</td>\n",
       "      <td>None</td>\n",
       "      <td>inf</td>\n",
       "      <td>0.000000</td>\n",
       "    </tr>\n",
       "    <tr>\n",
       "      <th>e_HHSize</th>\n",
       "      <td>1037.733889</td>\n",
       "      <td>36.334410</td>\n",
       "      <td>NaN</td>\n",
       "      <td>NaN</td>\n",
       "      <td>NaN</td>\n",
       "      <td>None</td>\n",
       "      <td>8.000000</td>\n",
       "      <td>1.000000</td>\n",
       "    </tr>\n",
       "    <tr>\n",
       "      <th>e_ConstructionYear</th>\n",
       "      <td>12.972898</td>\n",
       "      <td>2.214585</td>\n",
       "      <td>NaN</td>\n",
       "      <td>NaN</td>\n",
       "      <td>NaN</td>\n",
       "      <td>None</td>\n",
       "      <td>2035.000000</td>\n",
       "      <td>1800.000000</td>\n",
       "    </tr>\n",
       "  </tbody>\n",
       "</table>\n",
       "</div>"
      ],
      "text/plain": [
       "                          co_mu       co_sd             p  mu  sd  \\\n",
       "e_Intercept                 NaN         NaN -29960.626896 NaN NaN   \n",
       "e_ConstructionType  2752.503665  138.889881           NaN NaN NaN   \n",
       "e_sqm                 16.748580    0.524321           NaN NaN NaN   \n",
       "e_CDD                  1.715248    0.088868           NaN NaN NaN   \n",
       "e_HDD                  0.198506    0.040625           NaN NaN NaN   \n",
       "e_Income               0.032290    0.002666           NaN NaN NaN   \n",
       "e_HHSize            1037.733889   36.334410           NaN NaN NaN   \n",
       "e_ConstructionYear    12.972898    2.214585           NaN NaN NaN   \n",
       "\n",
       "                              dis           ub           lb  \n",
       "e_Intercept         Deterministic          inf         -inf  \n",
       "e_ConstructionType           None          inf     0.000000  \n",
       "e_sqm                      Normal          inf     0.000000  \n",
       "e_CDD               Deterministic          inf     0.000000  \n",
       "e_HDD               Deterministic          inf     0.000000  \n",
       "e_Income                     None          inf     0.000000  \n",
       "e_HHSize                     None     8.000000     1.000000  \n",
       "e_ConstructionYear           None  2035.000000  1800.000000  "
      ]
     },
     "execution_count": 13,
     "metadata": {},
     "output_type": "execute_result"
    }
   ],
   "source": [
    "elec"
   ]
  }
 ],
 "metadata": {
  "kernelspec": {
   "display_name": "Python 3",
   "language": "python",
   "name": "python3"
  },
  "language_info": {
   "codemirror_mode": {
    "name": "ipython",
    "version": 3
   },
   "file_extension": ".py",
   "mimetype": "text/x-python",
   "name": "python",
   "nbconvert_exporter": "python",
   "pygments_lexer": "ipython3",
   "version": "3.6.4"
  }
 },
 "nbformat": 4,
 "nbformat_minor": 2
}
