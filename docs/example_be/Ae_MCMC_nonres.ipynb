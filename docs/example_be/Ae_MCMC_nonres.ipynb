{
 "cells": [
  {
   "cell_type": "markdown",
   "metadata": {
    "slideshow": {
     "slide_type": "slide"
    }
   },
   "source": [
    "## 1.e Micro-level Non-Residential model"
   ]
  },
  {
   "cell_type": "code",
   "execution_count": 1,
   "metadata": {
    "slideshow": {
     "slide_type": "skip"
    }
   },
   "outputs": [
    {
     "name": "stdout",
     "output_type": "stream",
     "text": [
      "2018-02-26 12:13:49.046970\n"
     ]
    }
   ],
   "source": [
    "import datetime; print(datetime.datetime.now())"
   ]
  },
  {
   "cell_type": "markdown",
   "metadata": {
    "slideshow": {
     "slide_type": "slide"
    }
   },
   "source": [
    "**Notebook abstract**\n",
    "\n",
    "A simple micro-level building stock model. The consumption model defined for the building stock works in theory exactly like the other micro level consumption model. The difference between this model and the income, electricity and water demand models is that we don't have a micro-level consumption data set in order to extract regression coefficients. In order to define a consumption model we use predefine building typologies. "
   ]
  },
  {
   "cell_type": "markdown",
   "metadata": {
    "slideshow": {
     "slide_type": "slide"
    }
   },
   "source": [
    "## Prior non-residential model"
   ]
  },
  {
   "cell_type": "code",
   "execution_count": 2,
   "metadata": {},
   "outputs": [],
   "source": [
    "import pandas as pd"
   ]
  },
  {
   "cell_type": "code",
   "execution_count": 3,
   "metadata": {},
   "outputs": [],
   "source": [
    "TypesB = pd.read_csv('data/TypesB.csv', index_col=[0,1])"
   ]
  },
  {
   "cell_type": "code",
   "execution_count": 4,
   "metadata": {},
   "outputs": [
    {
     "data": {
      "text/html": [
       "<div>\n",
       "<style scoped>\n",
       "    .dataframe tbody tr th:only-of-type {\n",
       "        vertical-align: middle;\n",
       "    }\n",
       "\n",
       "    .dataframe tbody tr th {\n",
       "        vertical-align: top;\n",
       "    }\n",
       "\n",
       "    .dataframe thead th {\n",
       "        text-align: right;\n",
       "    }\n",
       "</style>\n",
       "<table border=\"1\" class=\"dataframe\">\n",
       "  <thead>\n",
       "    <tr style=\"text-align: right;\">\n",
       "      <th></th>\n",
       "      <th></th>\n",
       "      <th>heat</th>\n",
       "      <th>cool</th>\n",
       "      <th>elec</th>\n",
       "      <th>sqm</th>\n",
       "      <th>entities</th>\n",
       "      <th>p</th>\n",
       "    </tr>\n",
       "    <tr>\n",
       "      <th>group</th>\n",
       "      <th>typ</th>\n",
       "      <th></th>\n",
       "      <th></th>\n",
       "      <th></th>\n",
       "      <th></th>\n",
       "      <th></th>\n",
       "      <th></th>\n",
       "    </tr>\n",
       "  </thead>\n",
       "  <tbody>\n",
       "    <tr>\n",
       "      <th rowspan=\"5\" valign=\"top\">comm</th>\n",
       "      <th>Services</th>\n",
       "      <td>114.646120</td>\n",
       "      <td>42.900227</td>\n",
       "      <td>85.453653</td>\n",
       "      <td>3600.0</td>\n",
       "      <td>7610</td>\n",
       "      <td>0.383472</td>\n",
       "    </tr>\n",
       "    <tr>\n",
       "      <th>Food services</th>\n",
       "      <td>820.440000</td>\n",
       "      <td>125.188571</td>\n",
       "      <td>298.847619</td>\n",
       "      <td>525.0</td>\n",
       "      <td>3020</td>\n",
       "      <td>0.152179</td>\n",
       "    </tr>\n",
       "    <tr>\n",
       "      <th>Lodging</th>\n",
       "      <td>79.161081</td>\n",
       "      <td>23.435315</td>\n",
       "      <td>74.837117</td>\n",
       "      <td>11100.0</td>\n",
       "      <td>259</td>\n",
       "      <td>0.013051</td>\n",
       "    </tr>\n",
       "    <tr>\n",
       "      <th>Office building</th>\n",
       "      <td>55.291667</td>\n",
       "      <td>31.980083</td>\n",
       "      <td>92.729167</td>\n",
       "      <td>12000.0</td>\n",
       "      <td>8099</td>\n",
       "      <td>0.408113</td>\n",
       "    </tr>\n",
       "    <tr>\n",
       "      <th>Warehous/Storage</th>\n",
       "      <td>101.099570</td>\n",
       "      <td>1.860645</td>\n",
       "      <td>41.330108</td>\n",
       "      <td>4650.0</td>\n",
       "      <td>130</td>\n",
       "      <td>0.006551</td>\n",
       "    </tr>\n",
       "    <tr>\n",
       "      <th rowspan=\"7\" valign=\"top\">indu</th>\n",
       "      <th>Chemical - Pharmaceutical/Medical</th>\n",
       "      <td>183.492971</td>\n",
       "      <td>9.645261</td>\n",
       "      <td>198.687800</td>\n",
       "      <td>105.0</td>\n",
       "      <td>40</td>\n",
       "      <td>0.002016</td>\n",
       "    </tr>\n",
       "    <tr>\n",
       "      <th>Fabricated metal products</th>\n",
       "      <td>33.160702</td>\n",
       "      <td>1.528521</td>\n",
       "      <td>228.669574</td>\n",
       "      <td>105.0</td>\n",
       "      <td>95</td>\n",
       "      <td>0.004787</td>\n",
       "    </tr>\n",
       "    <tr>\n",
       "      <th>Food</th>\n",
       "      <td>483.129187</td>\n",
       "      <td>275.699073</td>\n",
       "      <td>255.629133</td>\n",
       "      <td>39.0</td>\n",
       "      <td>362</td>\n",
       "      <td>0.018241</td>\n",
       "    </tr>\n",
       "    <tr>\n",
       "      <th>Furniture</th>\n",
       "      <td>39.597494</td>\n",
       "      <td>2.899449</td>\n",
       "      <td>172.696441</td>\n",
       "      <td>105.0</td>\n",
       "      <td>45</td>\n",
       "      <td>0.002268</td>\n",
       "    </tr>\n",
       "    <tr>\n",
       "      <th>Machinery</th>\n",
       "      <td>27.536797</td>\n",
       "      <td>24.687100</td>\n",
       "      <td>230.904416</td>\n",
       "      <td>105.0</td>\n",
       "      <td>78</td>\n",
       "      <td>0.003930</td>\n",
       "    </tr>\n",
       "    <tr>\n",
       "      <th>Plastic/Rubber products</th>\n",
       "      <td>31.946667</td>\n",
       "      <td>1396.809143</td>\n",
       "      <td>516.179810</td>\n",
       "      <td>105.0</td>\n",
       "      <td>18</td>\n",
       "      <td>0.000907</td>\n",
       "    </tr>\n",
       "    <tr>\n",
       "      <th>Textiles - Apparel</th>\n",
       "      <td>82.170370</td>\n",
       "      <td>16.185185</td>\n",
       "      <td>243.263426</td>\n",
       "      <td>36.0</td>\n",
       "      <td>89</td>\n",
       "      <td>0.004485</td>\n",
       "    </tr>\n",
       "  </tbody>\n",
       "</table>\n",
       "</div>"
      ],
      "text/plain": [
       "                                               heat         cool        elec  \\\n",
       "group typ                                                                      \n",
       "comm  Services                           114.646120    42.900227   85.453653   \n",
       "      Food services                      820.440000   125.188571  298.847619   \n",
       "      Lodging                             79.161081    23.435315   74.837117   \n",
       "      Office building                     55.291667    31.980083   92.729167   \n",
       "      Warehous/Storage                   101.099570     1.860645   41.330108   \n",
       "indu  Chemical - Pharmaceutical/Medical  183.492971     9.645261  198.687800   \n",
       "      Fabricated metal products           33.160702     1.528521  228.669574   \n",
       "      Food                               483.129187   275.699073  255.629133   \n",
       "      Furniture                           39.597494     2.899449  172.696441   \n",
       "      Machinery                           27.536797    24.687100  230.904416   \n",
       "      Plastic/Rubber products             31.946667  1396.809143  516.179810   \n",
       "      Textiles - Apparel                  82.170370    16.185185  243.263426   \n",
       "\n",
       "                                             sqm  entities         p  \n",
       "group typ                                                             \n",
       "comm  Services                            3600.0      7610  0.383472  \n",
       "      Food services                        525.0      3020  0.152179  \n",
       "      Lodging                            11100.0       259  0.013051  \n",
       "      Office building                    12000.0      8099  0.408113  \n",
       "      Warehous/Storage                    4650.0       130  0.006551  \n",
       "indu  Chemical - Pharmaceutical/Medical    105.0        40  0.002016  \n",
       "      Fabricated metal products            105.0        95  0.004787  \n",
       "      Food                                  39.0       362  0.018241  \n",
       "      Furniture                            105.0        45  0.002268  \n",
       "      Machinery                            105.0        78  0.003930  \n",
       "      Plastic/Rubber products              105.0        18  0.000907  \n",
       "      Textiles - Apparel                    36.0        89  0.004485  "
      ]
     },
     "execution_count": 4,
     "metadata": {},
     "output_type": "execute_result"
    }
   ],
   "source": [
    "TypesB"
   ]
  },
  {
   "cell_type": "code",
   "execution_count": 5,
   "metadata": {},
   "outputs": [],
   "source": [
    "sub_typ = TypesB.loc[:, ['heat', 'cool', 'sqm', 'entities']]"
   ]
  },
  {
   "cell_type": "code",
   "execution_count": 6,
   "metadata": {},
   "outputs": [],
   "source": [
    "sub_typ_sum = sub_typ.loc[:, ['heat', 'cool']].mul(sub_typ.sqm.mul(sub_typ.entities), axis=0).sum()"
   ]
  },
  {
   "cell_type": "code",
   "execution_count": 7,
   "metadata": {},
   "outputs": [
    {
     "data": {
      "text/plain": [
       "heat    0.689349\n",
       "cool    0.310651\n",
       "dtype: float64"
      ]
     },
     "execution_count": 7,
     "metadata": {},
     "output_type": "execute_result"
    }
   ],
   "source": [
    "sub_typ_sum.div(sub_typ_sum.sum())"
   ]
  },
  {
   "cell_type": "code",
   "execution_count": 8,
   "metadata": {
    "collapsed": true
   },
   "outputs": [],
   "source": [
    "input_sd = 0.01"
   ]
  },
  {
   "cell_type": "code",
   "execution_count": 9,
   "metadata": {
    "collapsed": true
   },
   "outputs": [],
   "source": [
    "nrb_elec = pd.DataFrame(columns=['co_mu', 'co_sd', 'p', 'dis', 'lb', 'ub'])"
   ]
  },
  {
   "cell_type": "code",
   "execution_count": 10,
   "metadata": {
    "collapsed": true
   },
   "outputs": [],
   "source": [
    "nrb_elec.loc['BuildingSqm', 'co_mu'] = \",\".join([str(i) for i in TypesB.loc[:, 'sqm']])\n",
    "nrb_elec.loc['BuildingSqm', 'co_sd'] = \",\".join([str(i * input_sd) for i in TypesB.loc[:, 'sqm']])\n",
    "nrb_elec.loc['BuildingSqm', 'dis'] = \"Deterministic;n;Categorical\"\n",
    "\n",
    "nrb_elec.loc['BuildingHeat', 'co_mu'] = \",\".join([str(i) for i in TypesB.loc[:, 'heat']])\n",
    "nrb_elec.loc['BuildingHeat', 'co_sd'] = \",\".join([str(i * input_sd) for i in TypesB.loc[:, 'heat']])\n",
    "nrb_elec.loc['BuildingHeat', 'dis'] = \"Deterministic;BuildingSqm;Categorical\"\n",
    "\n",
    "nrb_elec.loc['BuildingCool', 'co_mu'] = \",\".join([str(i) for i in TypesB.loc[:, 'cool']])\n",
    "nrb_elec.loc['BuildingCool', 'co_sd'] = \",\".join([str(i * input_sd) for i in TypesB.loc[:, 'cool']])\n",
    "nrb_elec.loc['BuildingCool', 'dis'] = \"Deterministic;BuildingSqm;Categorical\"\n",
    "\n",
    "nrb_elec.loc['BuildingElec', 'co_mu'] = \",\".join([str(i) for i in TypesB.loc[:, 'elec']])\n",
    "nrb_elec.loc['BuildingElec', 'co_sd'] = \",\".join([str(i * input_sd) for i in TypesB.loc[:, 'elec']])\n",
    "nrb_elec.loc['BuildingElec', 'dis'] = \"Deterministic;BuildingSqm;Categorical\"\n",
    "\n",
    "nrb_elec.loc[:, 'p'] = \",\".join([str(i * input_sd) for i in TypesB.loc[:, 'p']])\n",
    "nrb_elec.loc[:, 'lb'] = 0"
   ]
  },
  {
   "cell_type": "code",
   "execution_count": 11,
   "metadata": {
    "collapsed": true,
    "slideshow": {
     "slide_type": "slide"
    }
   },
   "outputs": [],
   "source": [
    "nrb_elec.to_csv('data/table_elec_nr.csv')"
   ]
  },
  {
   "cell_type": "code",
   "execution_count": 12,
   "metadata": {},
   "outputs": [
    {
     "data": {
      "text/html": [
       "<div>\n",
       "<style scoped>\n",
       "    .dataframe tbody tr th:only-of-type {\n",
       "        vertical-align: middle;\n",
       "    }\n",
       "\n",
       "    .dataframe tbody tr th {\n",
       "        vertical-align: top;\n",
       "    }\n",
       "\n",
       "    .dataframe thead th {\n",
       "        text-align: right;\n",
       "    }\n",
       "</style>\n",
       "<table border=\"1\" class=\"dataframe\">\n",
       "  <thead>\n",
       "    <tr style=\"text-align: right;\">\n",
       "      <th></th>\n",
       "      <th>co_mu</th>\n",
       "      <th>co_sd</th>\n",
       "      <th>p</th>\n",
       "      <th>dis</th>\n",
       "      <th>lb</th>\n",
       "      <th>ub</th>\n",
       "    </tr>\n",
       "  </thead>\n",
       "  <tbody>\n",
       "    <tr>\n",
       "      <th>BuildingSqm</th>\n",
       "      <td>3600.0,525.0,11100.0,12000.0,4650.0,105.0,105....</td>\n",
       "      <td>36.0,5.25,111.0,120.0,46.5,1.05,1.05,0.39,1.05...</td>\n",
       "      <td>0.00383471907281,0.00152179390275,0.0001305114...</td>\n",
       "      <td>Deterministic;n;Categorical</td>\n",
       "      <td>0</td>\n",
       "      <td>NaN</td>\n",
       "    </tr>\n",
       "    <tr>\n",
       "      <th>BuildingHeat</th>\n",
       "      <td>114.64612041392596,820.44,79.16108108108108,55...</td>\n",
       "      <td>1.1464612041392597,8.204400000000001,0.7916108...</td>\n",
       "      <td>0.00383471907281,0.00152179390275,0.0001305114...</td>\n",
       "      <td>Deterministic;BuildingSqm;Categorical</td>\n",
       "      <td>0</td>\n",
       "      <td>NaN</td>\n",
       "    </tr>\n",
       "    <tr>\n",
       "      <th>BuildingCool</th>\n",
       "      <td>42.90022677542567,125.18857142857142,23.435315...</td>\n",
       "      <td>0.4290022677542567,1.2518857142857143,0.234353...</td>\n",
       "      <td>0.00383471907281,0.00152179390275,0.0001305114...</td>\n",
       "      <td>Deterministic;BuildingSqm;Categorical</td>\n",
       "      <td>0</td>\n",
       "      <td>NaN</td>\n",
       "    </tr>\n",
       "    <tr>\n",
       "      <th>BuildingElec</th>\n",
       "      <td>85.45365281064835,298.84761904761905,74.837117...</td>\n",
       "      <td>0.8545365281064835,2.9884761904761907,0.748371...</td>\n",
       "      <td>0.00383471907281,0.00152179390275,0.0001305114...</td>\n",
       "      <td>Deterministic;BuildingSqm;Categorical</td>\n",
       "      <td>0</td>\n",
       "      <td>NaN</td>\n",
       "    </tr>\n",
       "  </tbody>\n",
       "</table>\n",
       "</div>"
      ],
      "text/plain": [
       "                                                          co_mu  \\\n",
       "BuildingSqm   3600.0,525.0,11100.0,12000.0,4650.0,105.0,105....   \n",
       "BuildingHeat  114.64612041392596,820.44,79.16108108108108,55...   \n",
       "BuildingCool  42.90022677542567,125.18857142857142,23.435315...   \n",
       "BuildingElec  85.45365281064835,298.84761904761905,74.837117...   \n",
       "\n",
       "                                                          co_sd  \\\n",
       "BuildingSqm   36.0,5.25,111.0,120.0,46.5,1.05,1.05,0.39,1.05...   \n",
       "BuildingHeat  1.1464612041392597,8.204400000000001,0.7916108...   \n",
       "BuildingCool  0.4290022677542567,1.2518857142857143,0.234353...   \n",
       "BuildingElec  0.8545365281064835,2.9884761904761907,0.748371...   \n",
       "\n",
       "                                                              p  \\\n",
       "BuildingSqm   0.00383471907281,0.00152179390275,0.0001305114...   \n",
       "BuildingHeat  0.00383471907281,0.00152179390275,0.0001305114...   \n",
       "BuildingCool  0.00383471907281,0.00152179390275,0.0001305114...   \n",
       "BuildingElec  0.00383471907281,0.00152179390275,0.0001305114...   \n",
       "\n",
       "                                                dis  lb   ub  \n",
       "BuildingSqm             Deterministic;n;Categorical   0  NaN  \n",
       "BuildingHeat  Deterministic;BuildingSqm;Categorical   0  NaN  \n",
       "BuildingCool  Deterministic;BuildingSqm;Categorical   0  NaN  \n",
       "BuildingElec  Deterministic;BuildingSqm;Categorical   0  NaN  "
      ]
     },
     "execution_count": 12,
     "metadata": {},
     "output_type": "execute_result"
    }
   ],
   "source": [
    "nrb_elec"
   ]
  },
  {
   "cell_type": "markdown",
   "metadata": {
    "slideshow": {
     "slide_type": "slide"
    }
   },
   "source": [
    "-----\n",
    "\n",
    "[UN Environment](http://www.unep.org/)\n",
    "\n",
    "[Home](Welcome.ipynb)\n",
    "\n",
    "[Next](Bb_GREGWT_NonResidential.ipynb) (2.b) Dynamic Sampling Model and GREGWT for Non-Residential sector"
   ]
  }
 ],
 "metadata": {
  "kernelspec": {
   "display_name": "Python 3",
   "language": "python",
   "name": "python3"
  },
  "language_info": {
   "codemirror_mode": {
    "name": "ipython",
    "version": 3
   },
   "file_extension": ".py",
   "mimetype": "text/x-python",
   "name": "python",
   "nbconvert_exporter": "python",
   "pygments_lexer": "ipython3",
   "version": "3.6.4"
  }
 },
 "nbformat": 4,
 "nbformat_minor": 2
}
